{
 "cells": [
  {
   "cell_type": "markdown",
   "metadata": {},
   "source": [
    "# HR Employee Attrition"
   ]
  },
  {
   "cell_type": "markdown",
   "metadata": {},
   "source": [
    "## Load and Explore Data"
   ]
  },
  {
   "cell_type": "code",
   "execution_count": 23,
   "metadata": {},
   "outputs": [],
   "source": [
    "import pandas as pd\n",
    "import plotly.express as px\n",
    "from sklearn.model_selection import train_test_split\n",
    "from sklearn.preprocessing import LabelEncoder, StandardScaler\n",
    "from sklearn.linear_model import LogisticRegression\n",
    "from sklearn.metrics import accuracy_score, classification_report\n",
    "\n",
    "\n",
    "# Load your dataset\n",
    "df = pd.read_csv(\"HR-Employee-Attrition.csv\")"
   ]
  },
  {
   "cell_type": "code",
   "execution_count": 24,
   "metadata": {},
   "outputs": [
    {
     "data": {
      "text/plain": [
       "{'duplicate_rows': 0,\n",
       " 'missing_values': {},\n",
       " 'summary_statistics': {'Age': {'count': 1470.0,\n",
       "   'mean': 36.923809523809524,\n",
       "   'std': 9.135373489136734,\n",
       "   'min': 18.0,\n",
       "   '25%': 30.0,\n",
       "   '50%': 36.0,\n",
       "   '75%': 43.0,\n",
       "   'max': 60.0},\n",
       "  'DailyRate': {'count': 1470.0,\n",
       "   'mean': 802.4857142857143,\n",
       "   'std': 403.50909994352827,\n",
       "   'min': 102.0,\n",
       "   '25%': 465.0,\n",
       "   '50%': 802.0,\n",
       "   '75%': 1157.0,\n",
       "   'max': 1499.0},\n",
       "  'DistanceFromHome': {'count': 1470.0,\n",
       "   'mean': 9.19251700680272,\n",
       "   'std': 8.106864435666084,\n",
       "   'min': 1.0,\n",
       "   '25%': 2.0,\n",
       "   '50%': 7.0,\n",
       "   '75%': 14.0,\n",
       "   'max': 29.0},\n",
       "  'Education': {'count': 1470.0,\n",
       "   'mean': 2.912925170068027,\n",
       "   'std': 1.0241649445978729,\n",
       "   'min': 1.0,\n",
       "   '25%': 2.0,\n",
       "   '50%': 3.0,\n",
       "   '75%': 4.0,\n",
       "   'max': 5.0},\n",
       "  'EmployeeCount': {'count': 1470.0,\n",
       "   'mean': 1.0,\n",
       "   'std': 0.0,\n",
       "   'min': 1.0,\n",
       "   '25%': 1.0,\n",
       "   '50%': 1.0,\n",
       "   '75%': 1.0,\n",
       "   'max': 1.0},\n",
       "  'EmployeeNumber': {'count': 1470.0,\n",
       "   'mean': 1024.865306122449,\n",
       "   'std': 602.024334847475,\n",
       "   'min': 1.0,\n",
       "   '25%': 491.25,\n",
       "   '50%': 1020.5,\n",
       "   '75%': 1555.75,\n",
       "   'max': 2068.0},\n",
       "  'EnvironmentSatisfaction': {'count': 1470.0,\n",
       "   'mean': 2.721768707482993,\n",
       "   'std': 1.0930822146349994,\n",
       "   'min': 1.0,\n",
       "   '25%': 2.0,\n",
       "   '50%': 3.0,\n",
       "   '75%': 4.0,\n",
       "   'max': 4.0},\n",
       "  'HourlyRate': {'count': 1470.0,\n",
       "   'mean': 65.89115646258503,\n",
       "   'std': 20.329427593996158,\n",
       "   'min': 30.0,\n",
       "   '25%': 48.0,\n",
       "   '50%': 66.0,\n",
       "   '75%': 83.75,\n",
       "   'max': 100.0},\n",
       "  'JobInvolvement': {'count': 1470.0,\n",
       "   'mean': 2.7299319727891156,\n",
       "   'std': 0.7115611429632283,\n",
       "   'min': 1.0,\n",
       "   '25%': 2.0,\n",
       "   '50%': 3.0,\n",
       "   '75%': 3.0,\n",
       "   'max': 4.0},\n",
       "  'JobLevel': {'count': 1470.0,\n",
       "   'mean': 2.0639455782312925,\n",
       "   'std': 1.1069398989351114,\n",
       "   'min': 1.0,\n",
       "   '25%': 1.0,\n",
       "   '50%': 2.0,\n",
       "   '75%': 3.0,\n",
       "   'max': 5.0},\n",
       "  'JobSatisfaction': {'count': 1470.0,\n",
       "   'mean': 2.7285714285714286,\n",
       "   'std': 1.1028461230547149,\n",
       "   'min': 1.0,\n",
       "   '25%': 2.0,\n",
       "   '50%': 3.0,\n",
       "   '75%': 4.0,\n",
       "   'max': 4.0},\n",
       "  'MonthlyIncome': {'count': 1470.0,\n",
       "   'mean': 6502.931292517007,\n",
       "   'std': 4707.956783097995,\n",
       "   'min': 1009.0,\n",
       "   '25%': 2911.0,\n",
       "   '50%': 4919.0,\n",
       "   '75%': 8379.0,\n",
       "   'max': 19999.0},\n",
       "  'MonthlyRate': {'count': 1470.0,\n",
       "   'mean': 14313.103401360544,\n",
       "   'std': 7117.786044059973,\n",
       "   'min': 2094.0,\n",
       "   '25%': 8047.0,\n",
       "   '50%': 14235.5,\n",
       "   '75%': 20461.5,\n",
       "   'max': 26999.0},\n",
       "  'NumCompaniesWorked': {'count': 1470.0,\n",
       "   'mean': 2.6931972789115646,\n",
       "   'std': 2.498009006070751,\n",
       "   'min': 0.0,\n",
       "   '25%': 1.0,\n",
       "   '50%': 2.0,\n",
       "   '75%': 4.0,\n",
       "   'max': 9.0},\n",
       "  'PercentSalaryHike': {'count': 1470.0,\n",
       "   'mean': 15.209523809523809,\n",
       "   'std': 3.659937716539636,\n",
       "   'min': 11.0,\n",
       "   '25%': 12.0,\n",
       "   '50%': 14.0,\n",
       "   '75%': 18.0,\n",
       "   'max': 25.0},\n",
       "  'PerformanceRating': {'count': 1470.0,\n",
       "   'mean': 3.1537414965986397,\n",
       "   'std': 0.36082352460434486,\n",
       "   'min': 3.0,\n",
       "   '25%': 3.0,\n",
       "   '50%': 3.0,\n",
       "   '75%': 3.0,\n",
       "   'max': 4.0},\n",
       "  'RelationshipSatisfaction': {'count': 1470.0,\n",
       "   'mean': 2.7122448979591836,\n",
       "   'std': 1.081208886440361,\n",
       "   'min': 1.0,\n",
       "   '25%': 2.0,\n",
       "   '50%': 3.0,\n",
       "   '75%': 4.0,\n",
       "   'max': 4.0},\n",
       "  'StandardHours': {'count': 1470.0,\n",
       "   'mean': 80.0,\n",
       "   'std': 0.0,\n",
       "   'min': 80.0,\n",
       "   '25%': 80.0,\n",
       "   '50%': 80.0,\n",
       "   '75%': 80.0,\n",
       "   'max': 80.0},\n",
       "  'StockOptionLevel': {'count': 1470.0,\n",
       "   'mean': 0.7938775510204081,\n",
       "   'std': 0.8520766679308365,\n",
       "   'min': 0.0,\n",
       "   '25%': 0.0,\n",
       "   '50%': 1.0,\n",
       "   '75%': 1.0,\n",
       "   'max': 3.0},\n",
       "  'TotalWorkingYears': {'count': 1470.0,\n",
       "   'mean': 11.279591836734694,\n",
       "   'std': 7.780781675515004,\n",
       "   'min': 0.0,\n",
       "   '25%': 6.0,\n",
       "   '50%': 10.0,\n",
       "   '75%': 15.0,\n",
       "   'max': 40.0},\n",
       "  'TrainingTimesLastYear': {'count': 1470.0,\n",
       "   'mean': 2.7993197278911564,\n",
       "   'std': 1.2892706207958435,\n",
       "   'min': 0.0,\n",
       "   '25%': 2.0,\n",
       "   '50%': 3.0,\n",
       "   '75%': 3.0,\n",
       "   'max': 6.0},\n",
       "  'WorkLifeBalance': {'count': 1470.0,\n",
       "   'mean': 2.7612244897959184,\n",
       "   'std': 0.7064758297141522,\n",
       "   'min': 1.0,\n",
       "   '25%': 2.0,\n",
       "   '50%': 3.0,\n",
       "   '75%': 3.0,\n",
       "   'max': 4.0},\n",
       "  'YearsAtCompany': {'count': 1470.0,\n",
       "   'mean': 7.0081632653061225,\n",
       "   'std': 6.126525152403566,\n",
       "   'min': 0.0,\n",
       "   '25%': 3.0,\n",
       "   '50%': 5.0,\n",
       "   '75%': 9.0,\n",
       "   'max': 40.0},\n",
       "  'YearsInCurrentRole': {'count': 1470.0,\n",
       "   'mean': 4.229251700680272,\n",
       "   'std': 3.6231370346706395,\n",
       "   'min': 0.0,\n",
       "   '25%': 2.0,\n",
       "   '50%': 3.0,\n",
       "   '75%': 7.0,\n",
       "   'max': 18.0},\n",
       "  'YearsSinceLastPromotion': {'count': 1470.0,\n",
       "   'mean': 2.1877551020408164,\n",
       "   'std': 3.222430279137968,\n",
       "   'min': 0.0,\n",
       "   '25%': 0.0,\n",
       "   '50%': 1.0,\n",
       "   '75%': 3.0,\n",
       "   'max': 15.0},\n",
       "  'YearsWithCurrManager': {'count': 1470.0,\n",
       "   'mean': 4.12312925170068,\n",
       "   'std': 3.5681361205404407,\n",
       "   'min': 0.0,\n",
       "   '25%': 2.0,\n",
       "   '50%': 3.0,\n",
       "   '75%': 7.0,\n",
       "   'max': 17.0}},\n",
       " 'unique_values': {'Age': 43,\n",
       "  'Attrition': 2,\n",
       "  'BusinessTravel': 3,\n",
       "  'DailyRate': 886,\n",
       "  'Department': 3,\n",
       "  'DistanceFromHome': 29,\n",
       "  'Education': 5,\n",
       "  'EducationField': 6,\n",
       "  'EmployeeCount': 1,\n",
       "  'EmployeeNumber': 1470,\n",
       "  'EnvironmentSatisfaction': 4,\n",
       "  'Gender': 2,\n",
       "  'HourlyRate': 71,\n",
       "  'JobInvolvement': 4,\n",
       "  'JobLevel': 5,\n",
       "  'JobRole': 9,\n",
       "  'JobSatisfaction': 4,\n",
       "  'MaritalStatus': 3,\n",
       "  'MonthlyIncome': 1349,\n",
       "  'MonthlyRate': 1427,\n",
       "  'NumCompaniesWorked': 10,\n",
       "  'Over18': 1,\n",
       "  'OverTime': 2,\n",
       "  'PercentSalaryHike': 15,\n",
       "  'PerformanceRating': 2,\n",
       "  'RelationshipSatisfaction': 4,\n",
       "  'StandardHours': 1,\n",
       "  'StockOptionLevel': 4,\n",
       "  'TotalWorkingYears': 40,\n",
       "  'TrainingTimesLastYear': 7,\n",
       "  'WorkLifeBalance': 4,\n",
       "  'YearsAtCompany': 37,\n",
       "  'YearsInCurrentRole': 19,\n",
       "  'YearsSinceLastPromotion': 16,\n",
       "  'YearsWithCurrManager': 18},\n",
       " 'data_types': {'Age': dtype('int64'),\n",
       "  'Attrition': dtype('O'),\n",
       "  'BusinessTravel': dtype('O'),\n",
       "  'DailyRate': dtype('int64'),\n",
       "  'Department': dtype('O'),\n",
       "  'DistanceFromHome': dtype('int64'),\n",
       "  'Education': dtype('int64'),\n",
       "  'EducationField': dtype('O'),\n",
       "  'EmployeeCount': dtype('int64'),\n",
       "  'EmployeeNumber': dtype('int64'),\n",
       "  'EnvironmentSatisfaction': dtype('int64'),\n",
       "  'Gender': dtype('O'),\n",
       "  'HourlyRate': dtype('int64'),\n",
       "  'JobInvolvement': dtype('int64'),\n",
       "  'JobLevel': dtype('int64'),\n",
       "  'JobRole': dtype('O'),\n",
       "  'JobSatisfaction': dtype('int64'),\n",
       "  'MaritalStatus': dtype('O'),\n",
       "  'MonthlyIncome': dtype('int64'),\n",
       "  'MonthlyRate': dtype('int64'),\n",
       "  'NumCompaniesWorked': dtype('int64'),\n",
       "  'Over18': dtype('O'),\n",
       "  'OverTime': dtype('O'),\n",
       "  'PercentSalaryHike': dtype('int64'),\n",
       "  'PerformanceRating': dtype('int64'),\n",
       "  'RelationshipSatisfaction': dtype('int64'),\n",
       "  'StandardHours': dtype('int64'),\n",
       "  'StockOptionLevel': dtype('int64'),\n",
       "  'TotalWorkingYears': dtype('int64'),\n",
       "  'TrainingTimesLastYear': dtype('int64'),\n",
       "  'WorkLifeBalance': dtype('int64'),\n",
       "  'YearsAtCompany': dtype('int64'),\n",
       "  'YearsInCurrentRole': dtype('int64'),\n",
       "  'YearsSinceLastPromotion': dtype('int64'),\n",
       "  'YearsWithCurrManager': dtype('int64')}}"
      ]
     },
     "execution_count": 24,
     "metadata": {},
     "output_type": "execute_result"
    }
   ],
   "source": [
    "# Check for duplicates\n",
    "duplicate_rows = df.duplicated().sum()\n",
    "\n",
    "# Check for missing values\n",
    "missing_values = df.isnull().sum()\n",
    "\n",
    "# Get summary statistics\n",
    "summary_statistics = df.describe()\n",
    "\n",
    "# Get unique values per column\n",
    "unique_values = df.nunique()\n",
    "\n",
    "# Data types overview\n",
    "data_types = df.dtypes\n",
    "\n",
    "# Results\n",
    "data_overview = {\n",
    "    \"duplicate_rows\": duplicate_rows,\n",
    "    \"missing_values\": missing_values[missing_values > 0].to_dict(),  # Only show columns with missing values\n",
    "    \"summary_statistics\": summary_statistics.to_dict(),\n",
    "    \"unique_values\": unique_values.to_dict(),\n",
    "    \"data_types\": data_types.to_dict(),\n",
    "}\n",
    "\n",
    "data_overview\n"
   ]
  },
  {
   "cell_type": "markdown",
   "metadata": {},
   "source": [
    "###  Initial Data Analysis Summary\n",
    "    \n",
    "    Total Records: 1,470 rows\n",
    "    Duplicates: No duplicate records\n",
    "    Missing Values: No missing values\n",
    "    \n",
    "\n",
    "        Potential Issues:\n",
    "        EmployeeCount and StandardHours are constant \n",
    "        Over18 is also constant \n",
    "        EmployeeNumber is unique for each employee "
   ]
  },
  {
   "cell_type": "code",
   "execution_count": 25,
   "metadata": {},
   "outputs": [],
   "source": [
    "# Drop unnecessary columns\n",
    "columns_to_drop = [\"EmployeeCount\", \"StandardHours\", \"Over18\", \"EmployeeNumber\"]\n",
    "df_cleaned = df.drop(columns=columns_to_drop)"
   ]
  },
  {
   "cell_type": "markdown",
   "metadata": {},
   "source": [
    "## Exploratory Data Analysis EDA"
   ]
  },
  {
   "cell_type": "code",
   "execution_count": 26,
   "metadata": {},
   "outputs": [
    {
     "data": {
      "application/vnd.plotly.v1+json": {
       "config": {
        "plotlyServerURL": "https://plot.ly"
       },
       "data": [
        {
         "domain": {
          "x": [
           0,
           1
          ],
          "y": [
           0,
           1
          ]
         },
         "hole": 0.3,
         "hovertemplate": "Attrition=%{label}<extra></extra>",
         "labels": [
          "Yes",
          "No",
          "Yes",
          "No",
          "No",
          "No",
          "No",
          "No",
          "No",
          "No",
          "No",
          "No",
          "No",
          "No",
          "Yes",
          "No",
          "No",
          "No",
          "No",
          "No",
          "No",
          "Yes",
          "No",
          "No",
          "Yes",
          "No",
          "Yes",
          "No",
          "No",
          "No",
          "No",
          "No",
          "No",
          "Yes",
          "Yes",
          "No",
          "Yes",
          "No",
          "No",
          "No",
          "No",
          "No",
          "Yes",
          "No",
          "No",
          "Yes",
          "No",
          "No",
          "No",
          "No",
          "Yes",
          "Yes",
          "No",
          "No",
          "No",
          "No",
          "No",
          "No",
          "No",
          "No",
          "No",
          "No",
          "No",
          "No",
          "No",
          "No",
          "No",
          "No",
          "No",
          "Yes",
          "No",
          "No",
          "No",
          "No",
          "No",
          "No",
          "No",
          "No",
          "No",
          "No",
          "No",
          "No",
          "No",
          "No",
          "No",
          "No",
          "No",
          "No",
          "No",
          "Yes",
          "No",
          "No",
          "No",
          "No",
          "No",
          "No",
          "No",
          "No",
          "No",
          "No",
          "Yes",
          "No",
          "Yes",
          "No",
          "No",
          "No",
          "No",
          "Yes",
          "No",
          "No",
          "No",
          "Yes",
          "No",
          "No",
          "No",
          "No",
          "No",
          "No",
          "No",
          "No",
          "No",
          "No",
          "Yes",
          "No",
          "Yes",
          "No",
          "Yes",
          "Yes",
          "No",
          "No",
          "No",
          "No",
          "Yes",
          "No",
          "No",
          "No",
          "Yes",
          "No",
          "No",
          "No",
          "Yes",
          "No",
          "No",
          "No",
          "No",
          "No",
          "No",
          "No",
          "No",
          "No",
          "No",
          "No",
          "No",
          "No",
          "No",
          "No",
          "No",
          "No",
          "No",
          "No",
          "No",
          "No",
          "No",
          "No",
          "No",
          "No",
          "No",
          "No",
          "No",
          "No",
          "No",
          "Yes",
          "No",
          "No",
          "No",
          "No",
          "No",
          "Yes",
          "No",
          "No",
          "No",
          "No",
          "Yes",
          "No",
          "No",
          "No",
          "No",
          "No",
          "No",
          "No",
          "No",
          "No",
          "Yes",
          "No",
          "No",
          "No",
          "No",
          "No",
          "No",
          "No",
          "No",
          "No",
          "No",
          "No",
          "Yes",
          "Yes",
          "No",
          "No",
          "No",
          "No",
          "Yes",
          "No",
          "No",
          "No",
          "Yes",
          "No",
          "Yes",
          "Yes",
          "No",
          "No",
          "No",
          "No",
          "No",
          "No",
          "No",
          "No",
          "No",
          "No",
          "No",
          "Yes",
          "No",
          "No",
          "No",
          "No",
          "Yes",
          "No",
          "Yes",
          "No",
          "No",
          "Yes",
          "No",
          "No",
          "No",
          "No",
          "No",
          "No",
          "No",
          "No",
          "No",
          "No",
          "Yes",
          "No",
          "No",
          "No",
          "No",
          "No",
          "No",
          "No",
          "No",
          "Yes",
          "No",
          "No",
          "No",
          "No",
          "Yes",
          "No",
          "No",
          "No",
          "No",
          "No",
          "No",
          "Yes",
          "No",
          "No",
          "No",
          "No",
          "No",
          "No",
          "No",
          "No",
          "No",
          "No",
          "No",
          "No",
          "No",
          "No",
          "Yes",
          "No",
          "Yes",
          "No",
          "No",
          "No",
          "No",
          "Yes",
          "No",
          "No",
          "Yes",
          "No",
          "No",
          "No",
          "No",
          "No",
          "No",
          "No",
          "No",
          "No",
          "No",
          "No",
          "No",
          "No",
          "No",
          "No",
          "No",
          "No",
          "No",
          "No",
          "No",
          "Yes",
          "No",
          "No",
          "No",
          "No",
          "No",
          "Yes",
          "No",
          "No",
          "No",
          "Yes",
          "No",
          "No",
          "No",
          "No",
          "No",
          "No",
          "No",
          "No",
          "Yes",
          "No",
          "No",
          "No",
          "No",
          "No",
          "No",
          "No",
          "No",
          "No",
          "No",
          "No",
          "No",
          "No",
          "No",
          "No",
          "No",
          "No",
          "No",
          "No",
          "No",
          "Yes",
          "No",
          "No",
          "No",
          "No",
          "No",
          "Yes",
          "No",
          "No",
          "Yes",
          "No",
          "Yes",
          "No",
          "Yes",
          "No",
          "No",
          "No",
          "No",
          "No",
          "No",
          "No",
          "Yes",
          "No",
          "No",
          "No",
          "Yes",
          "No",
          "No",
          "Yes",
          "No",
          "No",
          "No",
          "No",
          "No",
          "No",
          "No",
          "No",
          "No",
          "No",
          "No",
          "No",
          "No",
          "No",
          "No",
          "No",
          "No",
          "No",
          "No",
          "Yes",
          "No",
          "No",
          "No",
          "No",
          "No",
          "No",
          "No",
          "No",
          "Yes",
          "Yes",
          "No",
          "No",
          "No",
          "No",
          "No",
          "Yes",
          "Yes",
          "No",
          "No",
          "No",
          "No",
          "No",
          "No",
          "No",
          "No",
          "No",
          "No",
          "No",
          "No",
          "Yes",
          "Yes",
          "No",
          "No",
          "Yes",
          "Yes",
          "No",
          "No",
          "Yes",
          "No",
          "No",
          "No",
          "No",
          "No",
          "No",
          "No",
          "No",
          "No",
          "Yes",
          "No",
          "No",
          "No",
          "Yes",
          "No",
          "No",
          "No",
          "No",
          "No",
          "Yes",
          "No",
          "No",
          "No",
          "No",
          "No",
          "Yes",
          "No",
          "No",
          "No",
          "No",
          "No",
          "No",
          "No",
          "No",
          "No",
          "Yes",
          "Yes",
          "No",
          "Yes",
          "No",
          "No",
          "No",
          "No",
          "No",
          "No",
          "No",
          "No",
          "No",
          "No",
          "No",
          "No",
          "Yes",
          "No",
          "No",
          "No",
          "No",
          "No",
          "No",
          "No",
          "No",
          "Yes",
          "No",
          "No",
          "No",
          "No",
          "No",
          "No",
          "No",
          "No",
          "Yes",
          "Yes",
          "No",
          "No",
          "No",
          "No",
          "No",
          "No",
          "No",
          "No",
          "No",
          "No",
          "Yes",
          "No",
          "No",
          "Yes",
          "No",
          "No",
          "No",
          "No",
          "No",
          "No",
          "No",
          "No",
          "No",
          "No",
          "No",
          "Yes",
          "No",
          "No",
          "No",
          "No",
          "No",
          "No",
          "Yes",
          "No",
          "No",
          "No",
          "No",
          "No",
          "No",
          "No",
          "No",
          "No",
          "No",
          "No",
          "No",
          "No",
          "No",
          "Yes",
          "No",
          "No",
          "No",
          "Yes",
          "No",
          "Yes",
          "No",
          "No",
          "No",
          "No",
          "Yes",
          "No",
          "No",
          "No",
          "No",
          "No",
          "No",
          "No",
          "No",
          "No",
          "No",
          "No",
          "Yes",
          "No",
          "No",
          "No",
          "Yes",
          "No",
          "Yes",
          "No",
          "No",
          "No",
          "Yes",
          "No",
          "No",
          "Yes",
          "No",
          "No",
          "No",
          "No",
          "No",
          "No",
          "No",
          "No",
          "Yes",
          "Yes",
          "No",
          "No",
          "No",
          "No",
          "No",
          "Yes",
          "No",
          "No",
          "No",
          "No",
          "No",
          "No",
          "No",
          "No",
          "No",
          "No",
          "No",
          "No",
          "No",
          "No",
          "No",
          "No",
          "No",
          "No",
          "No",
          "No",
          "No",
          "Yes",
          "No",
          "No",
          "No",
          "No",
          "No",
          "No",
          "No",
          "No",
          "Yes",
          "No",
          "No",
          "No",
          "No",
          "No",
          "No",
          "No",
          "No",
          "No",
          "No",
          "Yes",
          "No",
          "No",
          "No",
          "Yes",
          "No",
          "Yes",
          "Yes",
          "No",
          "No",
          "Yes",
          "Yes",
          "No",
          "Yes",
          "No",
          "No",
          "No",
          "No",
          "No",
          "No",
          "No",
          "No",
          "No",
          "No",
          "No",
          "No",
          "No",
          "Yes",
          "No",
          "No",
          "No",
          "No",
          "Yes",
          "Yes",
          "No",
          "No",
          "No",
          "Yes",
          "No",
          "Yes",
          "No",
          "No",
          "No",
          "No",
          "Yes",
          "No",
          "No",
          "No",
          "No",
          "No",
          "Yes",
          "No",
          "No",
          "Yes",
          "No",
          "Yes",
          "No",
          "No",
          "No",
          "No",
          "No",
          "No",
          "No",
          "No",
          "Yes",
          "No",
          "No",
          "No",
          "No",
          "Yes",
          "No",
          "No",
          "No",
          "No",
          "No",
          "Yes",
          "Yes",
          "No",
          "No",
          "No",
          "No",
          "No",
          "No",
          "No",
          "No",
          "No",
          "No",
          "No",
          "Yes",
          "No",
          "No",
          "No",
          "Yes",
          "Yes",
          "No",
          "No",
          "Yes",
          "No",
          "No",
          "No",
          "No",
          "No",
          "No",
          "No",
          "No",
          "Yes",
          "Yes",
          "No",
          "No",
          "No",
          "No",
          "No",
          "No",
          "No",
          "No",
          "No",
          "No",
          "No",
          "No",
          "No",
          "Yes",
          "Yes",
          "No",
          "Yes",
          "Yes",
          "No",
          "No",
          "No",
          "No",
          "No",
          "No",
          "No",
          "No",
          "Yes",
          "No",
          "Yes",
          "Yes",
          "No",
          "No",
          "No",
          "Yes",
          "Yes",
          "Yes",
          "No",
          "Yes",
          "Yes",
          "No",
          "No",
          "No",
          "No",
          "No",
          "No",
          "No",
          "No",
          "No",
          "No",
          "No",
          "Yes",
          "No",
          "No",
          "No",
          "No",
          "No",
          "No",
          "No",
          "No",
          "No",
          "No",
          "No",
          "No",
          "No",
          "No",
          "Yes",
          "Yes",
          "No",
          "Yes",
          "No",
          "No",
          "No",
          "No",
          "Yes",
          "No",
          "Yes",
          "No",
          "No",
          "No",
          "Yes",
          "No",
          "No",
          "No",
          "No",
          "No",
          "No",
          "Yes",
          "No",
          "No",
          "No",
          "No",
          "No",
          "No",
          "No",
          "Yes",
          "No",
          "No",
          "Yes",
          "No",
          "No",
          "No",
          "Yes",
          "No",
          "No",
          "No",
          "No",
          "No",
          "No",
          "Yes",
          "No",
          "No",
          "No",
          "No",
          "No",
          "No",
          "No",
          "No",
          "No",
          "No",
          "No",
          "No",
          "No",
          "No",
          "No",
          "No",
          "No",
          "No",
          "No",
          "No",
          "Yes",
          "No",
          "No",
          "No",
          "No",
          "No",
          "No",
          "No",
          "No",
          "No",
          "No",
          "No",
          "No",
          "No",
          "No",
          "No",
          "No",
          "No",
          "No",
          "Yes",
          "No",
          "Yes",
          "No",
          "Yes",
          "No",
          "No",
          "No",
          "No",
          "No",
          "No",
          "No",
          "No",
          "No",
          "No",
          "No",
          "No",
          "Yes",
          "No",
          "No",
          "No",
          "Yes",
          "No",
          "No",
          "No",
          "No",
          "No",
          "No",
          "Yes",
          "Yes",
          "No",
          "No",
          "No",
          "No",
          "No",
          "Yes",
          "Yes",
          "No",
          "No",
          "No",
          "No",
          "Yes",
          "Yes",
          "No",
          "No",
          "No",
          "No",
          "No",
          "No",
          "No",
          "No",
          "No",
          "No",
          "No",
          "No",
          "Yes",
          "No",
          "No",
          "No",
          "No",
          "No",
          "No",
          "No",
          "No",
          "Yes",
          "No",
          "No",
          "No",
          "No",
          "Yes",
          "Yes",
          "No",
          "No",
          "No",
          "Yes",
          "No",
          "No",
          "No",
          "No",
          "No",
          "No",
          "No",
          "No",
          "No",
          "No",
          "No",
          "Yes",
          "No",
          "No",
          "No",
          "No",
          "No",
          "No",
          "No",
          "No",
          "Yes",
          "Yes",
          "No",
          "No",
          "No",
          "No",
          "Yes",
          "No",
          "No",
          "No",
          "Yes",
          "No",
          "No",
          "No",
          "No",
          "Yes",
          "No",
          "No",
          "No",
          "No",
          "No",
          "No",
          "No",
          "No",
          "No",
          "Yes",
          "Yes",
          "Yes",
          "No",
          "No",
          "Yes",
          "No",
          "No",
          "Yes",
          "No",
          "No",
          "No",
          "No",
          "No",
          "No",
          "No",
          "No",
          "No",
          "No",
          "No",
          "No",
          "No",
          "No",
          "No",
          "No",
          "Yes",
          "Yes",
          "Yes",
          "No",
          "Yes",
          "No",
          "No",
          "No",
          "No",
          "No",
          "No",
          "No",
          "Yes",
          "No",
          "No",
          "No",
          "No",
          "No",
          "No",
          "No",
          "No",
          "Yes",
          "No",
          "No",
          "No",
          "No",
          "No",
          "Yes",
          "No",
          "Yes",
          "No",
          "No",
          "No",
          "No",
          "No",
          "No",
          "No",
          "No",
          "No",
          "No",
          "No",
          "No",
          "No",
          "No",
          "No",
          "No",
          "No",
          "No",
          "No",
          "No",
          "Yes",
          "No",
          "No",
          "No",
          "Yes",
          "Yes",
          "Yes",
          "No",
          "No",
          "No",
          "No",
          "No",
          "No",
          "No",
          "No",
          "No",
          "No",
          "No",
          "No",
          "No",
          "No",
          "No",
          "No",
          "No",
          "No",
          "No",
          "No",
          "No",
          "No",
          "No",
          "Yes",
          "No",
          "No",
          "No",
          "No",
          "No",
          "No",
          "No",
          "No",
          "No",
          "No",
          "No",
          "No",
          "No",
          "No",
          "No",
          "No",
          "Yes",
          "No",
          "No",
          "No",
          "No",
          "No",
          "No",
          "No",
          "No",
          "Yes",
          "No",
          "No",
          "No",
          "No",
          "Yes",
          "No",
          "No",
          "No",
          "Yes",
          "No",
          "No",
          "No",
          "No",
          "No",
          "No",
          "No",
          "No",
          "No",
          "No",
          "No",
          "No",
          "No",
          "No",
          "Yes",
          "No",
          "No",
          "No",
          "No",
          "No",
          "No",
          "No",
          "No",
          "No",
          "No",
          "No",
          "No",
          "No",
          "No",
          "Yes",
          "No",
          "No",
          "Yes",
          "Yes",
          "No",
          "No",
          "No",
          "No",
          "No",
          "No",
          "No",
          "Yes",
          "No",
          "No",
          "No",
          "No",
          "No",
          "No",
          "No",
          "No",
          "Yes",
          "Yes",
          "No",
          "No",
          "No",
          "No",
          "No",
          "No",
          "No",
          "No",
          "No",
          "No",
          "No",
          "No",
          "Yes",
          "Yes",
          "No",
          "No",
          "No",
          "No",
          "No",
          "No",
          "No",
          "No",
          "Yes",
          "No",
          "No",
          "Yes",
          "No",
          "No",
          "No",
          "No",
          "No",
          "Yes",
          "No",
          "Yes",
          "No",
          "No",
          "No",
          "No",
          "Yes",
          "No",
          "No",
          "No",
          "No",
          "No",
          "No",
          "No",
          "No",
          "Yes",
          "No",
          "Yes",
          "No",
          "No",
          "No",
          "No",
          "No",
          "Yes",
          "No",
          "Yes",
          "No",
          "No",
          "No",
          "No",
          "No",
          "No",
          "No",
          "No",
          "Yes",
          "Yes",
          "No",
          "No",
          "No",
          "No",
          "No",
          "Yes",
          "Yes",
          "No",
          "No",
          "No",
          "No",
          "No",
          "No",
          "No",
          "No",
          "No",
          "No",
          "No",
          "No",
          "No",
          "Yes",
          "Yes",
          "No",
          "No",
          "No",
          "No",
          "No",
          "No",
          "No",
          "No",
          "No",
          "No",
          "No",
          "No",
          "Yes",
          "No",
          "No",
          "No",
          "No",
          "No",
          "Yes",
          "Yes",
          "No",
          "No",
          "No",
          "No",
          "Yes",
          "Yes",
          "No",
          "No",
          "No",
          "No",
          "No",
          "No",
          "No",
          "No",
          "No",
          "No",
          "No",
          "No",
          "No",
          "Yes",
          "Yes",
          "No",
          "No",
          "No",
          "No",
          "No",
          "No",
          "No",
          "No",
          "No",
          "No",
          "Yes",
          "No",
          "No",
          "No",
          "Yes",
          "No",
          "No",
          "No",
          "No",
          "No",
          "Yes",
          "No",
          "No",
          "No",
          "Yes",
          "No",
          "No",
          "No",
          "No",
          "No",
          "No",
          "No",
          "No",
          "No",
          "No",
          "Yes",
          "No",
          "No",
          "No",
          "No",
          "Yes",
          "Yes",
          "No",
          "No",
          "No",
          "No",
          "No",
          "No",
          "No",
          "No",
          "No",
          "No",
          "No",
          "No",
          "No",
          "No",
          "No",
          "No",
          "No",
          "No",
          "No",
          "No",
          "No",
          "No",
          "No",
          "No",
          "No",
          "No",
          "No",
          "No",
          "No",
          "No",
          "No",
          "No",
          "No",
          "No",
          "No",
          "No",
          "No",
          "No",
          "No",
          "No",
          "No",
          "Yes",
          "No",
          "No",
          "No",
          "Yes",
          "No",
          "Yes",
          "No",
          "No",
          "No",
          "No",
          "No",
          "No",
          "No",
          "Yes",
          "No",
          "No",
          "No",
          "No",
          "No",
          "No",
          "No",
          "No",
          "Yes",
          "No",
          "No",
          "No",
          "No",
          "No",
          "No",
          "No",
          "No"
         ],
         "legendgroup": "",
         "name": "",
         "showlegend": true,
         "type": "pie"
        }
       ],
       "layout": {
        "legend": {
         "tracegroupgap": 0
        },
        "template": {
         "data": {
          "bar": [
           {
            "error_x": {
             "color": "#2a3f5f"
            },
            "error_y": {
             "color": "#2a3f5f"
            },
            "marker": {
             "line": {
              "color": "#E5ECF6",
              "width": 0.5
             },
             "pattern": {
              "fillmode": "overlay",
              "size": 10,
              "solidity": 0.2
             }
            },
            "type": "bar"
           }
          ],
          "barpolar": [
           {
            "marker": {
             "line": {
              "color": "#E5ECF6",
              "width": 0.5
             },
             "pattern": {
              "fillmode": "overlay",
              "size": 10,
              "solidity": 0.2
             }
            },
            "type": "barpolar"
           }
          ],
          "carpet": [
           {
            "aaxis": {
             "endlinecolor": "#2a3f5f",
             "gridcolor": "white",
             "linecolor": "white",
             "minorgridcolor": "white",
             "startlinecolor": "#2a3f5f"
            },
            "baxis": {
             "endlinecolor": "#2a3f5f",
             "gridcolor": "white",
             "linecolor": "white",
             "minorgridcolor": "white",
             "startlinecolor": "#2a3f5f"
            },
            "type": "carpet"
           }
          ],
          "choropleth": [
           {
            "colorbar": {
             "outlinewidth": 0,
             "ticks": ""
            },
            "type": "choropleth"
           }
          ],
          "contour": [
           {
            "colorbar": {
             "outlinewidth": 0,
             "ticks": ""
            },
            "colorscale": [
             [
              0,
              "#0d0887"
             ],
             [
              0.1111111111111111,
              "#46039f"
             ],
             [
              0.2222222222222222,
              "#7201a8"
             ],
             [
              0.3333333333333333,
              "#9c179e"
             ],
             [
              0.4444444444444444,
              "#bd3786"
             ],
             [
              0.5555555555555556,
              "#d8576b"
             ],
             [
              0.6666666666666666,
              "#ed7953"
             ],
             [
              0.7777777777777778,
              "#fb9f3a"
             ],
             [
              0.8888888888888888,
              "#fdca26"
             ],
             [
              1,
              "#f0f921"
             ]
            ],
            "type": "contour"
           }
          ],
          "contourcarpet": [
           {
            "colorbar": {
             "outlinewidth": 0,
             "ticks": ""
            },
            "type": "contourcarpet"
           }
          ],
          "heatmap": [
           {
            "colorbar": {
             "outlinewidth": 0,
             "ticks": ""
            },
            "colorscale": [
             [
              0,
              "#0d0887"
             ],
             [
              0.1111111111111111,
              "#46039f"
             ],
             [
              0.2222222222222222,
              "#7201a8"
             ],
             [
              0.3333333333333333,
              "#9c179e"
             ],
             [
              0.4444444444444444,
              "#bd3786"
             ],
             [
              0.5555555555555556,
              "#d8576b"
             ],
             [
              0.6666666666666666,
              "#ed7953"
             ],
             [
              0.7777777777777778,
              "#fb9f3a"
             ],
             [
              0.8888888888888888,
              "#fdca26"
             ],
             [
              1,
              "#f0f921"
             ]
            ],
            "type": "heatmap"
           }
          ],
          "heatmapgl": [
           {
            "colorbar": {
             "outlinewidth": 0,
             "ticks": ""
            },
            "colorscale": [
             [
              0,
              "#0d0887"
             ],
             [
              0.1111111111111111,
              "#46039f"
             ],
             [
              0.2222222222222222,
              "#7201a8"
             ],
             [
              0.3333333333333333,
              "#9c179e"
             ],
             [
              0.4444444444444444,
              "#bd3786"
             ],
             [
              0.5555555555555556,
              "#d8576b"
             ],
             [
              0.6666666666666666,
              "#ed7953"
             ],
             [
              0.7777777777777778,
              "#fb9f3a"
             ],
             [
              0.8888888888888888,
              "#fdca26"
             ],
             [
              1,
              "#f0f921"
             ]
            ],
            "type": "heatmapgl"
           }
          ],
          "histogram": [
           {
            "marker": {
             "pattern": {
              "fillmode": "overlay",
              "size": 10,
              "solidity": 0.2
             }
            },
            "type": "histogram"
           }
          ],
          "histogram2d": [
           {
            "colorbar": {
             "outlinewidth": 0,
             "ticks": ""
            },
            "colorscale": [
             [
              0,
              "#0d0887"
             ],
             [
              0.1111111111111111,
              "#46039f"
             ],
             [
              0.2222222222222222,
              "#7201a8"
             ],
             [
              0.3333333333333333,
              "#9c179e"
             ],
             [
              0.4444444444444444,
              "#bd3786"
             ],
             [
              0.5555555555555556,
              "#d8576b"
             ],
             [
              0.6666666666666666,
              "#ed7953"
             ],
             [
              0.7777777777777778,
              "#fb9f3a"
             ],
             [
              0.8888888888888888,
              "#fdca26"
             ],
             [
              1,
              "#f0f921"
             ]
            ],
            "type": "histogram2d"
           }
          ],
          "histogram2dcontour": [
           {
            "colorbar": {
             "outlinewidth": 0,
             "ticks": ""
            },
            "colorscale": [
             [
              0,
              "#0d0887"
             ],
             [
              0.1111111111111111,
              "#46039f"
             ],
             [
              0.2222222222222222,
              "#7201a8"
             ],
             [
              0.3333333333333333,
              "#9c179e"
             ],
             [
              0.4444444444444444,
              "#bd3786"
             ],
             [
              0.5555555555555556,
              "#d8576b"
             ],
             [
              0.6666666666666666,
              "#ed7953"
             ],
             [
              0.7777777777777778,
              "#fb9f3a"
             ],
             [
              0.8888888888888888,
              "#fdca26"
             ],
             [
              1,
              "#f0f921"
             ]
            ],
            "type": "histogram2dcontour"
           }
          ],
          "mesh3d": [
           {
            "colorbar": {
             "outlinewidth": 0,
             "ticks": ""
            },
            "type": "mesh3d"
           }
          ],
          "parcoords": [
           {
            "line": {
             "colorbar": {
              "outlinewidth": 0,
              "ticks": ""
             }
            },
            "type": "parcoords"
           }
          ],
          "pie": [
           {
            "automargin": true,
            "type": "pie"
           }
          ],
          "scatter": [
           {
            "fillpattern": {
             "fillmode": "overlay",
             "size": 10,
             "solidity": 0.2
            },
            "type": "scatter"
           }
          ],
          "scatter3d": [
           {
            "line": {
             "colorbar": {
              "outlinewidth": 0,
              "ticks": ""
             }
            },
            "marker": {
             "colorbar": {
              "outlinewidth": 0,
              "ticks": ""
             }
            },
            "type": "scatter3d"
           }
          ],
          "scattercarpet": [
           {
            "marker": {
             "colorbar": {
              "outlinewidth": 0,
              "ticks": ""
             }
            },
            "type": "scattercarpet"
           }
          ],
          "scattergeo": [
           {
            "marker": {
             "colorbar": {
              "outlinewidth": 0,
              "ticks": ""
             }
            },
            "type": "scattergeo"
           }
          ],
          "scattergl": [
           {
            "marker": {
             "colorbar": {
              "outlinewidth": 0,
              "ticks": ""
             }
            },
            "type": "scattergl"
           }
          ],
          "scattermapbox": [
           {
            "marker": {
             "colorbar": {
              "outlinewidth": 0,
              "ticks": ""
             }
            },
            "type": "scattermapbox"
           }
          ],
          "scatterpolar": [
           {
            "marker": {
             "colorbar": {
              "outlinewidth": 0,
              "ticks": ""
             }
            },
            "type": "scatterpolar"
           }
          ],
          "scatterpolargl": [
           {
            "marker": {
             "colorbar": {
              "outlinewidth": 0,
              "ticks": ""
             }
            },
            "type": "scatterpolargl"
           }
          ],
          "scatterternary": [
           {
            "marker": {
             "colorbar": {
              "outlinewidth": 0,
              "ticks": ""
             }
            },
            "type": "scatterternary"
           }
          ],
          "surface": [
           {
            "colorbar": {
             "outlinewidth": 0,
             "ticks": ""
            },
            "colorscale": [
             [
              0,
              "#0d0887"
             ],
             [
              0.1111111111111111,
              "#46039f"
             ],
             [
              0.2222222222222222,
              "#7201a8"
             ],
             [
              0.3333333333333333,
              "#9c179e"
             ],
             [
              0.4444444444444444,
              "#bd3786"
             ],
             [
              0.5555555555555556,
              "#d8576b"
             ],
             [
              0.6666666666666666,
              "#ed7953"
             ],
             [
              0.7777777777777778,
              "#fb9f3a"
             ],
             [
              0.8888888888888888,
              "#fdca26"
             ],
             [
              1,
              "#f0f921"
             ]
            ],
            "type": "surface"
           }
          ],
          "table": [
           {
            "cells": {
             "fill": {
              "color": "#EBF0F8"
             },
             "line": {
              "color": "white"
             }
            },
            "header": {
             "fill": {
              "color": "#C8D4E3"
             },
             "line": {
              "color": "white"
             }
            },
            "type": "table"
           }
          ]
         },
         "layout": {
          "annotationdefaults": {
           "arrowcolor": "#2a3f5f",
           "arrowhead": 0,
           "arrowwidth": 1
          },
          "autotypenumbers": "strict",
          "coloraxis": {
           "colorbar": {
            "outlinewidth": 0,
            "ticks": ""
           }
          },
          "colorscale": {
           "diverging": [
            [
             0,
             "#8e0152"
            ],
            [
             0.1,
             "#c51b7d"
            ],
            [
             0.2,
             "#de77ae"
            ],
            [
             0.3,
             "#f1b6da"
            ],
            [
             0.4,
             "#fde0ef"
            ],
            [
             0.5,
             "#f7f7f7"
            ],
            [
             0.6,
             "#e6f5d0"
            ],
            [
             0.7,
             "#b8e186"
            ],
            [
             0.8,
             "#7fbc41"
            ],
            [
             0.9,
             "#4d9221"
            ],
            [
             1,
             "#276419"
            ]
           ],
           "sequential": [
            [
             0,
             "#0d0887"
            ],
            [
             0.1111111111111111,
             "#46039f"
            ],
            [
             0.2222222222222222,
             "#7201a8"
            ],
            [
             0.3333333333333333,
             "#9c179e"
            ],
            [
             0.4444444444444444,
             "#bd3786"
            ],
            [
             0.5555555555555556,
             "#d8576b"
            ],
            [
             0.6666666666666666,
             "#ed7953"
            ],
            [
             0.7777777777777778,
             "#fb9f3a"
            ],
            [
             0.8888888888888888,
             "#fdca26"
            ],
            [
             1,
             "#f0f921"
            ]
           ],
           "sequentialminus": [
            [
             0,
             "#0d0887"
            ],
            [
             0.1111111111111111,
             "#46039f"
            ],
            [
             0.2222222222222222,
             "#7201a8"
            ],
            [
             0.3333333333333333,
             "#9c179e"
            ],
            [
             0.4444444444444444,
             "#bd3786"
            ],
            [
             0.5555555555555556,
             "#d8576b"
            ],
            [
             0.6666666666666666,
             "#ed7953"
            ],
            [
             0.7777777777777778,
             "#fb9f3a"
            ],
            [
             0.8888888888888888,
             "#fdca26"
            ],
            [
             1,
             "#f0f921"
            ]
           ]
          },
          "colorway": [
           "#636efa",
           "#EF553B",
           "#00cc96",
           "#ab63fa",
           "#FFA15A",
           "#19d3f3",
           "#FF6692",
           "#B6E880",
           "#FF97FF",
           "#FECB52"
          ],
          "font": {
           "color": "#2a3f5f"
          },
          "geo": {
           "bgcolor": "white",
           "lakecolor": "white",
           "landcolor": "#E5ECF6",
           "showlakes": true,
           "showland": true,
           "subunitcolor": "white"
          },
          "hoverlabel": {
           "align": "left"
          },
          "hovermode": "closest",
          "mapbox": {
           "style": "light"
          },
          "paper_bgcolor": "white",
          "plot_bgcolor": "#E5ECF6",
          "polar": {
           "angularaxis": {
            "gridcolor": "white",
            "linecolor": "white",
            "ticks": ""
           },
           "bgcolor": "#E5ECF6",
           "radialaxis": {
            "gridcolor": "white",
            "linecolor": "white",
            "ticks": ""
           }
          },
          "scene": {
           "xaxis": {
            "backgroundcolor": "#E5ECF6",
            "gridcolor": "white",
            "gridwidth": 2,
            "linecolor": "white",
            "showbackground": true,
            "ticks": "",
            "zerolinecolor": "white"
           },
           "yaxis": {
            "backgroundcolor": "#E5ECF6",
            "gridcolor": "white",
            "gridwidth": 2,
            "linecolor": "white",
            "showbackground": true,
            "ticks": "",
            "zerolinecolor": "white"
           },
           "zaxis": {
            "backgroundcolor": "#E5ECF6",
            "gridcolor": "white",
            "gridwidth": 2,
            "linecolor": "white",
            "showbackground": true,
            "ticks": "",
            "zerolinecolor": "white"
           }
          },
          "shapedefaults": {
           "line": {
            "color": "#2a3f5f"
           }
          },
          "ternary": {
           "aaxis": {
            "gridcolor": "white",
            "linecolor": "white",
            "ticks": ""
           },
           "baxis": {
            "gridcolor": "white",
            "linecolor": "white",
            "ticks": ""
           },
           "bgcolor": "#E5ECF6",
           "caxis": {
            "gridcolor": "white",
            "linecolor": "white",
            "ticks": ""
           }
          },
          "title": {
           "x": 0.05
          },
          "xaxis": {
           "automargin": true,
           "gridcolor": "white",
           "linecolor": "white",
           "ticks": "",
           "title": {
            "standoff": 15
           },
           "zerolinecolor": "white",
           "zerolinewidth": 2
          },
          "yaxis": {
           "automargin": true,
           "gridcolor": "white",
           "linecolor": "white",
           "ticks": "",
           "title": {
            "standoff": 15
           },
           "zerolinecolor": "white",
           "zerolinewidth": 2
          }
         }
        },
        "title": {
         "text": "Employee Attrition Distribution"
        }
       }
      }
     },
     "metadata": {},
     "output_type": "display_data"
    }
   ],
   "source": [
    "# attrition distribution\n",
    "\n",
    "fig = px.pie(df, names=\"Attrition\", title=\"Employee Attrition Distribution\", hole=0.3)\n",
    "\n",
    "# Show Plot\n",
    "fig.show()\n",
    "\n"
   ]
  },
  {
   "cell_type": "markdown",
   "metadata": {},
   "source": [
    "### Numeric Feature Analysis\n",
    "    1️⃣ Age Distribution\n",
    "    2️⃣ Monthly Income Distribution \n",
    "    3️⃣ Years at Company "
   ]
  },
  {
   "cell_type": "code",
   "execution_count": 27,
   "metadata": {},
   "outputs": [
    {
     "data": {
      "application/vnd.plotly.v1+json": {
       "config": {
        "plotlyServerURL": "https://plot.ly"
       },
       "data": [
        {
         "alignmentgroup": "True",
         "bingroup": "x",
         "hovertemplate": "Employee Age=%{x}<br>count=%{y}<extra></extra>",
         "legendgroup": "",
         "marker": {
          "color": "#636EFA",
          "pattern": {
           "shape": ""
          }
         },
         "name": "",
         "nbinsx": 30,
         "offsetgroup": "",
         "orientation": "v",
         "showlegend": false,
         "texttemplate": "%{value}",
         "type": "histogram",
         "x": [
          41,
          49,
          37,
          33,
          27,
          32,
          59,
          30,
          38,
          36,
          35,
          29,
          31,
          34,
          28,
          29,
          32,
          22,
          53,
          38,
          24,
          36,
          34,
          21,
          34,
          53,
          32,
          42,
          44,
          46,
          33,
          44,
          30,
          39,
          24,
          43,
          50,
          35,
          36,
          33,
          35,
          27,
          26,
          27,
          30,
          41,
          34,
          37,
          46,
          35,
          48,
          28,
          44,
          35,
          26,
          33,
          35,
          35,
          31,
          37,
          32,
          38,
          50,
          59,
          36,
          55,
          36,
          45,
          35,
          36,
          59,
          29,
          31,
          32,
          36,
          31,
          35,
          45,
          37,
          46,
          30,
          35,
          55,
          38,
          34,
          56,
          23,
          51,
          30,
          46,
          40,
          51,
          30,
          46,
          32,
          54,
          24,
          28,
          58,
          44,
          37,
          32,
          20,
          34,
          37,
          59,
          50,
          25,
          25,
          22,
          51,
          34,
          54,
          24,
          34,
          37,
          34,
          36,
          36,
          43,
          30,
          33,
          56,
          51,
          31,
          26,
          58,
          19,
          22,
          49,
          43,
          50,
          31,
          41,
          26,
          36,
          51,
          39,
          25,
          30,
          32,
          45,
          38,
          30,
          32,
          30,
          30,
          41,
          41,
          19,
          40,
          35,
          53,
          45,
          32,
          29,
          51,
          58,
          40,
          34,
          22,
          27,
          28,
          57,
          27,
          50,
          41,
          30,
          38,
          32,
          27,
          19,
          36,
          30,
          45,
          56,
          33,
          19,
          46,
          38,
          31,
          34,
          41,
          50,
          53,
          33,
          40,
          55,
          34,
          51,
          52,
          27,
          35,
          43,
          45,
          37,
          35,
          42,
          38,
          38,
          27,
          49,
          34,
          40,
          38,
          29,
          22,
          36,
          40,
          46,
          32,
          30,
          27,
          51,
          30,
          41,
          30,
          29,
          45,
          54,
          36,
          33,
          37,
          38,
          31,
          59,
          37,
          29,
          35,
          29,
          52,
          42,
          59,
          50,
          33,
          43,
          33,
          52,
          32,
          32,
          39,
          32,
          41,
          40,
          45,
          31,
          33,
          34,
          37,
          45,
          37,
          39,
          29,
          42,
          29,
          25,
          42,
          40,
          51,
          31,
          32,
          38,
          32,
          46,
          28,
          29,
          31,
          25,
          45,
          36,
          55,
          47,
          28,
          37,
          21,
          37,
          35,
          38,
          26,
          50,
          53,
          42,
          29,
          55,
          26,
          37,
          44,
          38,
          26,
          28,
          49,
          36,
          31,
          26,
          37,
          42,
          18,
          35,
          36,
          51,
          41,
          18,
          28,
          31,
          39,
          36,
          32,
          38,
          58,
          31,
          31,
          45,
          31,
          33,
          39,
          43,
          49,
          52,
          27,
          32,
          27,
          31,
          32,
          28,
          30,
          31,
          39,
          39,
          33,
          47,
          43,
          27,
          54,
          43,
          45,
          40,
          29,
          29,
          30,
          27,
          37,
          38,
          31,
          29,
          35,
          23,
          41,
          47,
          42,
          29,
          42,
          32,
          48,
          37,
          30,
          26,
          42,
          21,
          36,
          36,
          57,
          40,
          21,
          33,
          37,
          46,
          41,
          50,
          40,
          31,
          21,
          29,
          35,
          27,
          28,
          49,
          51,
          36,
          34,
          55,
          24,
          30,
          26,
          22,
          36,
          30,
          37,
          40,
          42,
          37,
          43,
          40,
          54,
          34,
          31,
          43,
          43,
          25,
          37,
          31,
          39,
          56,
          30,
          41,
          28,
          25,
          52,
          45,
          52,
          42,
          30,
          60,
          46,
          42,
          24,
          34,
          38,
          40,
          26,
          30,
          29,
          29,
          19,
          30,
          57,
          50,
          30,
          60,
          47,
          46,
          35,
          54,
          34,
          46,
          31,
          33,
          33,
          30,
          35,
          31,
          34,
          42,
          36,
          22,
          48,
          55,
          41,
          35,
          40,
          39,
          31,
          42,
          45,
          26,
          29,
          33,
          31,
          18,
          40,
          41,
          26,
          35,
          34,
          26,
          37,
          46,
          41,
          37,
          52,
          32,
          24,
          38,
          37,
          49,
          24,
          26,
          24,
          50,
          25,
          24,
          30,
          34,
          31,
          35,
          31,
          27,
          37,
          20,
          42,
          43,
          38,
          43,
          48,
          44,
          34,
          27,
          21,
          44,
          22,
          33,
          32,
          30,
          53,
          34,
          45,
          26,
          37,
          29,
          35,
          33,
          54,
          36,
          27,
          20,
          33,
          35,
          23,
          25,
          38,
          29,
          48,
          27,
          37,
          50,
          34,
          24,
          39,
          32,
          50,
          38,
          27,
          32,
          47,
          40,
          53,
          41,
          60,
          27,
          41,
          50,
          28,
          36,
          38,
          44,
          47,
          30,
          29,
          42,
          43,
          34,
          23,
          39,
          56,
          40,
          27,
          29,
          53,
          35,
          32,
          38,
          34,
          52,
          33,
          25,
          45,
          23,
          47,
          34,
          55,
          36,
          52,
          26,
          29,
          26,
          34,
          54,
          27,
          37,
          38,
          34,
          35,
          30,
          40,
          34,
          42,
          23,
          24,
          52,
          50,
          29,
          33,
          33,
          47,
          36,
          29,
          58,
          35,
          42,
          28,
          36,
          32,
          40,
          30,
          45,
          42,
          38,
          34,
          49,
          55,
          43,
          27,
          35,
          28,
          34,
          26,
          27,
          51,
          44,
          25,
          33,
          35,
          36,
          32,
          30,
          53,
          45,
          32,
          52,
          37,
          28,
          22,
          44,
          42,
          36,
          25,
          35,
          35,
          32,
          25,
          49,
          24,
          32,
          38,
          42,
          31,
          29,
          53,
          35,
          37,
          53,
          43,
          47,
          37,
          50,
          39,
          33,
          32,
          29,
          44,
          28,
          58,
          43,
          20,
          21,
          36,
          47,
          22,
          41,
          28,
          39,
          27,
          34,
          42,
          33,
          58,
          31,
          35,
          49,
          48,
          31,
          36,
          38,
          32,
          25,
          40,
          26,
          41,
          36,
          19,
          20,
          31,
          40,
          32,
          36,
          33,
          37,
          45,
          29,
          35,
          52,
          58,
          53,
          30,
          38,
          35,
          39,
          40,
          47,
          36,
          31,
          33,
          29,
          33,
          45,
          50,
          33,
          41,
          27,
          45,
          47,
          30,
          50,
          38,
          46,
          24,
          35,
          31,
          18,
          54,
          35,
          30,
          20,
          30,
          26,
          22,
          48,
          48,
          41,
          39,
          27,
          35,
          42,
          50,
          59,
          37,
          55,
          41,
          38,
          26,
          52,
          44,
          50,
          36,
          39,
          33,
          45,
          32,
          34,
          59,
          45,
          53,
          36,
          26,
          34,
          28,
          38,
          50,
          37,
          40,
          26,
          46,
          54,
          56,
          36,
          55,
          43,
          20,
          21,
          46,
          51,
          28,
          26,
          30,
          41,
          38,
          40,
          27,
          55,
          28,
          44,
          33,
          35,
          33,
          28,
          34,
          37,
          25,
          26,
          33,
          42,
          28,
          50,
          33,
          34,
          48,
          45,
          52,
          38,
          29,
          28,
          46,
          38,
          43,
          39,
          40,
          21,
          39,
          36,
          31,
          28,
          35,
          49,
          34,
          29,
          42,
          29,
          38,
          28,
          18,
          33,
          41,
          31,
          37,
          27,
          34,
          35,
          29,
          40,
          42,
          42,
          35,
          24,
          28,
          26,
          30,
          40,
          35,
          34,
          35,
          43,
          32,
          56,
          29,
          19,
          45,
          37,
          20,
          44,
          53,
          29,
          22,
          46,
          44,
          33,
          41,
          30,
          40,
          50,
          28,
          46,
          35,
          24,
          33,
          36,
          30,
          44,
          20,
          46,
          42,
          60,
          32,
          32,
          36,
          33,
          40,
          25,
          30,
          42,
          35,
          27,
          54,
          44,
          19,
          29,
          54,
          31,
          31,
          59,
          43,
          49,
          36,
          48,
          27,
          29,
          48,
          29,
          34,
          44,
          33,
          19,
          23,
          25,
          26,
          45,
          55,
          21,
          46,
          34,
          51,
          59,
          34,
          28,
          44,
          34,
          35,
          42,
          43,
          36,
          44,
          28,
          51,
          30,
          29,
          28,
          25,
          32,
          45,
          39,
          58,
          32,
          39,
          30,
          36,
          46,
          28,
          50,
          40,
          52,
          30,
          39,
          31,
          41,
          31,
          44,
          42,
          55,
          56,
          40,
          34,
          40,
          41,
          35,
          51,
          38,
          34,
          25,
          58,
          40,
          36,
          48,
          27,
          51,
          18,
          35,
          27,
          55,
          56,
          34,
          40,
          34,
          31,
          35,
          38,
          34,
          28,
          31,
          39,
          51,
          41,
          37,
          33,
          32,
          39,
          25,
          52,
          43,
          27,
          27,
          26,
          42,
          52,
          37,
          35,
          25,
          26,
          29,
          49,
          29,
          54,
          58,
          55,
          36,
          31,
          30,
          31,
          34,
          31,
          27,
          36,
          36,
          47,
          25,
          37,
          56,
          47,
          24,
          32,
          34,
          41,
          40,
          31,
          46,
          39,
          31,
          45,
          31,
          31,
          45,
          48,
          34,
          40,
          28,
          44,
          53,
          49,
          40,
          44,
          33,
          34,
          30,
          42,
          44,
          30,
          57,
          49,
          34,
          28,
          29,
          34,
          35,
          24,
          24,
          44,
          29,
          30,
          55,
          33,
          47,
          28,
          28,
          28,
          49,
          29,
          28,
          33,
          32,
          54,
          29,
          44,
          39,
          46,
          35,
          23,
          40,
          34,
          31,
          50,
          34,
          42,
          37,
          29,
          33,
          45,
          42,
          40,
          33,
          40,
          24,
          40,
          45,
          35,
          32,
          36,
          48,
          29,
          33,
          30,
          38,
          35,
          30,
          35,
          53,
          38,
          32,
          48,
          34,
          55,
          34,
          26,
          38,
          38,
          36,
          29,
          35,
          39,
          29,
          50,
          23,
          36,
          42,
          35,
          34,
          40,
          43,
          35,
          46,
          28,
          22,
          50,
          32,
          44,
          30,
          45,
          45,
          31,
          36,
          34,
          49,
          39,
          27,
          35,
          28,
          21,
          18,
          47,
          39,
          40,
          35,
          37,
          39,
          45,
          38,
          35,
          37,
          40,
          44,
          48,
          35,
          24,
          27,
          27,
          40,
          29,
          36,
          25,
          39,
          49,
          50,
          20,
          34,
          36,
          49,
          36,
          36,
          54,
          43,
          35,
          38,
          29,
          33,
          32,
          31,
          49,
          38,
          47,
          49,
          41,
          20,
          33,
          36,
          44,
          23,
          38,
          53,
          48,
          32,
          26,
          55,
          34,
          60,
          33,
          37,
          34,
          23,
          44,
          35,
          43,
          24,
          41,
          29,
          36,
          45,
          24,
          47,
          26,
          45,
          32,
          31,
          41,
          40,
          24,
          46,
          35,
          30,
          47,
          46,
          36,
          32,
          23,
          31,
          39,
          32,
          40,
          45,
          30,
          24,
          30,
          31,
          27,
          29,
          29,
          30,
          34,
          33,
          49,
          33,
          38,
          31,
          29,
          30,
          32,
          38,
          43,
          42,
          55,
          33,
          41,
          34,
          53,
          43,
          34,
          21,
          38,
          22,
          31,
          51,
          37,
          46,
          36,
          44,
          37,
          35,
          33,
          28,
          39,
          46,
          40,
          42,
          35,
          38,
          34,
          37,
          39,
          43,
          41,
          41,
          30,
          26,
          46,
          40,
          34,
          58,
          35,
          47,
          40,
          54,
          31,
          28,
          38,
          26,
          58,
          18,
          31,
          29,
          45,
          36,
          43,
          27,
          29,
          32,
          42,
          47,
          46,
          28,
          29,
          42,
          32,
          46,
          27,
          29,
          43,
          48,
          29,
          46,
          27,
          39,
          55,
          28,
          30,
          22,
          36,
          31,
          34,
          29,
          37,
          35,
          45,
          36,
          40,
          26,
          27,
          48,
          44,
          34,
          56,
          36,
          41,
          42,
          31,
          34,
          31,
          26,
          45,
          33,
          28,
          29,
          39,
          27,
          34,
          28,
          47,
          56,
          39,
          38,
          58,
          32,
          38,
          49,
          42,
          27,
          35,
          28,
          31,
          36,
          34,
          34,
          26,
          29,
          32,
          31,
          28,
          38,
          35,
          27,
          32,
          31,
          53,
          54,
          33,
          43,
          38,
          55,
          31,
          39,
          42,
          31,
          54,
          24,
          23,
          40,
          40,
          25,
          30,
          25,
          47,
          33,
          38,
          31,
          38,
          42,
          41,
          47,
          35,
          22,
          35,
          33,
          32,
          40,
          32,
          39,
          38,
          32,
          37,
          25,
          52,
          44,
          21,
          39,
          23,
          36,
          36,
          56,
          29,
          42,
          56,
          41,
          34,
          36,
          41,
          32,
          35,
          38,
          50,
          36,
          45,
          40,
          35,
          40,
          35,
          29,
          29,
          50,
          39,
          31,
          26,
          36,
          39,
          27,
          49,
          34
         ],
         "xaxis": "x",
         "yaxis": "y"
        }
       ],
       "layout": {
        "barmode": "relative",
        "legend": {
         "tracegroupgap": 0
        },
        "template": {
         "data": {
          "bar": [
           {
            "error_x": {
             "color": "#2a3f5f"
            },
            "error_y": {
             "color": "#2a3f5f"
            },
            "marker": {
             "line": {
              "color": "#E5ECF6",
              "width": 0.5
             },
             "pattern": {
              "fillmode": "overlay",
              "size": 10,
              "solidity": 0.2
             }
            },
            "type": "bar"
           }
          ],
          "barpolar": [
           {
            "marker": {
             "line": {
              "color": "#E5ECF6",
              "width": 0.5
             },
             "pattern": {
              "fillmode": "overlay",
              "size": 10,
              "solidity": 0.2
             }
            },
            "type": "barpolar"
           }
          ],
          "carpet": [
           {
            "aaxis": {
             "endlinecolor": "#2a3f5f",
             "gridcolor": "white",
             "linecolor": "white",
             "minorgridcolor": "white",
             "startlinecolor": "#2a3f5f"
            },
            "baxis": {
             "endlinecolor": "#2a3f5f",
             "gridcolor": "white",
             "linecolor": "white",
             "minorgridcolor": "white",
             "startlinecolor": "#2a3f5f"
            },
            "type": "carpet"
           }
          ],
          "choropleth": [
           {
            "colorbar": {
             "outlinewidth": 0,
             "ticks": ""
            },
            "type": "choropleth"
           }
          ],
          "contour": [
           {
            "colorbar": {
             "outlinewidth": 0,
             "ticks": ""
            },
            "colorscale": [
             [
              0,
              "#0d0887"
             ],
             [
              0.1111111111111111,
              "#46039f"
             ],
             [
              0.2222222222222222,
              "#7201a8"
             ],
             [
              0.3333333333333333,
              "#9c179e"
             ],
             [
              0.4444444444444444,
              "#bd3786"
             ],
             [
              0.5555555555555556,
              "#d8576b"
             ],
             [
              0.6666666666666666,
              "#ed7953"
             ],
             [
              0.7777777777777778,
              "#fb9f3a"
             ],
             [
              0.8888888888888888,
              "#fdca26"
             ],
             [
              1,
              "#f0f921"
             ]
            ],
            "type": "contour"
           }
          ],
          "contourcarpet": [
           {
            "colorbar": {
             "outlinewidth": 0,
             "ticks": ""
            },
            "type": "contourcarpet"
           }
          ],
          "heatmap": [
           {
            "colorbar": {
             "outlinewidth": 0,
             "ticks": ""
            },
            "colorscale": [
             [
              0,
              "#0d0887"
             ],
             [
              0.1111111111111111,
              "#46039f"
             ],
             [
              0.2222222222222222,
              "#7201a8"
             ],
             [
              0.3333333333333333,
              "#9c179e"
             ],
             [
              0.4444444444444444,
              "#bd3786"
             ],
             [
              0.5555555555555556,
              "#d8576b"
             ],
             [
              0.6666666666666666,
              "#ed7953"
             ],
             [
              0.7777777777777778,
              "#fb9f3a"
             ],
             [
              0.8888888888888888,
              "#fdca26"
             ],
             [
              1,
              "#f0f921"
             ]
            ],
            "type": "heatmap"
           }
          ],
          "heatmapgl": [
           {
            "colorbar": {
             "outlinewidth": 0,
             "ticks": ""
            },
            "colorscale": [
             [
              0,
              "#0d0887"
             ],
             [
              0.1111111111111111,
              "#46039f"
             ],
             [
              0.2222222222222222,
              "#7201a8"
             ],
             [
              0.3333333333333333,
              "#9c179e"
             ],
             [
              0.4444444444444444,
              "#bd3786"
             ],
             [
              0.5555555555555556,
              "#d8576b"
             ],
             [
              0.6666666666666666,
              "#ed7953"
             ],
             [
              0.7777777777777778,
              "#fb9f3a"
             ],
             [
              0.8888888888888888,
              "#fdca26"
             ],
             [
              1,
              "#f0f921"
             ]
            ],
            "type": "heatmapgl"
           }
          ],
          "histogram": [
           {
            "marker": {
             "pattern": {
              "fillmode": "overlay",
              "size": 10,
              "solidity": 0.2
             }
            },
            "type": "histogram"
           }
          ],
          "histogram2d": [
           {
            "colorbar": {
             "outlinewidth": 0,
             "ticks": ""
            },
            "colorscale": [
             [
              0,
              "#0d0887"
             ],
             [
              0.1111111111111111,
              "#46039f"
             ],
             [
              0.2222222222222222,
              "#7201a8"
             ],
             [
              0.3333333333333333,
              "#9c179e"
             ],
             [
              0.4444444444444444,
              "#bd3786"
             ],
             [
              0.5555555555555556,
              "#d8576b"
             ],
             [
              0.6666666666666666,
              "#ed7953"
             ],
             [
              0.7777777777777778,
              "#fb9f3a"
             ],
             [
              0.8888888888888888,
              "#fdca26"
             ],
             [
              1,
              "#f0f921"
             ]
            ],
            "type": "histogram2d"
           }
          ],
          "histogram2dcontour": [
           {
            "colorbar": {
             "outlinewidth": 0,
             "ticks": ""
            },
            "colorscale": [
             [
              0,
              "#0d0887"
             ],
             [
              0.1111111111111111,
              "#46039f"
             ],
             [
              0.2222222222222222,
              "#7201a8"
             ],
             [
              0.3333333333333333,
              "#9c179e"
             ],
             [
              0.4444444444444444,
              "#bd3786"
             ],
             [
              0.5555555555555556,
              "#d8576b"
             ],
             [
              0.6666666666666666,
              "#ed7953"
             ],
             [
              0.7777777777777778,
              "#fb9f3a"
             ],
             [
              0.8888888888888888,
              "#fdca26"
             ],
             [
              1,
              "#f0f921"
             ]
            ],
            "type": "histogram2dcontour"
           }
          ],
          "mesh3d": [
           {
            "colorbar": {
             "outlinewidth": 0,
             "ticks": ""
            },
            "type": "mesh3d"
           }
          ],
          "parcoords": [
           {
            "line": {
             "colorbar": {
              "outlinewidth": 0,
              "ticks": ""
             }
            },
            "type": "parcoords"
           }
          ],
          "pie": [
           {
            "automargin": true,
            "type": "pie"
           }
          ],
          "scatter": [
           {
            "fillpattern": {
             "fillmode": "overlay",
             "size": 10,
             "solidity": 0.2
            },
            "type": "scatter"
           }
          ],
          "scatter3d": [
           {
            "line": {
             "colorbar": {
              "outlinewidth": 0,
              "ticks": ""
             }
            },
            "marker": {
             "colorbar": {
              "outlinewidth": 0,
              "ticks": ""
             }
            },
            "type": "scatter3d"
           }
          ],
          "scattercarpet": [
           {
            "marker": {
             "colorbar": {
              "outlinewidth": 0,
              "ticks": ""
             }
            },
            "type": "scattercarpet"
           }
          ],
          "scattergeo": [
           {
            "marker": {
             "colorbar": {
              "outlinewidth": 0,
              "ticks": ""
             }
            },
            "type": "scattergeo"
           }
          ],
          "scattergl": [
           {
            "marker": {
             "colorbar": {
              "outlinewidth": 0,
              "ticks": ""
             }
            },
            "type": "scattergl"
           }
          ],
          "scattermapbox": [
           {
            "marker": {
             "colorbar": {
              "outlinewidth": 0,
              "ticks": ""
             }
            },
            "type": "scattermapbox"
           }
          ],
          "scatterpolar": [
           {
            "marker": {
             "colorbar": {
              "outlinewidth": 0,
              "ticks": ""
             }
            },
            "type": "scatterpolar"
           }
          ],
          "scatterpolargl": [
           {
            "marker": {
             "colorbar": {
              "outlinewidth": 0,
              "ticks": ""
             }
            },
            "type": "scatterpolargl"
           }
          ],
          "scatterternary": [
           {
            "marker": {
             "colorbar": {
              "outlinewidth": 0,
              "ticks": ""
             }
            },
            "type": "scatterternary"
           }
          ],
          "surface": [
           {
            "colorbar": {
             "outlinewidth": 0,
             "ticks": ""
            },
            "colorscale": [
             [
              0,
              "#0d0887"
             ],
             [
              0.1111111111111111,
              "#46039f"
             ],
             [
              0.2222222222222222,
              "#7201a8"
             ],
             [
              0.3333333333333333,
              "#9c179e"
             ],
             [
              0.4444444444444444,
              "#bd3786"
             ],
             [
              0.5555555555555556,
              "#d8576b"
             ],
             [
              0.6666666666666666,
              "#ed7953"
             ],
             [
              0.7777777777777778,
              "#fb9f3a"
             ],
             [
              0.8888888888888888,
              "#fdca26"
             ],
             [
              1,
              "#f0f921"
             ]
            ],
            "type": "surface"
           }
          ],
          "table": [
           {
            "cells": {
             "fill": {
              "color": "#EBF0F8"
             },
             "line": {
              "color": "white"
             }
            },
            "header": {
             "fill": {
              "color": "#C8D4E3"
             },
             "line": {
              "color": "white"
             }
            },
            "type": "table"
           }
          ]
         },
         "layout": {
          "annotationdefaults": {
           "arrowcolor": "#2a3f5f",
           "arrowhead": 0,
           "arrowwidth": 1
          },
          "autotypenumbers": "strict",
          "coloraxis": {
           "colorbar": {
            "outlinewidth": 0,
            "ticks": ""
           }
          },
          "colorscale": {
           "diverging": [
            [
             0,
             "#8e0152"
            ],
            [
             0.1,
             "#c51b7d"
            ],
            [
             0.2,
             "#de77ae"
            ],
            [
             0.3,
             "#f1b6da"
            ],
            [
             0.4,
             "#fde0ef"
            ],
            [
             0.5,
             "#f7f7f7"
            ],
            [
             0.6,
             "#e6f5d0"
            ],
            [
             0.7,
             "#b8e186"
            ],
            [
             0.8,
             "#7fbc41"
            ],
            [
             0.9,
             "#4d9221"
            ],
            [
             1,
             "#276419"
            ]
           ],
           "sequential": [
            [
             0,
             "#0d0887"
            ],
            [
             0.1111111111111111,
             "#46039f"
            ],
            [
             0.2222222222222222,
             "#7201a8"
            ],
            [
             0.3333333333333333,
             "#9c179e"
            ],
            [
             0.4444444444444444,
             "#bd3786"
            ],
            [
             0.5555555555555556,
             "#d8576b"
            ],
            [
             0.6666666666666666,
             "#ed7953"
            ],
            [
             0.7777777777777778,
             "#fb9f3a"
            ],
            [
             0.8888888888888888,
             "#fdca26"
            ],
            [
             1,
             "#f0f921"
            ]
           ],
           "sequentialminus": [
            [
             0,
             "#0d0887"
            ],
            [
             0.1111111111111111,
             "#46039f"
            ],
            [
             0.2222222222222222,
             "#7201a8"
            ],
            [
             0.3333333333333333,
             "#9c179e"
            ],
            [
             0.4444444444444444,
             "#bd3786"
            ],
            [
             0.5555555555555556,
             "#d8576b"
            ],
            [
             0.6666666666666666,
             "#ed7953"
            ],
            [
             0.7777777777777778,
             "#fb9f3a"
            ],
            [
             0.8888888888888888,
             "#fdca26"
            ],
            [
             1,
             "#f0f921"
            ]
           ]
          },
          "colorway": [
           "#636efa",
           "#EF553B",
           "#00cc96",
           "#ab63fa",
           "#FFA15A",
           "#19d3f3",
           "#FF6692",
           "#B6E880",
           "#FF97FF",
           "#FECB52"
          ],
          "font": {
           "color": "#2a3f5f"
          },
          "geo": {
           "bgcolor": "white",
           "lakecolor": "white",
           "landcolor": "#E5ECF6",
           "showlakes": true,
           "showland": true,
           "subunitcolor": "white"
          },
          "hoverlabel": {
           "align": "left"
          },
          "hovermode": "closest",
          "mapbox": {
           "style": "light"
          },
          "paper_bgcolor": "white",
          "plot_bgcolor": "#E5ECF6",
          "polar": {
           "angularaxis": {
            "gridcolor": "white",
            "linecolor": "white",
            "ticks": ""
           },
           "bgcolor": "#E5ECF6",
           "radialaxis": {
            "gridcolor": "white",
            "linecolor": "white",
            "ticks": ""
           }
          },
          "scene": {
           "xaxis": {
            "backgroundcolor": "#E5ECF6",
            "gridcolor": "white",
            "gridwidth": 2,
            "linecolor": "white",
            "showbackground": true,
            "ticks": "",
            "zerolinecolor": "white"
           },
           "yaxis": {
            "backgroundcolor": "#E5ECF6",
            "gridcolor": "white",
            "gridwidth": 2,
            "linecolor": "white",
            "showbackground": true,
            "ticks": "",
            "zerolinecolor": "white"
           },
           "zaxis": {
            "backgroundcolor": "#E5ECF6",
            "gridcolor": "white",
            "gridwidth": 2,
            "linecolor": "white",
            "showbackground": true,
            "ticks": "",
            "zerolinecolor": "white"
           }
          },
          "shapedefaults": {
           "line": {
            "color": "#2a3f5f"
           }
          },
          "ternary": {
           "aaxis": {
            "gridcolor": "white",
            "linecolor": "white",
            "ticks": ""
           },
           "baxis": {
            "gridcolor": "white",
            "linecolor": "white",
            "ticks": ""
           },
           "bgcolor": "#E5ECF6",
           "caxis": {
            "gridcolor": "white",
            "linecolor": "white",
            "ticks": ""
           }
          },
          "title": {
           "x": 0.05
          },
          "xaxis": {
           "automargin": true,
           "gridcolor": "white",
           "linecolor": "white",
           "ticks": "",
           "title": {
            "standoff": 15
           },
           "zerolinecolor": "white",
           "zerolinewidth": 2
          },
          "yaxis": {
           "automargin": true,
           "gridcolor": "white",
           "linecolor": "white",
           "ticks": "",
           "title": {
            "standoff": 15
           },
           "zerolinecolor": "white",
           "zerolinewidth": 2
          }
         }
        },
        "title": {
         "text": "Age Distribution of Employees"
        },
        "xaxis": {
         "anchor": "y",
         "domain": [
          0,
          1
         ],
         "title": {
          "text": "Employee Age"
         }
        },
        "yaxis": {
         "anchor": "x",
         "domain": [
          0,
          1
         ],
         "title": {
          "text": "count"
         }
        }
       }
      }
     },
     "metadata": {},
     "output_type": "display_data"
    }
   ],
   "source": [
    "# Age Distribution\n",
    "fig_age = px.histogram(\n",
    "    df_cleaned, x=\"Age\", nbins=30, \n",
    "    title=\"Age Distribution of Employees\", \n",
    "    labels={\"Age\": \"Employee Age\"}, \n",
    "    color_discrete_sequence=[\"#636EFA\"],\n",
    "    text_auto= True\n",
    ")\n",
    "fig_age.show()"
   ]
  },
  {
   "cell_type": "code",
   "execution_count": 28,
   "metadata": {},
   "outputs": [
    {
     "data": {
      "application/vnd.plotly.v1+json": {
       "config": {
        "plotlyServerURL": "https://plot.ly"
       },
       "data": [
        {
         "alignmentgroup": "True",
         "bingroup": "x",
         "hovertemplate": "Monthly Income ($)=%{x}<br>count=%{y}<extra></extra>",
         "legendgroup": "",
         "marker": {
          "color": "#EF553B",
          "pattern": {
           "shape": ""
          }
         },
         "name": "",
         "nbinsx": 30,
         "offsetgroup": "",
         "orientation": "v",
         "showlegend": false,
         "texttemplate": "%{value}",
         "type": "histogram",
         "x": [
          5993,
          5130,
          2090,
          2909,
          3468,
          3068,
          2670,
          2693,
          9526,
          5237,
          2426,
          4193,
          2911,
          2661,
          2028,
          9980,
          3298,
          2935,
          15427,
          3944,
          4011,
          3407,
          11994,
          1232,
          2960,
          19094,
          3919,
          6825,
          10248,
          18947,
          2496,
          6465,
          2206,
          2086,
          2293,
          2645,
          2683,
          2014,
          3419,
          5376,
          1951,
          2341,
          2293,
          8726,
          4011,
          19545,
          4568,
          3022,
          5772,
          2269,
          5381,
          3441,
          5454,
          9884,
          4157,
          13458,
          9069,
          4014,
          5915,
          5993,
          6162,
          2406,
          18740,
          7637,
          10096,
          14756,
          6499,
          9724,
          2194,
          3388,
          5473,
          2703,
          2501,
          6220,
          3038,
          4424,
          4312,
          13245,
          13664,
          5021,
          5126,
          2859,
          10239,
          5329,
          4325,
          7260,
          2322,
          2075,
          4152,
          9619,
          13503,
          5441,
          5209,
          10673,
          5010,
          13549,
          4999,
          4221,
          13872,
          2042,
          2073,
          2956,
          2926,
          4809,
          5163,
          18844,
          18172,
          5744,
          2889,
          2871,
          7484,
          6074,
          17328,
          2774,
          4505,
          7428,
          11631,
          9738,
          2835,
          16959,
          2613,
          6146,
          4963,
          19537,
          6172,
          2368,
          10312,
          1675,
          2523,
          6567,
          4739,
          9208,
          4559,
          8189,
          2942,
          4941,
          10650,
          5902,
          8639,
          6347,
          4200,
          3452,
          4317,
          2632,
          4668,
          3204,
          2720,
          17181,
          2238,
          1483,
          5605,
          7295,
          2306,
          2348,
          8998,
          4319,
          6132,
          3346,
          10855,
          2231,
          2323,
          2024,
          2713,
          9439,
          2566,
          19926,
          2451,
          9419,
          8686,
          3038,
          3058,
          2325,
          2088,
          3072,
          5006,
          4257,
          2500,
          1102,
          10453,
          2288,
          3929,
          2311,
          3140,
          3690,
          4450,
          2756,
          19033,
          18722,
          9547,
          13734,
          19999,
          2279,
          5916,
          2089,
          16792,
          3564,
          4425,
          5265,
          6553,
          6261,
          4298,
          6804,
          3815,
          2741,
          6673,
          7639,
          2328,
          2153,
          4876,
          9396,
          10400,
          8474,
          9981,
          12490,
          2657,
          13591,
          6696,
          2058,
          8865,
          5940,
          5914,
          2622,
          12185,
          10609,
          4345,
          2177,
          2793,
          7918,
          8789,
          2389,
          3212,
          19232,
          2267,
          19517,
          2436,
          16064,
          2707,
          19068,
          3931,
          3730,
          2232,
          4465,
          3072,
          3319,
          19202,
          13675,
          2911,
          5957,
          3920,
          6434,
          10048,
          10938,
          2340,
          6545,
          6931,
          4898,
          2593,
          19436,
          2723,
          3479,
          2794,
          5249,
          2176,
          16872,
          3485,
          6644,
          5582,
          4000,
          13496,
          3210,
          19045,
          11849,
          2070,
          6502,
          3230,
          13603,
          11996,
          5605,
          6397,
          19144,
          17584,
          4907,
          4554,
          5415,
          4741,
          2115,
          3161,
          5745,
          2373,
          3310,
          18665,
          4485,
          2789,
          5828,
          2326,
          13525,
          1420,
          8020,
          3688,
          5482,
          16015,
          1200,
          5661,
          6929,
          9613,
          5674,
          5484,
          12061,
          5660,
          4821,
          6410,
          5210,
          2695,
          11878,
          17068,
          2455,
          13964,
          4941,
          2478,
          5228,
          4478,
          7547,
          5055,
          3464,
          5775,
          8943,
          19272,
          5238,
          4682,
          18300,
          5257,
          6349,
          4869,
          9985,
          3697,
          7457,
          2119,
          3983,
          6118,
          6214,
          6347,
          11510,
          7143,
          8268,
          8095,
          2904,
          6032,
          2976,
          15992,
          4649,
          2696,
          2370,
          12504,
          5974,
          4736,
          5296,
          6781,
          2174,
          6653,
          9699,
          6755,
          2213,
          2610,
          2851,
          3452,
          5258,
          9355,
          10496,
          6380,
          2657,
          2716,
          2201,
          6540,
          3816,
          5253,
          10965,
          4936,
          2543,
          5304,
          16659,
          4260,
          2476,
          3102,
          2244,
          7596,
          2285,
          3034,
          5715,
          2576,
          4197,
          14336,
          3448,
          19406,
          6538,
          4306,
          2258,
          4522,
          4487,
          4449,
          2218,
          19197,
          13212,
          6577,
          8392,
          4558,
          4031,
          7969,
          2654,
          16555,
          4556,
          6091,
          19566,
          4810,
          4523,
          3202,
          2351,
          1702,
          18041,
          2886,
          2097,
          11935,
          2546,
          2564,
          8412,
          14118,
          17046,
          2564,
          10266,
          5070,
          17861,
          4230,
          3780,
          2768,
          9071,
          10648,
          13610,
          3408,
          2983,
          7632,
          9824,
          9950,
          2093,
          9980,
          3894,
          4051,
          16835,
          6230,
          4717,
          13237,
          3755,
          6582,
          7406,
          4805,
          2741,
          4262,
          16184,
          11557,
          1878,
          10932,
          6811,
          4306,
          4859,
          5337,
          2340,
          7491,
          10527,
          16595,
          8834,
          5577,
          4707,
          2400,
          9824,
          6447,
          19502,
          2725,
          6272,
          2127,
          18200,
          2096,
          2886,
          2033,
          3622,
          4233,
          3681,
          5460,
          2187,
          9602,
          2836,
          4089,
          16627,
          2619,
          5679,
          15402,
          5985,
          2579,
          3041,
          3447,
          19513,
          2773,
          7104,
          6322,
          2083,
          8381,
          2691,
          4286,
          2659,
          9434,
          5561,
          6646,
          7725,
          10725,
          8847,
          2045,
          1009,
          3348,
          1281,
          2819,
          4851,
          4028,
          2720,
          8120,
          4647,
          4680,
          3221,
          8621,
          4577,
          4553,
          5396,
          6796,
          7625,
          7412,
          11159,
          4960,
          10475,
          14814,
          19141,
          5405,
          8793,
          19189,
          3875,
          2216,
          11713,
          7861,
          3708,
          13770,
          5304,
          2642,
          2759,
          6804,
          6142,
          2500,
          6389,
          11103,
          2342,
          6811,
          2297,
          2450,
          5093,
          5309,
          3057,
          5121,
          16856,
          2686,
          6180,
          6632,
          3505,
          6397,
          6274,
          19859,
          7587,
          4258,
          4364,
          4335,
          5326,
          3280,
          5485,
          4342,
          2782,
          5980,
          4381,
          2572,
          3833,
          4244,
          6500,
          18430,
          1601,
          2694,
          3149,
          17639,
          2319,
          11691,
          5324,
          16752,
          5228,
          2700,
          19246,
          2506,
          6062,
          4382,
          2143,
          6162,
          5094,
          6877,
          2274,
          4434,
          6288,
          2553,
          7654,
          5160,
          17159,
          12808,
          10221,
          4779,
          3737,
          2366,
          1706,
          16307,
          5933,
          3424,
          4037,
          2559,
          6201,
          4403,
          3761,
          10934,
          10761,
          5175,
          13826,
          6334,
          4936,
          4775,
          2818,
          2515,
          2342,
          4194,
          10685,
          2022,
          2314,
          4256,
          3580,
          3162,
          6524,
          2899,
          5231,
          2356,
          2800,
          11836,
          10903,
          2973,
          14275,
          5562,
          4537,
          7642,
          17924,
          5204,
          2277,
          2795,
          2532,
          2559,
          4908,
          2380,
          4765,
          2044,
          2693,
          6586,
          3294,
          4171,
          2778,
          2377,
          2404,
          2318,
          2008,
          6244,
          2799,
          10552,
          2329,
          4014,
          7403,
          2259,
          6932,
          4678,
          13582,
          2332,
          2413,
          9705,
          4294,
          4721,
          2519,
          2121,
          2973,
          5855,
          3617,
          6725,
          10325,
          6949,
          10609,
          4447,
          2157,
          4601,
          17099,
          2479,
          14852,
          7264,
          5666,
          7823,
          7880,
          13194,
          5067,
          5079,
          2321,
          17444,
          2404,
          3452,
          2270,
          17399,
          5488,
          19419,
          2811,
          3633,
          4163,
          2132,
          13973,
          2684,
          10845,
          4377,
          3743,
          4148,
          1051,
          10739,
          10388,
          11416,
          2600,
          2422,
          5472,
          2451,
          4240,
          10999,
          5003,
          12742,
          4227,
          3917,
          18303,
          2380,
          13726,
          4777,
          6385,
          19973,
          6861,
          4969,
          19845,
          13320,
          6347,
          2743,
          10880,
          2342,
          17650,
          4025,
          9725,
          11904,
          2177,
          7525,
          4834,
          2042,
          2220,
          1052,
          2821,
          19237,
          4107,
          8396,
          2007,
          19627,
          10686,
          2942,
          8858,
          16756,
          10798,
          2323,
          1416,
          4615,
          2461,
          8722,
          3955,
          9957,
          3376,
          8823,
          10322,
          4621,
          10976,
          3660,
          10482,
          7119,
          9582,
          4508,
          2207,
          7756,
          6694,
          3691,
          2377,
          2313,
          17665,
          2596,
          4728,
          4302,
          2979,
          16885,
          5593,
          10445,
          8740,
          2514,
          7655,
          17465,
          7351,
          10820,
          12169,
          19626,
          2070,
          6782,
          7779,
          2791,
          3201,
          4968,
          13120,
          4033,
          3291,
          4272,
          5056,
          2844,
          2703,
          1904,
          8224,
          4766,
          2610,
          5731,
          2539,
          5714,
          4323,
          7336,
          13499,
          13758,
          5155,
          2258,
          3597,
          2515,
          4420,
          6578,
          4422,
          10274,
          5343,
          2376,
          5346,
          2827,
          19943,
          3131,
          2552,
          4477,
          6474,
          3033,
          2936,
          18606,
          2168,
          2853,
          17048,
          2290,
          3600,
          2107,
          4115,
          4327,
          17856,
          3196,
          19081,
          8966,
          2210,
          4539,
          2741,
          3491,
          4541,
          2678,
          7379,
          6272,
          5220,
          2743,
          4998,
          10252,
          2781,
          6852,
          4950,
          3579,
          13191,
          10377,
          2235,
          10502,
          2011,
          1859,
          3760,
          17779,
          6833,
          6812,
          5171,
          19740,
          18711,
          3692,
          2559,
          2517,
          6623,
          18265,
          16124,
          2585,
          18213,
          8380,
          2994,
          1223,
          1118,
          2875,
          18824,
          13577,
          2625,
          18789,
          4538,
          19847,
          10512,
          4444,
          2154,
          19190,
          4490,
          3506,
          2372,
          10231,
          5410,
          7978,
          3867,
          2838,
          4695,
          3339,
          2080,
          2096,
          6209,
          18061,
          17123,
          2372,
          4883,
          3904,
          4627,
          7094,
          3423,
          6674,
          16880,
          9094,
          8446,
          11916,
          4534,
          9852,
          6151,
          2302,
          2362,
          17861,
          19187,
          19717,
          3544,
          8500,
          4661,
          4103,
          4249,
          14026,
          6893,
          6125,
          3669,
          10008,
          2387,
          4639,
          7898,
          2534,
          13142,
          1611,
          5363,
          5071,
          13695,
          13402,
          2029,
          6377,
          5429,
          2785,
          4614,
          2610,
          6687,
          4724,
          6179,
          6120,
          10596,
          5467,
          2996,
          9998,
          4078,
          10920,
          6232,
          13247,
          4081,
          5769,
          2394,
          3904,
          16799,
          2950,
          3629,
          9362,
          3229,
          3578,
          7988,
          4284,
          7553,
          17328,
          19701,
          14732,
          9278,
          1359,
          4779,
          16422,
          2996,
          1261,
          2099,
          5810,
          5647,
          3420,
          4400,
          3500,
          2066,
          17169,
          4162,
          9204,
          3294,
          2127,
          3975,
          10793,
          10096,
          3646,
          7446,
          10851,
          2109,
          3722,
          9380,
          5486,
          2742,
          13757,
          8463,
          3162,
          16598,
          6651,
          2345,
          3420,
          4373,
          4759,
          5301,
          3673,
          4768,
          1274,
          4900,
          10466,
          17007,
          2909,
          5765,
          4599,
          2404,
          3172,
          2033,
          10209,
          8620,
          2064,
          4035,
          3838,
          4591,
          2561,
          1563,
          4898,
          4789,
          3180,
          6549,
          6388,
          11244,
          16032,
          2362,
          16328,
          8376,
          16606,
          8606,
          2272,
          2018,
          7083,
          4084,
          14411,
          2308,
          4841,
          4285,
          9715,
          4320,
          2132,
          10124,
          5473,
          5207,
          16437,
          2296,
          4069,
          7441,
          2430,
          5878,
          2644,
          6439,
          2451,
          6392,
          9714,
          6077,
          2450,
          9250,
          2074,
          10169,
          4855,
          4087,
          2367,
          2972,
          19586,
          5484,
          2061,
          9924,
          4198,
          6815,
          4723,
          6142,
          8237,
          8853,
          19331,
          2073,
          5562,
          19613,
          3407,
          5063,
          4639,
          4876,
          2690,
          17567,
          2408,
          2814,
          11245,
          3312,
          19049,
          2141,
          5769,
          4385,
          5332,
          4663,
          4724,
          3211,
          5377,
          4066,
          5208,
          4877,
          3117,
          1569,
          19658,
          3069,
          10435,
          4148,
          5768,
          5042,
          5770,
          7756,
          10306,
          3936,
          7945,
          5743,
          15202,
          5440,
          3760,
          3517,
          2580,
          2166,
          5869,
          8008,
          5206,
          5295,
          16413,
          13269,
          2783,
          5433,
          2013,
          13966,
          4374,
          6842,
          17426,
          17603,
          4581,
          4735,
          4187,
          5505,
          5470,
          5476,
          2587,
          2440,
          15972,
          15379,
          7082,
          2728,
          5368,
          5347,
          3195,
          3989,
          3306,
          7005,
          2655,
          1393,
          2570,
          3537,
          3986,
          10883,
          2028,
          9525,
          2929,
          2275,
          7879,
          4930,
          7847,
          4401,
          9241,
          2974,
          4502,
          10748,
          1555,
          12936,
          2305,
          16704,
          3433,
          3477,
          6430,
          6516,
          3907,
          5562,
          6883,
          2862,
          4978,
          10368,
          6134,
          6735,
          3295,
          5238,
          6472,
          9610,
          19833,
          9756,
          4968,
          2145,
          2180,
          8346,
          3445,
          2760,
          6294,
          7140,
          2932,
          5147,
          4507,
          8564,
          2468,
          8161,
          2109,
          5294,
          2718,
          5811,
          2437,
          2766,
          19038,
          3055,
          2289,
          4001,
          12965,
          3539,
          6029,
          2679,
          3702,
          2398,
          5468,
          13116,
          4189,
          19328,
          8321,
          2342,
          4071,
          5813,
          3143,
          2044,
          13464,
          7991,
          3377,
          5538,
          5762,
          2592,
          5346,
          4213,
          4127,
          2438,
          6870,
          10447,
          9667,
          2148,
          8926,
          6513,
          6799,
          16291,
          2705,
          10333,
          4448,
          6854,
          9637,
          3591,
          5405,
          4684,
          15787,
          1514,
          2956,
          2335,
          5154,
          6962,
          5675,
          2379,
          3812,
          4648,
          2936,
          2105,
          8578,
          2706,
          6384,
          3968,
          9907,
          13225,
          3540,
          2804,
          19392,
          19665,
          2439,
          7314,
          4774,
          3902,
          2662,
          2856,
          1081,
          2472,
          5673,
          4197,
          9713,
          2062,
          4284,
          4788,
          5906,
          3886,
          16823,
          2933,
          6500,
          17174,
          5033,
          2307,
          2587,
          5507,
          4393,
          13348,
          6583,
          8103,
          3978,
          2544,
          5399,
          5487,
          6834,
          1091,
          5736,
          2226,
          5747,
          9854,
          5467,
          5380,
          5151,
          2133,
          17875,
          2432,
          4771,
          19161,
          5087,
          2863,
          5561,
          2144,
          3065,
          2810,
          9888,
          8628,
          2867,
          5373,
          6667,
          5003,
          2367,
          2858,
          5204,
          4105,
          9679,
          5617,
          10448,
          2897,
          5968,
          7510,
          2991,
          19636,
          1129,
          13341,
          4332,
          11031,
          4440,
          4617,
          2647,
          6323,
          5677,
          2187,
          3748,
          3977,
          8633,
          2008,
          4440,
          3067,
          5321,
          5410,
          2782,
          11957,
          2660,
          3375,
          5098,
          4878,
          2837,
          2406,
          2269,
          4108,
          13206,
          10422,
          13744,
          4907,
          3482,
          2436,
          2380,
          19431,
          1790,
          7644,
          5131,
          6306,
          4787,
          18880,
          2339,
          13570,
          6712,
          5406,
          8938,
          2439,
          8837,
          5343,
          6728,
          6652,
          4850,
          2809,
          5689,
          2001,
          2977,
          4025,
          3785,
          10854,
          12031,
          9936,
          2966,
          2571,
          9991,
          6142,
          5390,
          4404
         ],
         "xaxis": "x",
         "yaxis": "y"
        }
       ],
       "layout": {
        "barmode": "relative",
        "legend": {
         "tracegroupgap": 0
        },
        "template": {
         "data": {
          "bar": [
           {
            "error_x": {
             "color": "#2a3f5f"
            },
            "error_y": {
             "color": "#2a3f5f"
            },
            "marker": {
             "line": {
              "color": "#E5ECF6",
              "width": 0.5
             },
             "pattern": {
              "fillmode": "overlay",
              "size": 10,
              "solidity": 0.2
             }
            },
            "type": "bar"
           }
          ],
          "barpolar": [
           {
            "marker": {
             "line": {
              "color": "#E5ECF6",
              "width": 0.5
             },
             "pattern": {
              "fillmode": "overlay",
              "size": 10,
              "solidity": 0.2
             }
            },
            "type": "barpolar"
           }
          ],
          "carpet": [
           {
            "aaxis": {
             "endlinecolor": "#2a3f5f",
             "gridcolor": "white",
             "linecolor": "white",
             "minorgridcolor": "white",
             "startlinecolor": "#2a3f5f"
            },
            "baxis": {
             "endlinecolor": "#2a3f5f",
             "gridcolor": "white",
             "linecolor": "white",
             "minorgridcolor": "white",
             "startlinecolor": "#2a3f5f"
            },
            "type": "carpet"
           }
          ],
          "choropleth": [
           {
            "colorbar": {
             "outlinewidth": 0,
             "ticks": ""
            },
            "type": "choropleth"
           }
          ],
          "contour": [
           {
            "colorbar": {
             "outlinewidth": 0,
             "ticks": ""
            },
            "colorscale": [
             [
              0,
              "#0d0887"
             ],
             [
              0.1111111111111111,
              "#46039f"
             ],
             [
              0.2222222222222222,
              "#7201a8"
             ],
             [
              0.3333333333333333,
              "#9c179e"
             ],
             [
              0.4444444444444444,
              "#bd3786"
             ],
             [
              0.5555555555555556,
              "#d8576b"
             ],
             [
              0.6666666666666666,
              "#ed7953"
             ],
             [
              0.7777777777777778,
              "#fb9f3a"
             ],
             [
              0.8888888888888888,
              "#fdca26"
             ],
             [
              1,
              "#f0f921"
             ]
            ],
            "type": "contour"
           }
          ],
          "contourcarpet": [
           {
            "colorbar": {
             "outlinewidth": 0,
             "ticks": ""
            },
            "type": "contourcarpet"
           }
          ],
          "heatmap": [
           {
            "colorbar": {
             "outlinewidth": 0,
             "ticks": ""
            },
            "colorscale": [
             [
              0,
              "#0d0887"
             ],
             [
              0.1111111111111111,
              "#46039f"
             ],
             [
              0.2222222222222222,
              "#7201a8"
             ],
             [
              0.3333333333333333,
              "#9c179e"
             ],
             [
              0.4444444444444444,
              "#bd3786"
             ],
             [
              0.5555555555555556,
              "#d8576b"
             ],
             [
              0.6666666666666666,
              "#ed7953"
             ],
             [
              0.7777777777777778,
              "#fb9f3a"
             ],
             [
              0.8888888888888888,
              "#fdca26"
             ],
             [
              1,
              "#f0f921"
             ]
            ],
            "type": "heatmap"
           }
          ],
          "heatmapgl": [
           {
            "colorbar": {
             "outlinewidth": 0,
             "ticks": ""
            },
            "colorscale": [
             [
              0,
              "#0d0887"
             ],
             [
              0.1111111111111111,
              "#46039f"
             ],
             [
              0.2222222222222222,
              "#7201a8"
             ],
             [
              0.3333333333333333,
              "#9c179e"
             ],
             [
              0.4444444444444444,
              "#bd3786"
             ],
             [
              0.5555555555555556,
              "#d8576b"
             ],
             [
              0.6666666666666666,
              "#ed7953"
             ],
             [
              0.7777777777777778,
              "#fb9f3a"
             ],
             [
              0.8888888888888888,
              "#fdca26"
             ],
             [
              1,
              "#f0f921"
             ]
            ],
            "type": "heatmapgl"
           }
          ],
          "histogram": [
           {
            "marker": {
             "pattern": {
              "fillmode": "overlay",
              "size": 10,
              "solidity": 0.2
             }
            },
            "type": "histogram"
           }
          ],
          "histogram2d": [
           {
            "colorbar": {
             "outlinewidth": 0,
             "ticks": ""
            },
            "colorscale": [
             [
              0,
              "#0d0887"
             ],
             [
              0.1111111111111111,
              "#46039f"
             ],
             [
              0.2222222222222222,
              "#7201a8"
             ],
             [
              0.3333333333333333,
              "#9c179e"
             ],
             [
              0.4444444444444444,
              "#bd3786"
             ],
             [
              0.5555555555555556,
              "#d8576b"
             ],
             [
              0.6666666666666666,
              "#ed7953"
             ],
             [
              0.7777777777777778,
              "#fb9f3a"
             ],
             [
              0.8888888888888888,
              "#fdca26"
             ],
             [
              1,
              "#f0f921"
             ]
            ],
            "type": "histogram2d"
           }
          ],
          "histogram2dcontour": [
           {
            "colorbar": {
             "outlinewidth": 0,
             "ticks": ""
            },
            "colorscale": [
             [
              0,
              "#0d0887"
             ],
             [
              0.1111111111111111,
              "#46039f"
             ],
             [
              0.2222222222222222,
              "#7201a8"
             ],
             [
              0.3333333333333333,
              "#9c179e"
             ],
             [
              0.4444444444444444,
              "#bd3786"
             ],
             [
              0.5555555555555556,
              "#d8576b"
             ],
             [
              0.6666666666666666,
              "#ed7953"
             ],
             [
              0.7777777777777778,
              "#fb9f3a"
             ],
             [
              0.8888888888888888,
              "#fdca26"
             ],
             [
              1,
              "#f0f921"
             ]
            ],
            "type": "histogram2dcontour"
           }
          ],
          "mesh3d": [
           {
            "colorbar": {
             "outlinewidth": 0,
             "ticks": ""
            },
            "type": "mesh3d"
           }
          ],
          "parcoords": [
           {
            "line": {
             "colorbar": {
              "outlinewidth": 0,
              "ticks": ""
             }
            },
            "type": "parcoords"
           }
          ],
          "pie": [
           {
            "automargin": true,
            "type": "pie"
           }
          ],
          "scatter": [
           {
            "fillpattern": {
             "fillmode": "overlay",
             "size": 10,
             "solidity": 0.2
            },
            "type": "scatter"
           }
          ],
          "scatter3d": [
           {
            "line": {
             "colorbar": {
              "outlinewidth": 0,
              "ticks": ""
             }
            },
            "marker": {
             "colorbar": {
              "outlinewidth": 0,
              "ticks": ""
             }
            },
            "type": "scatter3d"
           }
          ],
          "scattercarpet": [
           {
            "marker": {
             "colorbar": {
              "outlinewidth": 0,
              "ticks": ""
             }
            },
            "type": "scattercarpet"
           }
          ],
          "scattergeo": [
           {
            "marker": {
             "colorbar": {
              "outlinewidth": 0,
              "ticks": ""
             }
            },
            "type": "scattergeo"
           }
          ],
          "scattergl": [
           {
            "marker": {
             "colorbar": {
              "outlinewidth": 0,
              "ticks": ""
             }
            },
            "type": "scattergl"
           }
          ],
          "scattermapbox": [
           {
            "marker": {
             "colorbar": {
              "outlinewidth": 0,
              "ticks": ""
             }
            },
            "type": "scattermapbox"
           }
          ],
          "scatterpolar": [
           {
            "marker": {
             "colorbar": {
              "outlinewidth": 0,
              "ticks": ""
             }
            },
            "type": "scatterpolar"
           }
          ],
          "scatterpolargl": [
           {
            "marker": {
             "colorbar": {
              "outlinewidth": 0,
              "ticks": ""
             }
            },
            "type": "scatterpolargl"
           }
          ],
          "scatterternary": [
           {
            "marker": {
             "colorbar": {
              "outlinewidth": 0,
              "ticks": ""
             }
            },
            "type": "scatterternary"
           }
          ],
          "surface": [
           {
            "colorbar": {
             "outlinewidth": 0,
             "ticks": ""
            },
            "colorscale": [
             [
              0,
              "#0d0887"
             ],
             [
              0.1111111111111111,
              "#46039f"
             ],
             [
              0.2222222222222222,
              "#7201a8"
             ],
             [
              0.3333333333333333,
              "#9c179e"
             ],
             [
              0.4444444444444444,
              "#bd3786"
             ],
             [
              0.5555555555555556,
              "#d8576b"
             ],
             [
              0.6666666666666666,
              "#ed7953"
             ],
             [
              0.7777777777777778,
              "#fb9f3a"
             ],
             [
              0.8888888888888888,
              "#fdca26"
             ],
             [
              1,
              "#f0f921"
             ]
            ],
            "type": "surface"
           }
          ],
          "table": [
           {
            "cells": {
             "fill": {
              "color": "#EBF0F8"
             },
             "line": {
              "color": "white"
             }
            },
            "header": {
             "fill": {
              "color": "#C8D4E3"
             },
             "line": {
              "color": "white"
             }
            },
            "type": "table"
           }
          ]
         },
         "layout": {
          "annotationdefaults": {
           "arrowcolor": "#2a3f5f",
           "arrowhead": 0,
           "arrowwidth": 1
          },
          "autotypenumbers": "strict",
          "coloraxis": {
           "colorbar": {
            "outlinewidth": 0,
            "ticks": ""
           }
          },
          "colorscale": {
           "diverging": [
            [
             0,
             "#8e0152"
            ],
            [
             0.1,
             "#c51b7d"
            ],
            [
             0.2,
             "#de77ae"
            ],
            [
             0.3,
             "#f1b6da"
            ],
            [
             0.4,
             "#fde0ef"
            ],
            [
             0.5,
             "#f7f7f7"
            ],
            [
             0.6,
             "#e6f5d0"
            ],
            [
             0.7,
             "#b8e186"
            ],
            [
             0.8,
             "#7fbc41"
            ],
            [
             0.9,
             "#4d9221"
            ],
            [
             1,
             "#276419"
            ]
           ],
           "sequential": [
            [
             0,
             "#0d0887"
            ],
            [
             0.1111111111111111,
             "#46039f"
            ],
            [
             0.2222222222222222,
             "#7201a8"
            ],
            [
             0.3333333333333333,
             "#9c179e"
            ],
            [
             0.4444444444444444,
             "#bd3786"
            ],
            [
             0.5555555555555556,
             "#d8576b"
            ],
            [
             0.6666666666666666,
             "#ed7953"
            ],
            [
             0.7777777777777778,
             "#fb9f3a"
            ],
            [
             0.8888888888888888,
             "#fdca26"
            ],
            [
             1,
             "#f0f921"
            ]
           ],
           "sequentialminus": [
            [
             0,
             "#0d0887"
            ],
            [
             0.1111111111111111,
             "#46039f"
            ],
            [
             0.2222222222222222,
             "#7201a8"
            ],
            [
             0.3333333333333333,
             "#9c179e"
            ],
            [
             0.4444444444444444,
             "#bd3786"
            ],
            [
             0.5555555555555556,
             "#d8576b"
            ],
            [
             0.6666666666666666,
             "#ed7953"
            ],
            [
             0.7777777777777778,
             "#fb9f3a"
            ],
            [
             0.8888888888888888,
             "#fdca26"
            ],
            [
             1,
             "#f0f921"
            ]
           ]
          },
          "colorway": [
           "#636efa",
           "#EF553B",
           "#00cc96",
           "#ab63fa",
           "#FFA15A",
           "#19d3f3",
           "#FF6692",
           "#B6E880",
           "#FF97FF",
           "#FECB52"
          ],
          "font": {
           "color": "#2a3f5f"
          },
          "geo": {
           "bgcolor": "white",
           "lakecolor": "white",
           "landcolor": "#E5ECF6",
           "showlakes": true,
           "showland": true,
           "subunitcolor": "white"
          },
          "hoverlabel": {
           "align": "left"
          },
          "hovermode": "closest",
          "mapbox": {
           "style": "light"
          },
          "paper_bgcolor": "white",
          "plot_bgcolor": "#E5ECF6",
          "polar": {
           "angularaxis": {
            "gridcolor": "white",
            "linecolor": "white",
            "ticks": ""
           },
           "bgcolor": "#E5ECF6",
           "radialaxis": {
            "gridcolor": "white",
            "linecolor": "white",
            "ticks": ""
           }
          },
          "scene": {
           "xaxis": {
            "backgroundcolor": "#E5ECF6",
            "gridcolor": "white",
            "gridwidth": 2,
            "linecolor": "white",
            "showbackground": true,
            "ticks": "",
            "zerolinecolor": "white"
           },
           "yaxis": {
            "backgroundcolor": "#E5ECF6",
            "gridcolor": "white",
            "gridwidth": 2,
            "linecolor": "white",
            "showbackground": true,
            "ticks": "",
            "zerolinecolor": "white"
           },
           "zaxis": {
            "backgroundcolor": "#E5ECF6",
            "gridcolor": "white",
            "gridwidth": 2,
            "linecolor": "white",
            "showbackground": true,
            "ticks": "",
            "zerolinecolor": "white"
           }
          },
          "shapedefaults": {
           "line": {
            "color": "#2a3f5f"
           }
          },
          "ternary": {
           "aaxis": {
            "gridcolor": "white",
            "linecolor": "white",
            "ticks": ""
           },
           "baxis": {
            "gridcolor": "white",
            "linecolor": "white",
            "ticks": ""
           },
           "bgcolor": "#E5ECF6",
           "caxis": {
            "gridcolor": "white",
            "linecolor": "white",
            "ticks": ""
           }
          },
          "title": {
           "x": 0.05
          },
          "xaxis": {
           "automargin": true,
           "gridcolor": "white",
           "linecolor": "white",
           "ticks": "",
           "title": {
            "standoff": 15
           },
           "zerolinecolor": "white",
           "zerolinewidth": 2
          },
          "yaxis": {
           "automargin": true,
           "gridcolor": "white",
           "linecolor": "white",
           "ticks": "",
           "title": {
            "standoff": 15
           },
           "zerolinecolor": "white",
           "zerolinewidth": 2
          }
         }
        },
        "title": {
         "text": "Monthly Income Distribution"
        },
        "xaxis": {
         "anchor": "y",
         "domain": [
          0,
          1
         ],
         "title": {
          "text": "Monthly Income ($)"
         }
        },
        "yaxis": {
         "anchor": "x",
         "domain": [
          0,
          1
         ],
         "title": {
          "text": "count"
         }
        }
       }
      }
     },
     "metadata": {},
     "output_type": "display_data"
    }
   ],
   "source": [
    "# Monthly Income Distribution\n",
    "fig_income = px.histogram(\n",
    "    df_cleaned, x=\"MonthlyIncome\", nbins=30, \n",
    "    title=\"Monthly Income Distribution\", \n",
    "    labels={\"MonthlyIncome\": \"Monthly Income ($)\"}, \n",
    "    color_discrete_sequence=[\"#EF553B\"],\n",
    "    text_auto= True\n",
    ")\n",
    "fig_income.show()"
   ]
  },
  {
   "cell_type": "code",
   "execution_count": 29,
   "metadata": {},
   "outputs": [
    {
     "data": {
      "application/vnd.plotly.v1+json": {
       "config": {
        "plotlyServerURL": "https://plot.ly"
       },
       "data": [
        {
         "alignmentgroup": "True",
         "bingroup": "x",
         "hovertemplate": "Years at Company=%{x}<br>count=%{y}<extra></extra>",
         "legendgroup": "",
         "marker": {
          "color": "#00CC96",
          "pattern": {
           "shape": ""
          }
         },
         "name": "",
         "nbinsx": 30,
         "offsetgroup": "",
         "orientation": "v",
         "showlegend": false,
         "texttemplate": "%{value}",
         "type": "histogram",
         "x": [
          6,
          10,
          0,
          8,
          2,
          7,
          1,
          1,
          9,
          7,
          5,
          9,
          5,
          2,
          4,
          10,
          6,
          1,
          25,
          3,
          4,
          5,
          12,
          0,
          4,
          14,
          10,
          9,
          22,
          2,
          1,
          4,
          10,
          1,
          2,
          5,
          3,
          2,
          1,
          5,
          1,
          1,
          1,
          9,
          12,
          22,
          9,
          1,
          9,
          1,
          1,
          2,
          4,
          4,
          2,
          15,
          9,
          2,
          7,
          7,
          9,
          10,
          27,
          21,
          17,
          5,
          6,
          1,
          3,
          1,
          4,
          5,
          1,
          10,
          1,
          11,
          15,
          0,
          5,
          4,
          10,
          6,
          1,
          13,
          5,
          6,
          0,
          4,
          11,
          9,
          22,
          10,
          11,
          10,
          11,
          4,
          3,
          5,
          37,
          3,
          3,
          1,
          1,
          16,
          1,
          3,
          8,
          6,
          2,
          0,
          13,
          9,
          5,
          5,
          1,
          5,
          11,
          9,
          1,
          25,
          10,
          7,
          5,
          20,
          7,
          5,
          40,
          0,
          2,
          15,
          3,
          2,
          2,
          9,
          8,
          3,
          4,
          15,
          2,
          11,
          5,
          6,
          3,
          5,
          8,
          3,
          5,
          7,
          5,
          1,
          20,
          10,
          7,
          17,
          9,
          10,
          1,
          1,
          12,
          4,
          2,
          2,
          5,
          5,
          1,
          5,
          9,
          10,
          8,
          5,
          5,
          0,
          8,
          12,
          5,
          2,
          3,
          1,
          24,
          2,
          4,
          3,
          4,
          3,
          4,
          8,
          20,
          24,
          10,
          7,
          33,
          7,
          1,
          5,
          20,
          8,
          6,
          5,
          1,
          7,
          2,
          7,
          5,
          7,
          1,
          10,
          4,
          8,
          3,
          4,
          14,
          11,
          7,
          10,
          5,
          1,
          6,
          6,
          19,
          6,
          13,
          3,
          10,
          16,
          5,
          1,
          9,
          11,
          10,
          4,
          2,
          22,
          2,
          7,
          5,
          17,
          9,
          33,
          4,
          3,
          3,
          3,
          1,
          9,
          24,
          2,
          2,
          11,
          3,
          3,
          1,
          19,
          6,
          3,
          3,
          4,
          9,
          21,
          1,
          5,
          5,
          8,
          6,
          7,
          0,
          0,
          9,
          6,
          20,
          15,
          36,
          10,
          5,
          5,
          3,
          5,
          7,
          8,
          6,
          10,
          5,
          20,
          10,
          10,
          5,
          17,
          1,
          2,
          3,
          5,
          3,
          8,
          2,
          8,
          4,
          20,
          0,
          11,
          1,
          4,
          22,
          0,
          8,
          8,
          18,
          9,
          13,
          10,
          5,
          5,
          2,
          24,
          2,
          10,
          21,
          8,
          7,
          8,
          4,
          13,
          5,
          7,
          7,
          3,
          10,
          10,
          21,
          1,
          7,
          3,
          9,
          5,
          4,
          1,
          10,
          4,
          7,
          3,
          10,
          8,
          6,
          11,
          11,
          7,
          16,
          4,
          5,
          0,
          1,
          4,
          3,
          8,
          0,
          7,
          2,
          8,
          1,
          3,
          1,
          13,
          3,
          7,
          3,
          1,
          5,
          1,
          8,
          4,
          6,
          2,
          1,
          3,
          1,
          5,
          7,
          5,
          7,
          2,
          5,
          5,
          5,
          1,
          6,
          2,
          10,
          1,
          18,
          5,
          5,
          1,
          25,
          1,
          4,
          3,
          13,
          3,
          5,
          5,
          13,
          4,
          21,
          7,
          5,
          10,
          10,
          2,
          5,
          2,
          5,
          5,
          5,
          29,
          10,
          6,
          5,
          2,
          1,
          20,
          3,
          5,
          10,
          2,
          1,
          9,
          1,
          27,
          11,
          18,
          5,
          3,
          5,
          1,
          7,
          3,
          13,
          7,
          4,
          3,
          8,
          1,
          3,
          2,
          10,
          2,
          9,
          10,
          14,
          11,
          20,
          8,
          6,
          10,
          8,
          7,
          3,
          6,
          5,
          0,
          1,
          8,
          0,
          5,
          10,
          1,
          6,
          2,
          18,
          9,
          10,
          4,
          2,
          1,
          6,
          31,
          6,
          5,
          1,
          32,
          7,
          6,
          1,
          6,
          3,
          3,
          7,
          5,
          3,
          1,
          10,
          1,
          0,
          8,
          3,
          2,
          8,
          4,
          3,
          2,
          2,
          5,
          6,
          1,
          14,
          10,
          1,
          3,
          10,
          6,
          17,
          13,
          9,
          3,
          4,
          1,
          10,
          1,
          3,
          3,
          7,
          10,
          2,
          6,
          1,
          20,
          8,
          2,
          20,
          10,
          4,
          9,
          9,
          7,
          7,
          18,
          5,
          21,
          2,
          9,
          22,
          2,
          7,
          8,
          1,
          5,
          22,
          8,
          1,
          2,
          2,
          5,
          4,
          8,
          10,
          4,
          7,
          2,
          2,
          1,
          10,
          1,
          0,
          34,
          10,
          6,
          8,
          2,
          5,
          6,
          5,
          10,
          4,
          2,
          8,
          4,
          4,
          5,
          4,
          5,
          15,
          6,
          3,
          2,
          8,
          3,
          24,
          0,
          1,
          5,
          4,
          1,
          13,
          3,
          26,
          9,
          10,
          31,
          2,
          4,
          2,
          5,
          14,
          1,
          0,
          1,
          9,
          4,
          5,
          9,
          9,
          4,
          9,
          8,
          8,
          3,
          8,
          0,
          20,
          5,
          4,
          9,
          6,
          18,
          5,
          5,
          5,
          5,
          5,
          9,
          1,
          5,
          2,
          3,
          2,
          5,
          5,
          17,
          10,
          3,
          5,
          4,
          5,
          10,
          2,
          5,
          6,
          3,
          2,
          13,
          5,
          12,
          5,
          7,
          10,
          31,
          5,
          4,
          1,
          4,
          8,
          4,
          1,
          1,
          2,
          1,
          16,
          3,
          3,
          7,
          2,
          2,
          1,
          1,
          5,
          3,
          6,
          7,
          10,
          26,
          0,
          9,
          6,
          15,
          3,
          1,
          1,
          7,
          18,
          11,
          1,
          1,
          9,
          1,
          8,
          16,
          5,
          14,
          9,
          3,
          5,
          9,
          1,
          17,
          8,
          5,
          10,
          8,
          1,
          19,
          7,
          3,
          10,
          0,
          3,
          5,
          5,
          6,
          18,
          2,
          9,
          9,
          5,
          12,
          2,
          8,
          4,
          4,
          4,
          0,
          10,
          16,
          8,
          1,
          3,
          8,
          4,
          2,
          15,
          2,
          21,
          3,
          3,
          1,
          1,
          5,
          1,
          8,
          21,
          1,
          2,
          32,
          12,
          18,
          17,
          21,
          2,
          9,
          8,
          15,
          6,
          6,
          15,
          1,
          3,
          1,
          1,
          2,
          8,
          4,
          7,
          5,
          2,
          9,
          5,
          14,
          9,
          1,
          2,
          1,
          16,
          10,
          10,
          5,
          6,
          10,
          19,
          11,
          3,
          3,
          8,
          20,
          3,
          8,
          13,
          4,
          6,
          1,
          7,
          1,
          2,
          22,
          1,
          0,
          3,
          0,
          5,
          15,
          8,
          8,
          7,
          9,
          12,
          1,
          8,
          18,
          20,
          2,
          5,
          11,
          2,
          5,
          5,
          9,
          3,
          7,
          1,
          10,
          7,
          3,
          0,
          5,
          1,
          2,
          6,
          4,
          6,
          5,
          11,
          18,
          21,
          6,
          8,
          4,
          1,
          8,
          10,
          1,
          7,
          13,
          2,
          4,
          1,
          5,
          10,
          1,
          3,
          14,
          2,
          6,
          7,
          5,
          0,
          26,
          0,
          5,
          1,
          4,
          0,
          2,
          6,
          4,
          7,
          1,
          10,
          7,
          10,
          20,
          2,
          6,
          4,
          11,
          2,
          8,
          7,
          14,
          5,
          4,
          11,
          1,
          13,
          9,
          5,
          10,
          1,
          3,
          10,
          6,
          10,
          6,
          8,
          1,
          11,
          1,
          5,
          6,
          1,
          7,
          1,
          22,
          9,
          1,
          1,
          1,
          8,
          24,
          33,
          2,
          11,
          3,
          29,
          9,
          11,
          4,
          25,
          10,
          3,
          1,
          21,
          16,
          10,
          2,
          7,
          8,
          7,
          3,
          2,
          10,
          0,
          19,
          2,
          10,
          5,
          9,
          7,
          7,
          9,
          3,
          5,
          8,
          9,
          8,
          10,
          19,
          3,
          3,
          20,
          19,
          7,
          4,
          9,
          9,
          9,
          9,
          33,
          7,
          10,
          3,
          10,
          4,
          15,
          10,
          1,
          5,
          0,
          9,
          6,
          19,
          19,
          5,
          12,
          8,
          1,
          4,
          4,
          14,
          5,
          10,
          5,
          4,
          6,
          6,
          5,
          3,
          6,
          3,
          5,
          20,
          6,
          8,
          4,
          20,
          5,
          3,
          2,
          3,
          7,
          10,
          4,
          8,
          20,
          9,
          7,
          5,
          1,
          3,
          3,
          4,
          1,
          5,
          10,
          3,
          6,
          3,
          6,
          3,
          20,
          5,
          4,
          5,
          4,
          8,
          13,
          7,
          1,
          10,
          7,
          3,
          2,
          3,
          2,
          2,
          9,
          5,
          5,
          9,
          3,
          3,
          5,
          4,
          13,
          2,
          12,
          1,
          1,
          12,
          8,
          14,
          3,
          5,
          15,
          1,
          0,
          1,
          2,
          10,
          5,
          3,
          5,
          5,
          0,
          1,
          4,
          3,
          3,
          8,
          0,
          5,
          14,
          9,
          20,
          2,
          13,
          11,
          4,
          5,
          10,
          7,
          32,
          11,
          1,
          10,
          7,
          5,
          5,
          20,
          8,
          15,
          21,
          1,
          2,
          10,
          5,
          7,
          3,
          8,
          1,
          2,
          10,
          6,
          3,
          4,
          1,
          33,
          5,
          6,
          8,
          1,
          36,
          2,
          1,
          9,
          3,
          1,
          10,
          5,
          7,
          6,
          1,
          2,
          3,
          1,
          10,
          8,
          5,
          6,
          1,
          26,
          1,
          4,
          30,
          3,
          22,
          6,
          10,
          10,
          5,
          3,
          9,
          9,
          7,
          7,
          16,
          5,
          2,
          0,
          5,
          10,
          18,
          14,
          4,
          9,
          10,
          5,
          13,
          8,
          4,
          10,
          2,
          2,
          6,
          3,
          4,
          4,
          5,
          3,
          7,
          5,
          4,
          14,
          2,
          11,
          4,
          15,
          3,
          5,
          10,
          14,
          11,
          13,
          10,
          6,
          9,
          10,
          2,
          4,
          3,
          8,
          2,
          2,
          6,
          3,
          2,
          5,
          0,
          4,
          9,
          1,
          7,
          4,
          15,
          1,
          14,
          6,
          10,
          3,
          8,
          5,
          10,
          5,
          10,
          5,
          13,
          23,
          1,
          23,
          3,
          21,
          5,
          5,
          3,
          1,
          6,
          10,
          7,
          10,
          1,
          10,
          2,
          0,
          3,
          5,
          9,
          4,
          21,
          5,
          9,
          2,
          4,
          5,
          6,
          2,
          3,
          7,
          5,
          11,
          5,
          0,
          6,
          1,
          1,
          7,
          7,
          1,
          1,
          5,
          1,
          9,
          5,
          15,
          3,
          9,
          2,
          1,
          5,
          1,
          12,
          2,
          5,
          2,
          12,
          5,
          10,
          10,
          10,
          5,
          4,
          2,
          4,
          0,
          7,
          11,
          7,
          10,
          2,
          3,
          3,
          22,
          7,
          5,
          9,
          5,
          10,
          16,
          5,
          22,
          7,
          7,
          3,
          3,
          4,
          5,
          2,
          0,
          1,
          2,
          8,
          1,
          7,
          5,
          11,
          0,
          6,
          2,
          9,
          3,
          7,
          0,
          2,
          19,
          9,
          1,
          16,
          22,
          1,
          8,
          7,
          2,
          5,
          1,
          1,
          1,
          10,
          10,
          5,
          3,
          5,
          3,
          9,
          10,
          19,
          1,
          8,
          22,
          2,
          5,
          4,
          4,
          5,
          13,
          5,
          4,
          2,
          7,
          4,
          10,
          7,
          1,
          3,
          5,
          15,
          2,
          8,
          0,
          10,
          20,
          1,
          4,
          5,
          5,
          0,
          1,
          5,
          5,
          4,
          5,
          14,
          8,
          7,
          5,
          5,
          10,
          4,
          1,
          10,
          7,
          1,
          10,
          2,
          4,
          9,
          10,
          6,
          10,
          1,
          20,
          20,
          11,
          5,
          4,
          5,
          10,
          11,
          2,
          12,
          2,
          17,
          1,
          15,
          2,
          8,
          4,
          5,
          13,
          2,
          3,
          10,
          9,
          6,
          1,
          2,
          7,
          18,
          14,
          16,
          5,
          9,
          4,
          2,
          6,
          1,
          9,
          4,
          13,
          2,
          22,
          10,
          20,
          8,
          15,
          5,
          4,
          9,
          10,
          6,
          6,
          5,
          2,
          10,
          5,
          4,
          4,
          5,
          3,
          20,
          9,
          4,
          5,
          7,
          6,
          9,
          4
         ],
         "xaxis": "x",
         "yaxis": "y"
        }
       ],
       "layout": {
        "barmode": "relative",
        "legend": {
         "tracegroupgap": 0
        },
        "template": {
         "data": {
          "bar": [
           {
            "error_x": {
             "color": "#2a3f5f"
            },
            "error_y": {
             "color": "#2a3f5f"
            },
            "marker": {
             "line": {
              "color": "#E5ECF6",
              "width": 0.5
             },
             "pattern": {
              "fillmode": "overlay",
              "size": 10,
              "solidity": 0.2
             }
            },
            "type": "bar"
           }
          ],
          "barpolar": [
           {
            "marker": {
             "line": {
              "color": "#E5ECF6",
              "width": 0.5
             },
             "pattern": {
              "fillmode": "overlay",
              "size": 10,
              "solidity": 0.2
             }
            },
            "type": "barpolar"
           }
          ],
          "carpet": [
           {
            "aaxis": {
             "endlinecolor": "#2a3f5f",
             "gridcolor": "white",
             "linecolor": "white",
             "minorgridcolor": "white",
             "startlinecolor": "#2a3f5f"
            },
            "baxis": {
             "endlinecolor": "#2a3f5f",
             "gridcolor": "white",
             "linecolor": "white",
             "minorgridcolor": "white",
             "startlinecolor": "#2a3f5f"
            },
            "type": "carpet"
           }
          ],
          "choropleth": [
           {
            "colorbar": {
             "outlinewidth": 0,
             "ticks": ""
            },
            "type": "choropleth"
           }
          ],
          "contour": [
           {
            "colorbar": {
             "outlinewidth": 0,
             "ticks": ""
            },
            "colorscale": [
             [
              0,
              "#0d0887"
             ],
             [
              0.1111111111111111,
              "#46039f"
             ],
             [
              0.2222222222222222,
              "#7201a8"
             ],
             [
              0.3333333333333333,
              "#9c179e"
             ],
             [
              0.4444444444444444,
              "#bd3786"
             ],
             [
              0.5555555555555556,
              "#d8576b"
             ],
             [
              0.6666666666666666,
              "#ed7953"
             ],
             [
              0.7777777777777778,
              "#fb9f3a"
             ],
             [
              0.8888888888888888,
              "#fdca26"
             ],
             [
              1,
              "#f0f921"
             ]
            ],
            "type": "contour"
           }
          ],
          "contourcarpet": [
           {
            "colorbar": {
             "outlinewidth": 0,
             "ticks": ""
            },
            "type": "contourcarpet"
           }
          ],
          "heatmap": [
           {
            "colorbar": {
             "outlinewidth": 0,
             "ticks": ""
            },
            "colorscale": [
             [
              0,
              "#0d0887"
             ],
             [
              0.1111111111111111,
              "#46039f"
             ],
             [
              0.2222222222222222,
              "#7201a8"
             ],
             [
              0.3333333333333333,
              "#9c179e"
             ],
             [
              0.4444444444444444,
              "#bd3786"
             ],
             [
              0.5555555555555556,
              "#d8576b"
             ],
             [
              0.6666666666666666,
              "#ed7953"
             ],
             [
              0.7777777777777778,
              "#fb9f3a"
             ],
             [
              0.8888888888888888,
              "#fdca26"
             ],
             [
              1,
              "#f0f921"
             ]
            ],
            "type": "heatmap"
           }
          ],
          "heatmapgl": [
           {
            "colorbar": {
             "outlinewidth": 0,
             "ticks": ""
            },
            "colorscale": [
             [
              0,
              "#0d0887"
             ],
             [
              0.1111111111111111,
              "#46039f"
             ],
             [
              0.2222222222222222,
              "#7201a8"
             ],
             [
              0.3333333333333333,
              "#9c179e"
             ],
             [
              0.4444444444444444,
              "#bd3786"
             ],
             [
              0.5555555555555556,
              "#d8576b"
             ],
             [
              0.6666666666666666,
              "#ed7953"
             ],
             [
              0.7777777777777778,
              "#fb9f3a"
             ],
             [
              0.8888888888888888,
              "#fdca26"
             ],
             [
              1,
              "#f0f921"
             ]
            ],
            "type": "heatmapgl"
           }
          ],
          "histogram": [
           {
            "marker": {
             "pattern": {
              "fillmode": "overlay",
              "size": 10,
              "solidity": 0.2
             }
            },
            "type": "histogram"
           }
          ],
          "histogram2d": [
           {
            "colorbar": {
             "outlinewidth": 0,
             "ticks": ""
            },
            "colorscale": [
             [
              0,
              "#0d0887"
             ],
             [
              0.1111111111111111,
              "#46039f"
             ],
             [
              0.2222222222222222,
              "#7201a8"
             ],
             [
              0.3333333333333333,
              "#9c179e"
             ],
             [
              0.4444444444444444,
              "#bd3786"
             ],
             [
              0.5555555555555556,
              "#d8576b"
             ],
             [
              0.6666666666666666,
              "#ed7953"
             ],
             [
              0.7777777777777778,
              "#fb9f3a"
             ],
             [
              0.8888888888888888,
              "#fdca26"
             ],
             [
              1,
              "#f0f921"
             ]
            ],
            "type": "histogram2d"
           }
          ],
          "histogram2dcontour": [
           {
            "colorbar": {
             "outlinewidth": 0,
             "ticks": ""
            },
            "colorscale": [
             [
              0,
              "#0d0887"
             ],
             [
              0.1111111111111111,
              "#46039f"
             ],
             [
              0.2222222222222222,
              "#7201a8"
             ],
             [
              0.3333333333333333,
              "#9c179e"
             ],
             [
              0.4444444444444444,
              "#bd3786"
             ],
             [
              0.5555555555555556,
              "#d8576b"
             ],
             [
              0.6666666666666666,
              "#ed7953"
             ],
             [
              0.7777777777777778,
              "#fb9f3a"
             ],
             [
              0.8888888888888888,
              "#fdca26"
             ],
             [
              1,
              "#f0f921"
             ]
            ],
            "type": "histogram2dcontour"
           }
          ],
          "mesh3d": [
           {
            "colorbar": {
             "outlinewidth": 0,
             "ticks": ""
            },
            "type": "mesh3d"
           }
          ],
          "parcoords": [
           {
            "line": {
             "colorbar": {
              "outlinewidth": 0,
              "ticks": ""
             }
            },
            "type": "parcoords"
           }
          ],
          "pie": [
           {
            "automargin": true,
            "type": "pie"
           }
          ],
          "scatter": [
           {
            "fillpattern": {
             "fillmode": "overlay",
             "size": 10,
             "solidity": 0.2
            },
            "type": "scatter"
           }
          ],
          "scatter3d": [
           {
            "line": {
             "colorbar": {
              "outlinewidth": 0,
              "ticks": ""
             }
            },
            "marker": {
             "colorbar": {
              "outlinewidth": 0,
              "ticks": ""
             }
            },
            "type": "scatter3d"
           }
          ],
          "scattercarpet": [
           {
            "marker": {
             "colorbar": {
              "outlinewidth": 0,
              "ticks": ""
             }
            },
            "type": "scattercarpet"
           }
          ],
          "scattergeo": [
           {
            "marker": {
             "colorbar": {
              "outlinewidth": 0,
              "ticks": ""
             }
            },
            "type": "scattergeo"
           }
          ],
          "scattergl": [
           {
            "marker": {
             "colorbar": {
              "outlinewidth": 0,
              "ticks": ""
             }
            },
            "type": "scattergl"
           }
          ],
          "scattermapbox": [
           {
            "marker": {
             "colorbar": {
              "outlinewidth": 0,
              "ticks": ""
             }
            },
            "type": "scattermapbox"
           }
          ],
          "scatterpolar": [
           {
            "marker": {
             "colorbar": {
              "outlinewidth": 0,
              "ticks": ""
             }
            },
            "type": "scatterpolar"
           }
          ],
          "scatterpolargl": [
           {
            "marker": {
             "colorbar": {
              "outlinewidth": 0,
              "ticks": ""
             }
            },
            "type": "scatterpolargl"
           }
          ],
          "scatterternary": [
           {
            "marker": {
             "colorbar": {
              "outlinewidth": 0,
              "ticks": ""
             }
            },
            "type": "scatterternary"
           }
          ],
          "surface": [
           {
            "colorbar": {
             "outlinewidth": 0,
             "ticks": ""
            },
            "colorscale": [
             [
              0,
              "#0d0887"
             ],
             [
              0.1111111111111111,
              "#46039f"
             ],
             [
              0.2222222222222222,
              "#7201a8"
             ],
             [
              0.3333333333333333,
              "#9c179e"
             ],
             [
              0.4444444444444444,
              "#bd3786"
             ],
             [
              0.5555555555555556,
              "#d8576b"
             ],
             [
              0.6666666666666666,
              "#ed7953"
             ],
             [
              0.7777777777777778,
              "#fb9f3a"
             ],
             [
              0.8888888888888888,
              "#fdca26"
             ],
             [
              1,
              "#f0f921"
             ]
            ],
            "type": "surface"
           }
          ],
          "table": [
           {
            "cells": {
             "fill": {
              "color": "#EBF0F8"
             },
             "line": {
              "color": "white"
             }
            },
            "header": {
             "fill": {
              "color": "#C8D4E3"
             },
             "line": {
              "color": "white"
             }
            },
            "type": "table"
           }
          ]
         },
         "layout": {
          "annotationdefaults": {
           "arrowcolor": "#2a3f5f",
           "arrowhead": 0,
           "arrowwidth": 1
          },
          "autotypenumbers": "strict",
          "coloraxis": {
           "colorbar": {
            "outlinewidth": 0,
            "ticks": ""
           }
          },
          "colorscale": {
           "diverging": [
            [
             0,
             "#8e0152"
            ],
            [
             0.1,
             "#c51b7d"
            ],
            [
             0.2,
             "#de77ae"
            ],
            [
             0.3,
             "#f1b6da"
            ],
            [
             0.4,
             "#fde0ef"
            ],
            [
             0.5,
             "#f7f7f7"
            ],
            [
             0.6,
             "#e6f5d0"
            ],
            [
             0.7,
             "#b8e186"
            ],
            [
             0.8,
             "#7fbc41"
            ],
            [
             0.9,
             "#4d9221"
            ],
            [
             1,
             "#276419"
            ]
           ],
           "sequential": [
            [
             0,
             "#0d0887"
            ],
            [
             0.1111111111111111,
             "#46039f"
            ],
            [
             0.2222222222222222,
             "#7201a8"
            ],
            [
             0.3333333333333333,
             "#9c179e"
            ],
            [
             0.4444444444444444,
             "#bd3786"
            ],
            [
             0.5555555555555556,
             "#d8576b"
            ],
            [
             0.6666666666666666,
             "#ed7953"
            ],
            [
             0.7777777777777778,
             "#fb9f3a"
            ],
            [
             0.8888888888888888,
             "#fdca26"
            ],
            [
             1,
             "#f0f921"
            ]
           ],
           "sequentialminus": [
            [
             0,
             "#0d0887"
            ],
            [
             0.1111111111111111,
             "#46039f"
            ],
            [
             0.2222222222222222,
             "#7201a8"
            ],
            [
             0.3333333333333333,
             "#9c179e"
            ],
            [
             0.4444444444444444,
             "#bd3786"
            ],
            [
             0.5555555555555556,
             "#d8576b"
            ],
            [
             0.6666666666666666,
             "#ed7953"
            ],
            [
             0.7777777777777778,
             "#fb9f3a"
            ],
            [
             0.8888888888888888,
             "#fdca26"
            ],
            [
             1,
             "#f0f921"
            ]
           ]
          },
          "colorway": [
           "#636efa",
           "#EF553B",
           "#00cc96",
           "#ab63fa",
           "#FFA15A",
           "#19d3f3",
           "#FF6692",
           "#B6E880",
           "#FF97FF",
           "#FECB52"
          ],
          "font": {
           "color": "#2a3f5f"
          },
          "geo": {
           "bgcolor": "white",
           "lakecolor": "white",
           "landcolor": "#E5ECF6",
           "showlakes": true,
           "showland": true,
           "subunitcolor": "white"
          },
          "hoverlabel": {
           "align": "left"
          },
          "hovermode": "closest",
          "mapbox": {
           "style": "light"
          },
          "paper_bgcolor": "white",
          "plot_bgcolor": "#E5ECF6",
          "polar": {
           "angularaxis": {
            "gridcolor": "white",
            "linecolor": "white",
            "ticks": ""
           },
           "bgcolor": "#E5ECF6",
           "radialaxis": {
            "gridcolor": "white",
            "linecolor": "white",
            "ticks": ""
           }
          },
          "scene": {
           "xaxis": {
            "backgroundcolor": "#E5ECF6",
            "gridcolor": "white",
            "gridwidth": 2,
            "linecolor": "white",
            "showbackground": true,
            "ticks": "",
            "zerolinecolor": "white"
           },
           "yaxis": {
            "backgroundcolor": "#E5ECF6",
            "gridcolor": "white",
            "gridwidth": 2,
            "linecolor": "white",
            "showbackground": true,
            "ticks": "",
            "zerolinecolor": "white"
           },
           "zaxis": {
            "backgroundcolor": "#E5ECF6",
            "gridcolor": "white",
            "gridwidth": 2,
            "linecolor": "white",
            "showbackground": true,
            "ticks": "",
            "zerolinecolor": "white"
           }
          },
          "shapedefaults": {
           "line": {
            "color": "#2a3f5f"
           }
          },
          "ternary": {
           "aaxis": {
            "gridcolor": "white",
            "linecolor": "white",
            "ticks": ""
           },
           "baxis": {
            "gridcolor": "white",
            "linecolor": "white",
            "ticks": ""
           },
           "bgcolor": "#E5ECF6",
           "caxis": {
            "gridcolor": "white",
            "linecolor": "white",
            "ticks": ""
           }
          },
          "title": {
           "x": 0.05
          },
          "xaxis": {
           "automargin": true,
           "gridcolor": "white",
           "linecolor": "white",
           "ticks": "",
           "title": {
            "standoff": 15
           },
           "zerolinecolor": "white",
           "zerolinewidth": 2
          },
          "yaxis": {
           "automargin": true,
           "gridcolor": "white",
           "linecolor": "white",
           "ticks": "",
           "title": {
            "standoff": 15
           },
           "zerolinecolor": "white",
           "zerolinewidth": 2
          }
         }
        },
        "title": {
         "text": "Years at Company Distribution"
        },
        "xaxis": {
         "anchor": "y",
         "domain": [
          0,
          1
         ],
         "title": {
          "text": "Years at Company"
         }
        },
        "yaxis": {
         "anchor": "x",
         "domain": [
          0,
          1
         ],
         "title": {
          "text": "count"
         }
        }
       }
      }
     },
     "metadata": {},
     "output_type": "display_data"
    }
   ],
   "source": [
    "# Years at Company Distribution\n",
    "fig_years = px.histogram(\n",
    "    df_cleaned, x=\"YearsAtCompany\", nbins=30, \n",
    "    title=\"Years at Company Distribution\", \n",
    "    labels={\"YearsAtCompany\": \"Years at Company\"}, \n",
    "    color_discrete_sequence=[\"#00CC96\"],\n",
    "    text_auto= True\n",
    ")\n",
    "fig_years.show()"
   ]
  },
  {
   "cell_type": "markdown",
   "metadata": {},
   "source": [
    "### Categorical Feature Analysis\n",
    "    1️⃣ Attrition by Department \n",
    "    2️⃣ Attrition by Job Role \n",
    "    3️⃣ Attrition by Marital Status \n",
    "    4️⃣ Attrition by Overtime Work "
   ]
  },
  {
   "cell_type": "code",
   "execution_count": 30,
   "metadata": {},
   "outputs": [
    {
     "data": {
      "application/vnd.plotly.v1+json": {
       "config": {
        "plotlyServerURL": "https://plot.ly"
       },
       "data": [
        {
         "alignmentgroup": "True",
         "hovertemplate": "Attrition=No<br>Department=%{x}<br>Frequency=%{y}<extra></extra>",
         "legendgroup": "No",
         "marker": {
          "color": "#636EFA",
          "pattern": {
           "shape": ""
          }
         },
         "name": "No",
         "offsetgroup": "No",
         "orientation": "v",
         "showlegend": true,
         "textposition": "auto",
         "texttemplate": "%{y}",
         "type": "bar",
         "x": [
          "Human Resources",
          "Research & Development",
          "Sales"
         ],
         "xaxis": "x",
         "y": [
          51,
          828,
          354
         ],
         "yaxis": "y"
        },
        {
         "alignmentgroup": "True",
         "hovertemplate": "Attrition=Yes<br>Department=%{x}<br>Frequency=%{y}<extra></extra>",
         "legendgroup": "Yes",
         "marker": {
          "color": "#EF553B",
          "pattern": {
           "shape": ""
          }
         },
         "name": "Yes",
         "offsetgroup": "Yes",
         "orientation": "v",
         "showlegend": true,
         "textposition": "auto",
         "texttemplate": "%{y}",
         "type": "bar",
         "x": [
          "Human Resources",
          "Research & Development",
          "Sales"
         ],
         "xaxis": "x",
         "y": [
          12,
          133,
          92
         ],
         "yaxis": "y"
        }
       ],
       "layout": {
        "barmode": "group",
        "legend": {
         "title": {
          "text": "Attrition"
         },
         "tracegroupgap": 0
        },
        "template": {
         "data": {
          "bar": [
           {
            "error_x": {
             "color": "#2a3f5f"
            },
            "error_y": {
             "color": "#2a3f5f"
            },
            "marker": {
             "line": {
              "color": "#E5ECF6",
              "width": 0.5
             },
             "pattern": {
              "fillmode": "overlay",
              "size": 10,
              "solidity": 0.2
             }
            },
            "type": "bar"
           }
          ],
          "barpolar": [
           {
            "marker": {
             "line": {
              "color": "#E5ECF6",
              "width": 0.5
             },
             "pattern": {
              "fillmode": "overlay",
              "size": 10,
              "solidity": 0.2
             }
            },
            "type": "barpolar"
           }
          ],
          "carpet": [
           {
            "aaxis": {
             "endlinecolor": "#2a3f5f",
             "gridcolor": "white",
             "linecolor": "white",
             "minorgridcolor": "white",
             "startlinecolor": "#2a3f5f"
            },
            "baxis": {
             "endlinecolor": "#2a3f5f",
             "gridcolor": "white",
             "linecolor": "white",
             "minorgridcolor": "white",
             "startlinecolor": "#2a3f5f"
            },
            "type": "carpet"
           }
          ],
          "choropleth": [
           {
            "colorbar": {
             "outlinewidth": 0,
             "ticks": ""
            },
            "type": "choropleth"
           }
          ],
          "contour": [
           {
            "colorbar": {
             "outlinewidth": 0,
             "ticks": ""
            },
            "colorscale": [
             [
              0,
              "#0d0887"
             ],
             [
              0.1111111111111111,
              "#46039f"
             ],
             [
              0.2222222222222222,
              "#7201a8"
             ],
             [
              0.3333333333333333,
              "#9c179e"
             ],
             [
              0.4444444444444444,
              "#bd3786"
             ],
             [
              0.5555555555555556,
              "#d8576b"
             ],
             [
              0.6666666666666666,
              "#ed7953"
             ],
             [
              0.7777777777777778,
              "#fb9f3a"
             ],
             [
              0.8888888888888888,
              "#fdca26"
             ],
             [
              1,
              "#f0f921"
             ]
            ],
            "type": "contour"
           }
          ],
          "contourcarpet": [
           {
            "colorbar": {
             "outlinewidth": 0,
             "ticks": ""
            },
            "type": "contourcarpet"
           }
          ],
          "heatmap": [
           {
            "colorbar": {
             "outlinewidth": 0,
             "ticks": ""
            },
            "colorscale": [
             [
              0,
              "#0d0887"
             ],
             [
              0.1111111111111111,
              "#46039f"
             ],
             [
              0.2222222222222222,
              "#7201a8"
             ],
             [
              0.3333333333333333,
              "#9c179e"
             ],
             [
              0.4444444444444444,
              "#bd3786"
             ],
             [
              0.5555555555555556,
              "#d8576b"
             ],
             [
              0.6666666666666666,
              "#ed7953"
             ],
             [
              0.7777777777777778,
              "#fb9f3a"
             ],
             [
              0.8888888888888888,
              "#fdca26"
             ],
             [
              1,
              "#f0f921"
             ]
            ],
            "type": "heatmap"
           }
          ],
          "heatmapgl": [
           {
            "colorbar": {
             "outlinewidth": 0,
             "ticks": ""
            },
            "colorscale": [
             [
              0,
              "#0d0887"
             ],
             [
              0.1111111111111111,
              "#46039f"
             ],
             [
              0.2222222222222222,
              "#7201a8"
             ],
             [
              0.3333333333333333,
              "#9c179e"
             ],
             [
              0.4444444444444444,
              "#bd3786"
             ],
             [
              0.5555555555555556,
              "#d8576b"
             ],
             [
              0.6666666666666666,
              "#ed7953"
             ],
             [
              0.7777777777777778,
              "#fb9f3a"
             ],
             [
              0.8888888888888888,
              "#fdca26"
             ],
             [
              1,
              "#f0f921"
             ]
            ],
            "type": "heatmapgl"
           }
          ],
          "histogram": [
           {
            "marker": {
             "pattern": {
              "fillmode": "overlay",
              "size": 10,
              "solidity": 0.2
             }
            },
            "type": "histogram"
           }
          ],
          "histogram2d": [
           {
            "colorbar": {
             "outlinewidth": 0,
             "ticks": ""
            },
            "colorscale": [
             [
              0,
              "#0d0887"
             ],
             [
              0.1111111111111111,
              "#46039f"
             ],
             [
              0.2222222222222222,
              "#7201a8"
             ],
             [
              0.3333333333333333,
              "#9c179e"
             ],
             [
              0.4444444444444444,
              "#bd3786"
             ],
             [
              0.5555555555555556,
              "#d8576b"
             ],
             [
              0.6666666666666666,
              "#ed7953"
             ],
             [
              0.7777777777777778,
              "#fb9f3a"
             ],
             [
              0.8888888888888888,
              "#fdca26"
             ],
             [
              1,
              "#f0f921"
             ]
            ],
            "type": "histogram2d"
           }
          ],
          "histogram2dcontour": [
           {
            "colorbar": {
             "outlinewidth": 0,
             "ticks": ""
            },
            "colorscale": [
             [
              0,
              "#0d0887"
             ],
             [
              0.1111111111111111,
              "#46039f"
             ],
             [
              0.2222222222222222,
              "#7201a8"
             ],
             [
              0.3333333333333333,
              "#9c179e"
             ],
             [
              0.4444444444444444,
              "#bd3786"
             ],
             [
              0.5555555555555556,
              "#d8576b"
             ],
             [
              0.6666666666666666,
              "#ed7953"
             ],
             [
              0.7777777777777778,
              "#fb9f3a"
             ],
             [
              0.8888888888888888,
              "#fdca26"
             ],
             [
              1,
              "#f0f921"
             ]
            ],
            "type": "histogram2dcontour"
           }
          ],
          "mesh3d": [
           {
            "colorbar": {
             "outlinewidth": 0,
             "ticks": ""
            },
            "type": "mesh3d"
           }
          ],
          "parcoords": [
           {
            "line": {
             "colorbar": {
              "outlinewidth": 0,
              "ticks": ""
             }
            },
            "type": "parcoords"
           }
          ],
          "pie": [
           {
            "automargin": true,
            "type": "pie"
           }
          ],
          "scatter": [
           {
            "fillpattern": {
             "fillmode": "overlay",
             "size": 10,
             "solidity": 0.2
            },
            "type": "scatter"
           }
          ],
          "scatter3d": [
           {
            "line": {
             "colorbar": {
              "outlinewidth": 0,
              "ticks": ""
             }
            },
            "marker": {
             "colorbar": {
              "outlinewidth": 0,
              "ticks": ""
             }
            },
            "type": "scatter3d"
           }
          ],
          "scattercarpet": [
           {
            "marker": {
             "colorbar": {
              "outlinewidth": 0,
              "ticks": ""
             }
            },
            "type": "scattercarpet"
           }
          ],
          "scattergeo": [
           {
            "marker": {
             "colorbar": {
              "outlinewidth": 0,
              "ticks": ""
             }
            },
            "type": "scattergeo"
           }
          ],
          "scattergl": [
           {
            "marker": {
             "colorbar": {
              "outlinewidth": 0,
              "ticks": ""
             }
            },
            "type": "scattergl"
           }
          ],
          "scattermapbox": [
           {
            "marker": {
             "colorbar": {
              "outlinewidth": 0,
              "ticks": ""
             }
            },
            "type": "scattermapbox"
           }
          ],
          "scatterpolar": [
           {
            "marker": {
             "colorbar": {
              "outlinewidth": 0,
              "ticks": ""
             }
            },
            "type": "scatterpolar"
           }
          ],
          "scatterpolargl": [
           {
            "marker": {
             "colorbar": {
              "outlinewidth": 0,
              "ticks": ""
             }
            },
            "type": "scatterpolargl"
           }
          ],
          "scatterternary": [
           {
            "marker": {
             "colorbar": {
              "outlinewidth": 0,
              "ticks": ""
             }
            },
            "type": "scatterternary"
           }
          ],
          "surface": [
           {
            "colorbar": {
             "outlinewidth": 0,
             "ticks": ""
            },
            "colorscale": [
             [
              0,
              "#0d0887"
             ],
             [
              0.1111111111111111,
              "#46039f"
             ],
             [
              0.2222222222222222,
              "#7201a8"
             ],
             [
              0.3333333333333333,
              "#9c179e"
             ],
             [
              0.4444444444444444,
              "#bd3786"
             ],
             [
              0.5555555555555556,
              "#d8576b"
             ],
             [
              0.6666666666666666,
              "#ed7953"
             ],
             [
              0.7777777777777778,
              "#fb9f3a"
             ],
             [
              0.8888888888888888,
              "#fdca26"
             ],
             [
              1,
              "#f0f921"
             ]
            ],
            "type": "surface"
           }
          ],
          "table": [
           {
            "cells": {
             "fill": {
              "color": "#EBF0F8"
             },
             "line": {
              "color": "white"
             }
            },
            "header": {
             "fill": {
              "color": "#C8D4E3"
             },
             "line": {
              "color": "white"
             }
            },
            "type": "table"
           }
          ]
         },
         "layout": {
          "annotationdefaults": {
           "arrowcolor": "#2a3f5f",
           "arrowhead": 0,
           "arrowwidth": 1
          },
          "autotypenumbers": "strict",
          "coloraxis": {
           "colorbar": {
            "outlinewidth": 0,
            "ticks": ""
           }
          },
          "colorscale": {
           "diverging": [
            [
             0,
             "#8e0152"
            ],
            [
             0.1,
             "#c51b7d"
            ],
            [
             0.2,
             "#de77ae"
            ],
            [
             0.3,
             "#f1b6da"
            ],
            [
             0.4,
             "#fde0ef"
            ],
            [
             0.5,
             "#f7f7f7"
            ],
            [
             0.6,
             "#e6f5d0"
            ],
            [
             0.7,
             "#b8e186"
            ],
            [
             0.8,
             "#7fbc41"
            ],
            [
             0.9,
             "#4d9221"
            ],
            [
             1,
             "#276419"
            ]
           ],
           "sequential": [
            [
             0,
             "#0d0887"
            ],
            [
             0.1111111111111111,
             "#46039f"
            ],
            [
             0.2222222222222222,
             "#7201a8"
            ],
            [
             0.3333333333333333,
             "#9c179e"
            ],
            [
             0.4444444444444444,
             "#bd3786"
            ],
            [
             0.5555555555555556,
             "#d8576b"
            ],
            [
             0.6666666666666666,
             "#ed7953"
            ],
            [
             0.7777777777777778,
             "#fb9f3a"
            ],
            [
             0.8888888888888888,
             "#fdca26"
            ],
            [
             1,
             "#f0f921"
            ]
           ],
           "sequentialminus": [
            [
             0,
             "#0d0887"
            ],
            [
             0.1111111111111111,
             "#46039f"
            ],
            [
             0.2222222222222222,
             "#7201a8"
            ],
            [
             0.3333333333333333,
             "#9c179e"
            ],
            [
             0.4444444444444444,
             "#bd3786"
            ],
            [
             0.5555555555555556,
             "#d8576b"
            ],
            [
             0.6666666666666666,
             "#ed7953"
            ],
            [
             0.7777777777777778,
             "#fb9f3a"
            ],
            [
             0.8888888888888888,
             "#fdca26"
            ],
            [
             1,
             "#f0f921"
            ]
           ]
          },
          "colorway": [
           "#636efa",
           "#EF553B",
           "#00cc96",
           "#ab63fa",
           "#FFA15A",
           "#19d3f3",
           "#FF6692",
           "#B6E880",
           "#FF97FF",
           "#FECB52"
          ],
          "font": {
           "color": "#2a3f5f"
          },
          "geo": {
           "bgcolor": "white",
           "lakecolor": "white",
           "landcolor": "#E5ECF6",
           "showlakes": true,
           "showland": true,
           "subunitcolor": "white"
          },
          "hoverlabel": {
           "align": "left"
          },
          "hovermode": "closest",
          "mapbox": {
           "style": "light"
          },
          "paper_bgcolor": "white",
          "plot_bgcolor": "#E5ECF6",
          "polar": {
           "angularaxis": {
            "gridcolor": "white",
            "linecolor": "white",
            "ticks": ""
           },
           "bgcolor": "#E5ECF6",
           "radialaxis": {
            "gridcolor": "white",
            "linecolor": "white",
            "ticks": ""
           }
          },
          "scene": {
           "xaxis": {
            "backgroundcolor": "#E5ECF6",
            "gridcolor": "white",
            "gridwidth": 2,
            "linecolor": "white",
            "showbackground": true,
            "ticks": "",
            "zerolinecolor": "white"
           },
           "yaxis": {
            "backgroundcolor": "#E5ECF6",
            "gridcolor": "white",
            "gridwidth": 2,
            "linecolor": "white",
            "showbackground": true,
            "ticks": "",
            "zerolinecolor": "white"
           },
           "zaxis": {
            "backgroundcolor": "#E5ECF6",
            "gridcolor": "white",
            "gridwidth": 2,
            "linecolor": "white",
            "showbackground": true,
            "ticks": "",
            "zerolinecolor": "white"
           }
          },
          "shapedefaults": {
           "line": {
            "color": "#2a3f5f"
           }
          },
          "ternary": {
           "aaxis": {
            "gridcolor": "white",
            "linecolor": "white",
            "ticks": ""
           },
           "baxis": {
            "gridcolor": "white",
            "linecolor": "white",
            "ticks": ""
           },
           "bgcolor": "#E5ECF6",
           "caxis": {
            "gridcolor": "white",
            "linecolor": "white",
            "ticks": ""
           }
          },
          "title": {
           "x": 0.05
          },
          "xaxis": {
           "automargin": true,
           "gridcolor": "white",
           "linecolor": "white",
           "ticks": "",
           "title": {
            "standoff": 15
           },
           "zerolinecolor": "white",
           "zerolinewidth": 2
          },
          "yaxis": {
           "automargin": true,
           "gridcolor": "white",
           "linecolor": "white",
           "ticks": "",
           "title": {
            "standoff": 15
           },
           "zerolinecolor": "white",
           "zerolinewidth": 2
          }
         }
        },
        "title": {
         "text": "Attrition by Department"
        },
        "xaxis": {
         "anchor": "y",
         "domain": [
          0,
          1
         ],
         "title": {
          "text": "Department"
         }
        },
        "yaxis": {
         "anchor": "x",
         "domain": [
          0,
          1
         ],
         "title": {
          "text": "Frequency"
         }
        }
       }
      }
     },
     "metadata": {},
     "output_type": "display_data"
    }
   ],
   "source": [
    "# Attrition by Department\n",
    "fig_dept = px.bar(\n",
    "    df_cleaned.groupby(\"Department\")[\"Attrition\"].value_counts().unstack(),\n",
    "    title=\"Attrition by Department\",\n",
    "    labels={\"value\": \"Frequency\", \"Department\": \"Department\"},\n",
    "    barmode=\"group\",\n",
    "    color_discrete_sequence=[\"#636EFA\", \"#EF553B\"],\n",
    "    text_auto= True\n",
    ")\n",
    "fig_dept.show()"
   ]
  },
  {
   "cell_type": "code",
   "execution_count": 31,
   "metadata": {},
   "outputs": [
    {
     "data": {
      "application/vnd.plotly.v1+json": {
       "config": {
        "plotlyServerURL": "https://plot.ly"
       },
       "data": [
        {
         "alignmentgroup": "True",
         "hovertemplate": "Attrition=No<br>Job Role=%{x}<br>Frequency=%{y}<extra></extra>",
         "legendgroup": "No",
         "marker": {
          "color": "#636EFA",
          "pattern": {
           "shape": ""
          }
         },
         "name": "No",
         "offsetgroup": "No",
         "orientation": "v",
         "showlegend": true,
         "textposition": "auto",
         "texttemplate": "%{y}",
         "type": "bar",
         "x": [
          "Healthcare Representative",
          "Human Resources",
          "Laboratory Technician",
          "Manager",
          "Manufacturing Director",
          "Research Director",
          "Research Scientist",
          "Sales Executive",
          "Sales Representative"
         ],
         "xaxis": "x",
         "y": [
          122,
          40,
          197,
          97,
          135,
          78,
          245,
          269,
          50
         ],
         "yaxis": "y"
        },
        {
         "alignmentgroup": "True",
         "hovertemplate": "Attrition=Yes<br>Job Role=%{x}<br>Frequency=%{y}<extra></extra>",
         "legendgroup": "Yes",
         "marker": {
          "color": "#EF553B",
          "pattern": {
           "shape": ""
          }
         },
         "name": "Yes",
         "offsetgroup": "Yes",
         "orientation": "v",
         "showlegend": true,
         "textposition": "auto",
         "texttemplate": "%{y}",
         "type": "bar",
         "x": [
          "Healthcare Representative",
          "Human Resources",
          "Laboratory Technician",
          "Manager",
          "Manufacturing Director",
          "Research Director",
          "Research Scientist",
          "Sales Executive",
          "Sales Representative"
         ],
         "xaxis": "x",
         "y": [
          9,
          12,
          62,
          5,
          10,
          2,
          47,
          57,
          33
         ],
         "yaxis": "y"
        }
       ],
       "layout": {
        "barmode": "group",
        "legend": {
         "title": {
          "text": "Attrition"
         },
         "tracegroupgap": 0
        },
        "template": {
         "data": {
          "bar": [
           {
            "error_x": {
             "color": "#2a3f5f"
            },
            "error_y": {
             "color": "#2a3f5f"
            },
            "marker": {
             "line": {
              "color": "#E5ECF6",
              "width": 0.5
             },
             "pattern": {
              "fillmode": "overlay",
              "size": 10,
              "solidity": 0.2
             }
            },
            "type": "bar"
           }
          ],
          "barpolar": [
           {
            "marker": {
             "line": {
              "color": "#E5ECF6",
              "width": 0.5
             },
             "pattern": {
              "fillmode": "overlay",
              "size": 10,
              "solidity": 0.2
             }
            },
            "type": "barpolar"
           }
          ],
          "carpet": [
           {
            "aaxis": {
             "endlinecolor": "#2a3f5f",
             "gridcolor": "white",
             "linecolor": "white",
             "minorgridcolor": "white",
             "startlinecolor": "#2a3f5f"
            },
            "baxis": {
             "endlinecolor": "#2a3f5f",
             "gridcolor": "white",
             "linecolor": "white",
             "minorgridcolor": "white",
             "startlinecolor": "#2a3f5f"
            },
            "type": "carpet"
           }
          ],
          "choropleth": [
           {
            "colorbar": {
             "outlinewidth": 0,
             "ticks": ""
            },
            "type": "choropleth"
           }
          ],
          "contour": [
           {
            "colorbar": {
             "outlinewidth": 0,
             "ticks": ""
            },
            "colorscale": [
             [
              0,
              "#0d0887"
             ],
             [
              0.1111111111111111,
              "#46039f"
             ],
             [
              0.2222222222222222,
              "#7201a8"
             ],
             [
              0.3333333333333333,
              "#9c179e"
             ],
             [
              0.4444444444444444,
              "#bd3786"
             ],
             [
              0.5555555555555556,
              "#d8576b"
             ],
             [
              0.6666666666666666,
              "#ed7953"
             ],
             [
              0.7777777777777778,
              "#fb9f3a"
             ],
             [
              0.8888888888888888,
              "#fdca26"
             ],
             [
              1,
              "#f0f921"
             ]
            ],
            "type": "contour"
           }
          ],
          "contourcarpet": [
           {
            "colorbar": {
             "outlinewidth": 0,
             "ticks": ""
            },
            "type": "contourcarpet"
           }
          ],
          "heatmap": [
           {
            "colorbar": {
             "outlinewidth": 0,
             "ticks": ""
            },
            "colorscale": [
             [
              0,
              "#0d0887"
             ],
             [
              0.1111111111111111,
              "#46039f"
             ],
             [
              0.2222222222222222,
              "#7201a8"
             ],
             [
              0.3333333333333333,
              "#9c179e"
             ],
             [
              0.4444444444444444,
              "#bd3786"
             ],
             [
              0.5555555555555556,
              "#d8576b"
             ],
             [
              0.6666666666666666,
              "#ed7953"
             ],
             [
              0.7777777777777778,
              "#fb9f3a"
             ],
             [
              0.8888888888888888,
              "#fdca26"
             ],
             [
              1,
              "#f0f921"
             ]
            ],
            "type": "heatmap"
           }
          ],
          "heatmapgl": [
           {
            "colorbar": {
             "outlinewidth": 0,
             "ticks": ""
            },
            "colorscale": [
             [
              0,
              "#0d0887"
             ],
             [
              0.1111111111111111,
              "#46039f"
             ],
             [
              0.2222222222222222,
              "#7201a8"
             ],
             [
              0.3333333333333333,
              "#9c179e"
             ],
             [
              0.4444444444444444,
              "#bd3786"
             ],
             [
              0.5555555555555556,
              "#d8576b"
             ],
             [
              0.6666666666666666,
              "#ed7953"
             ],
             [
              0.7777777777777778,
              "#fb9f3a"
             ],
             [
              0.8888888888888888,
              "#fdca26"
             ],
             [
              1,
              "#f0f921"
             ]
            ],
            "type": "heatmapgl"
           }
          ],
          "histogram": [
           {
            "marker": {
             "pattern": {
              "fillmode": "overlay",
              "size": 10,
              "solidity": 0.2
             }
            },
            "type": "histogram"
           }
          ],
          "histogram2d": [
           {
            "colorbar": {
             "outlinewidth": 0,
             "ticks": ""
            },
            "colorscale": [
             [
              0,
              "#0d0887"
             ],
             [
              0.1111111111111111,
              "#46039f"
             ],
             [
              0.2222222222222222,
              "#7201a8"
             ],
             [
              0.3333333333333333,
              "#9c179e"
             ],
             [
              0.4444444444444444,
              "#bd3786"
             ],
             [
              0.5555555555555556,
              "#d8576b"
             ],
             [
              0.6666666666666666,
              "#ed7953"
             ],
             [
              0.7777777777777778,
              "#fb9f3a"
             ],
             [
              0.8888888888888888,
              "#fdca26"
             ],
             [
              1,
              "#f0f921"
             ]
            ],
            "type": "histogram2d"
           }
          ],
          "histogram2dcontour": [
           {
            "colorbar": {
             "outlinewidth": 0,
             "ticks": ""
            },
            "colorscale": [
             [
              0,
              "#0d0887"
             ],
             [
              0.1111111111111111,
              "#46039f"
             ],
             [
              0.2222222222222222,
              "#7201a8"
             ],
             [
              0.3333333333333333,
              "#9c179e"
             ],
             [
              0.4444444444444444,
              "#bd3786"
             ],
             [
              0.5555555555555556,
              "#d8576b"
             ],
             [
              0.6666666666666666,
              "#ed7953"
             ],
             [
              0.7777777777777778,
              "#fb9f3a"
             ],
             [
              0.8888888888888888,
              "#fdca26"
             ],
             [
              1,
              "#f0f921"
             ]
            ],
            "type": "histogram2dcontour"
           }
          ],
          "mesh3d": [
           {
            "colorbar": {
             "outlinewidth": 0,
             "ticks": ""
            },
            "type": "mesh3d"
           }
          ],
          "parcoords": [
           {
            "line": {
             "colorbar": {
              "outlinewidth": 0,
              "ticks": ""
             }
            },
            "type": "parcoords"
           }
          ],
          "pie": [
           {
            "automargin": true,
            "type": "pie"
           }
          ],
          "scatter": [
           {
            "fillpattern": {
             "fillmode": "overlay",
             "size": 10,
             "solidity": 0.2
            },
            "type": "scatter"
           }
          ],
          "scatter3d": [
           {
            "line": {
             "colorbar": {
              "outlinewidth": 0,
              "ticks": ""
             }
            },
            "marker": {
             "colorbar": {
              "outlinewidth": 0,
              "ticks": ""
             }
            },
            "type": "scatter3d"
           }
          ],
          "scattercarpet": [
           {
            "marker": {
             "colorbar": {
              "outlinewidth": 0,
              "ticks": ""
             }
            },
            "type": "scattercarpet"
           }
          ],
          "scattergeo": [
           {
            "marker": {
             "colorbar": {
              "outlinewidth": 0,
              "ticks": ""
             }
            },
            "type": "scattergeo"
           }
          ],
          "scattergl": [
           {
            "marker": {
             "colorbar": {
              "outlinewidth": 0,
              "ticks": ""
             }
            },
            "type": "scattergl"
           }
          ],
          "scattermapbox": [
           {
            "marker": {
             "colorbar": {
              "outlinewidth": 0,
              "ticks": ""
             }
            },
            "type": "scattermapbox"
           }
          ],
          "scatterpolar": [
           {
            "marker": {
             "colorbar": {
              "outlinewidth": 0,
              "ticks": ""
             }
            },
            "type": "scatterpolar"
           }
          ],
          "scatterpolargl": [
           {
            "marker": {
             "colorbar": {
              "outlinewidth": 0,
              "ticks": ""
             }
            },
            "type": "scatterpolargl"
           }
          ],
          "scatterternary": [
           {
            "marker": {
             "colorbar": {
              "outlinewidth": 0,
              "ticks": ""
             }
            },
            "type": "scatterternary"
           }
          ],
          "surface": [
           {
            "colorbar": {
             "outlinewidth": 0,
             "ticks": ""
            },
            "colorscale": [
             [
              0,
              "#0d0887"
             ],
             [
              0.1111111111111111,
              "#46039f"
             ],
             [
              0.2222222222222222,
              "#7201a8"
             ],
             [
              0.3333333333333333,
              "#9c179e"
             ],
             [
              0.4444444444444444,
              "#bd3786"
             ],
             [
              0.5555555555555556,
              "#d8576b"
             ],
             [
              0.6666666666666666,
              "#ed7953"
             ],
             [
              0.7777777777777778,
              "#fb9f3a"
             ],
             [
              0.8888888888888888,
              "#fdca26"
             ],
             [
              1,
              "#f0f921"
             ]
            ],
            "type": "surface"
           }
          ],
          "table": [
           {
            "cells": {
             "fill": {
              "color": "#EBF0F8"
             },
             "line": {
              "color": "white"
             }
            },
            "header": {
             "fill": {
              "color": "#C8D4E3"
             },
             "line": {
              "color": "white"
             }
            },
            "type": "table"
           }
          ]
         },
         "layout": {
          "annotationdefaults": {
           "arrowcolor": "#2a3f5f",
           "arrowhead": 0,
           "arrowwidth": 1
          },
          "autotypenumbers": "strict",
          "coloraxis": {
           "colorbar": {
            "outlinewidth": 0,
            "ticks": ""
           }
          },
          "colorscale": {
           "diverging": [
            [
             0,
             "#8e0152"
            ],
            [
             0.1,
             "#c51b7d"
            ],
            [
             0.2,
             "#de77ae"
            ],
            [
             0.3,
             "#f1b6da"
            ],
            [
             0.4,
             "#fde0ef"
            ],
            [
             0.5,
             "#f7f7f7"
            ],
            [
             0.6,
             "#e6f5d0"
            ],
            [
             0.7,
             "#b8e186"
            ],
            [
             0.8,
             "#7fbc41"
            ],
            [
             0.9,
             "#4d9221"
            ],
            [
             1,
             "#276419"
            ]
           ],
           "sequential": [
            [
             0,
             "#0d0887"
            ],
            [
             0.1111111111111111,
             "#46039f"
            ],
            [
             0.2222222222222222,
             "#7201a8"
            ],
            [
             0.3333333333333333,
             "#9c179e"
            ],
            [
             0.4444444444444444,
             "#bd3786"
            ],
            [
             0.5555555555555556,
             "#d8576b"
            ],
            [
             0.6666666666666666,
             "#ed7953"
            ],
            [
             0.7777777777777778,
             "#fb9f3a"
            ],
            [
             0.8888888888888888,
             "#fdca26"
            ],
            [
             1,
             "#f0f921"
            ]
           ],
           "sequentialminus": [
            [
             0,
             "#0d0887"
            ],
            [
             0.1111111111111111,
             "#46039f"
            ],
            [
             0.2222222222222222,
             "#7201a8"
            ],
            [
             0.3333333333333333,
             "#9c179e"
            ],
            [
             0.4444444444444444,
             "#bd3786"
            ],
            [
             0.5555555555555556,
             "#d8576b"
            ],
            [
             0.6666666666666666,
             "#ed7953"
            ],
            [
             0.7777777777777778,
             "#fb9f3a"
            ],
            [
             0.8888888888888888,
             "#fdca26"
            ],
            [
             1,
             "#f0f921"
            ]
           ]
          },
          "colorway": [
           "#636efa",
           "#EF553B",
           "#00cc96",
           "#ab63fa",
           "#FFA15A",
           "#19d3f3",
           "#FF6692",
           "#B6E880",
           "#FF97FF",
           "#FECB52"
          ],
          "font": {
           "color": "#2a3f5f"
          },
          "geo": {
           "bgcolor": "white",
           "lakecolor": "white",
           "landcolor": "#E5ECF6",
           "showlakes": true,
           "showland": true,
           "subunitcolor": "white"
          },
          "hoverlabel": {
           "align": "left"
          },
          "hovermode": "closest",
          "mapbox": {
           "style": "light"
          },
          "paper_bgcolor": "white",
          "plot_bgcolor": "#E5ECF6",
          "polar": {
           "angularaxis": {
            "gridcolor": "white",
            "linecolor": "white",
            "ticks": ""
           },
           "bgcolor": "#E5ECF6",
           "radialaxis": {
            "gridcolor": "white",
            "linecolor": "white",
            "ticks": ""
           }
          },
          "scene": {
           "xaxis": {
            "backgroundcolor": "#E5ECF6",
            "gridcolor": "white",
            "gridwidth": 2,
            "linecolor": "white",
            "showbackground": true,
            "ticks": "",
            "zerolinecolor": "white"
           },
           "yaxis": {
            "backgroundcolor": "#E5ECF6",
            "gridcolor": "white",
            "gridwidth": 2,
            "linecolor": "white",
            "showbackground": true,
            "ticks": "",
            "zerolinecolor": "white"
           },
           "zaxis": {
            "backgroundcolor": "#E5ECF6",
            "gridcolor": "white",
            "gridwidth": 2,
            "linecolor": "white",
            "showbackground": true,
            "ticks": "",
            "zerolinecolor": "white"
           }
          },
          "shapedefaults": {
           "line": {
            "color": "#2a3f5f"
           }
          },
          "ternary": {
           "aaxis": {
            "gridcolor": "white",
            "linecolor": "white",
            "ticks": ""
           },
           "baxis": {
            "gridcolor": "white",
            "linecolor": "white",
            "ticks": ""
           },
           "bgcolor": "#E5ECF6",
           "caxis": {
            "gridcolor": "white",
            "linecolor": "white",
            "ticks": ""
           }
          },
          "title": {
           "x": 0.05
          },
          "xaxis": {
           "automargin": true,
           "gridcolor": "white",
           "linecolor": "white",
           "ticks": "",
           "title": {
            "standoff": 15
           },
           "zerolinecolor": "white",
           "zerolinewidth": 2
          },
          "yaxis": {
           "automargin": true,
           "gridcolor": "white",
           "linecolor": "white",
           "ticks": "",
           "title": {
            "standoff": 15
           },
           "zerolinecolor": "white",
           "zerolinewidth": 2
          }
         }
        },
        "title": {
         "text": "Attrition by Job Role"
        },
        "xaxis": {
         "anchor": "y",
         "domain": [
          0,
          1
         ],
         "title": {
          "text": "Job Role"
         }
        },
        "yaxis": {
         "anchor": "x",
         "domain": [
          0,
          1
         ],
         "title": {
          "text": "Frequency"
         }
        }
       }
      }
     },
     "metadata": {},
     "output_type": "display_data"
    }
   ],
   "source": [
    "# Attrition by Job Role\n",
    "fig_role = px.bar(\n",
    "    df_cleaned.groupby(\"JobRole\")[\"Attrition\"].value_counts().unstack(),\n",
    "    title=\"Attrition by Job Role\",\n",
    "    labels={\"value\": \"Frequency\", \"JobRole\": \"Job Role\"},\n",
    "    barmode=\"group\",\n",
    "    color_discrete_sequence=[\"#636EFA\", \"#EF553B\"],\n",
    "    text_auto= True\n",
    ")\n",
    "fig_role.show()"
   ]
  },
  {
   "cell_type": "code",
   "execution_count": 32,
   "metadata": {},
   "outputs": [
    {
     "data": {
      "application/vnd.plotly.v1+json": {
       "config": {
        "plotlyServerURL": "https://plot.ly"
       },
       "data": [
        {
         "alignmentgroup": "True",
         "hovertemplate": "Attrition=No<br>Marital Status=%{x}<br>frequency=%{y}<extra></extra>",
         "legendgroup": "No",
         "marker": {
          "color": "#636EFA",
          "pattern": {
           "shape": ""
          }
         },
         "name": "No",
         "offsetgroup": "No",
         "orientation": "v",
         "showlegend": true,
         "textposition": "auto",
         "texttemplate": "%{y}",
         "type": "bar",
         "x": [
          "Divorced",
          "Married",
          "Single"
         ],
         "xaxis": "x",
         "y": [
          294,
          589,
          350
         ],
         "yaxis": "y"
        },
        {
         "alignmentgroup": "True",
         "hovertemplate": "Attrition=Yes<br>Marital Status=%{x}<br>frequency=%{y}<extra></extra>",
         "legendgroup": "Yes",
         "marker": {
          "color": "#EF553B",
          "pattern": {
           "shape": ""
          }
         },
         "name": "Yes",
         "offsetgroup": "Yes",
         "orientation": "v",
         "showlegend": true,
         "textposition": "auto",
         "texttemplate": "%{y}",
         "type": "bar",
         "x": [
          "Divorced",
          "Married",
          "Single"
         ],
         "xaxis": "x",
         "y": [
          33,
          84,
          120
         ],
         "yaxis": "y"
        }
       ],
       "layout": {
        "barmode": "group",
        "legend": {
         "title": {
          "text": "Attrition"
         },
         "tracegroupgap": 0
        },
        "template": {
         "data": {
          "bar": [
           {
            "error_x": {
             "color": "#2a3f5f"
            },
            "error_y": {
             "color": "#2a3f5f"
            },
            "marker": {
             "line": {
              "color": "#E5ECF6",
              "width": 0.5
             },
             "pattern": {
              "fillmode": "overlay",
              "size": 10,
              "solidity": 0.2
             }
            },
            "type": "bar"
           }
          ],
          "barpolar": [
           {
            "marker": {
             "line": {
              "color": "#E5ECF6",
              "width": 0.5
             },
             "pattern": {
              "fillmode": "overlay",
              "size": 10,
              "solidity": 0.2
             }
            },
            "type": "barpolar"
           }
          ],
          "carpet": [
           {
            "aaxis": {
             "endlinecolor": "#2a3f5f",
             "gridcolor": "white",
             "linecolor": "white",
             "minorgridcolor": "white",
             "startlinecolor": "#2a3f5f"
            },
            "baxis": {
             "endlinecolor": "#2a3f5f",
             "gridcolor": "white",
             "linecolor": "white",
             "minorgridcolor": "white",
             "startlinecolor": "#2a3f5f"
            },
            "type": "carpet"
           }
          ],
          "choropleth": [
           {
            "colorbar": {
             "outlinewidth": 0,
             "ticks": ""
            },
            "type": "choropleth"
           }
          ],
          "contour": [
           {
            "colorbar": {
             "outlinewidth": 0,
             "ticks": ""
            },
            "colorscale": [
             [
              0,
              "#0d0887"
             ],
             [
              0.1111111111111111,
              "#46039f"
             ],
             [
              0.2222222222222222,
              "#7201a8"
             ],
             [
              0.3333333333333333,
              "#9c179e"
             ],
             [
              0.4444444444444444,
              "#bd3786"
             ],
             [
              0.5555555555555556,
              "#d8576b"
             ],
             [
              0.6666666666666666,
              "#ed7953"
             ],
             [
              0.7777777777777778,
              "#fb9f3a"
             ],
             [
              0.8888888888888888,
              "#fdca26"
             ],
             [
              1,
              "#f0f921"
             ]
            ],
            "type": "contour"
           }
          ],
          "contourcarpet": [
           {
            "colorbar": {
             "outlinewidth": 0,
             "ticks": ""
            },
            "type": "contourcarpet"
           }
          ],
          "heatmap": [
           {
            "colorbar": {
             "outlinewidth": 0,
             "ticks": ""
            },
            "colorscale": [
             [
              0,
              "#0d0887"
             ],
             [
              0.1111111111111111,
              "#46039f"
             ],
             [
              0.2222222222222222,
              "#7201a8"
             ],
             [
              0.3333333333333333,
              "#9c179e"
             ],
             [
              0.4444444444444444,
              "#bd3786"
             ],
             [
              0.5555555555555556,
              "#d8576b"
             ],
             [
              0.6666666666666666,
              "#ed7953"
             ],
             [
              0.7777777777777778,
              "#fb9f3a"
             ],
             [
              0.8888888888888888,
              "#fdca26"
             ],
             [
              1,
              "#f0f921"
             ]
            ],
            "type": "heatmap"
           }
          ],
          "heatmapgl": [
           {
            "colorbar": {
             "outlinewidth": 0,
             "ticks": ""
            },
            "colorscale": [
             [
              0,
              "#0d0887"
             ],
             [
              0.1111111111111111,
              "#46039f"
             ],
             [
              0.2222222222222222,
              "#7201a8"
             ],
             [
              0.3333333333333333,
              "#9c179e"
             ],
             [
              0.4444444444444444,
              "#bd3786"
             ],
             [
              0.5555555555555556,
              "#d8576b"
             ],
             [
              0.6666666666666666,
              "#ed7953"
             ],
             [
              0.7777777777777778,
              "#fb9f3a"
             ],
             [
              0.8888888888888888,
              "#fdca26"
             ],
             [
              1,
              "#f0f921"
             ]
            ],
            "type": "heatmapgl"
           }
          ],
          "histogram": [
           {
            "marker": {
             "pattern": {
              "fillmode": "overlay",
              "size": 10,
              "solidity": 0.2
             }
            },
            "type": "histogram"
           }
          ],
          "histogram2d": [
           {
            "colorbar": {
             "outlinewidth": 0,
             "ticks": ""
            },
            "colorscale": [
             [
              0,
              "#0d0887"
             ],
             [
              0.1111111111111111,
              "#46039f"
             ],
             [
              0.2222222222222222,
              "#7201a8"
             ],
             [
              0.3333333333333333,
              "#9c179e"
             ],
             [
              0.4444444444444444,
              "#bd3786"
             ],
             [
              0.5555555555555556,
              "#d8576b"
             ],
             [
              0.6666666666666666,
              "#ed7953"
             ],
             [
              0.7777777777777778,
              "#fb9f3a"
             ],
             [
              0.8888888888888888,
              "#fdca26"
             ],
             [
              1,
              "#f0f921"
             ]
            ],
            "type": "histogram2d"
           }
          ],
          "histogram2dcontour": [
           {
            "colorbar": {
             "outlinewidth": 0,
             "ticks": ""
            },
            "colorscale": [
             [
              0,
              "#0d0887"
             ],
             [
              0.1111111111111111,
              "#46039f"
             ],
             [
              0.2222222222222222,
              "#7201a8"
             ],
             [
              0.3333333333333333,
              "#9c179e"
             ],
             [
              0.4444444444444444,
              "#bd3786"
             ],
             [
              0.5555555555555556,
              "#d8576b"
             ],
             [
              0.6666666666666666,
              "#ed7953"
             ],
             [
              0.7777777777777778,
              "#fb9f3a"
             ],
             [
              0.8888888888888888,
              "#fdca26"
             ],
             [
              1,
              "#f0f921"
             ]
            ],
            "type": "histogram2dcontour"
           }
          ],
          "mesh3d": [
           {
            "colorbar": {
             "outlinewidth": 0,
             "ticks": ""
            },
            "type": "mesh3d"
           }
          ],
          "parcoords": [
           {
            "line": {
             "colorbar": {
              "outlinewidth": 0,
              "ticks": ""
             }
            },
            "type": "parcoords"
           }
          ],
          "pie": [
           {
            "automargin": true,
            "type": "pie"
           }
          ],
          "scatter": [
           {
            "fillpattern": {
             "fillmode": "overlay",
             "size": 10,
             "solidity": 0.2
            },
            "type": "scatter"
           }
          ],
          "scatter3d": [
           {
            "line": {
             "colorbar": {
              "outlinewidth": 0,
              "ticks": ""
             }
            },
            "marker": {
             "colorbar": {
              "outlinewidth": 0,
              "ticks": ""
             }
            },
            "type": "scatter3d"
           }
          ],
          "scattercarpet": [
           {
            "marker": {
             "colorbar": {
              "outlinewidth": 0,
              "ticks": ""
             }
            },
            "type": "scattercarpet"
           }
          ],
          "scattergeo": [
           {
            "marker": {
             "colorbar": {
              "outlinewidth": 0,
              "ticks": ""
             }
            },
            "type": "scattergeo"
           }
          ],
          "scattergl": [
           {
            "marker": {
             "colorbar": {
              "outlinewidth": 0,
              "ticks": ""
             }
            },
            "type": "scattergl"
           }
          ],
          "scattermapbox": [
           {
            "marker": {
             "colorbar": {
              "outlinewidth": 0,
              "ticks": ""
             }
            },
            "type": "scattermapbox"
           }
          ],
          "scatterpolar": [
           {
            "marker": {
             "colorbar": {
              "outlinewidth": 0,
              "ticks": ""
             }
            },
            "type": "scatterpolar"
           }
          ],
          "scatterpolargl": [
           {
            "marker": {
             "colorbar": {
              "outlinewidth": 0,
              "ticks": ""
             }
            },
            "type": "scatterpolargl"
           }
          ],
          "scatterternary": [
           {
            "marker": {
             "colorbar": {
              "outlinewidth": 0,
              "ticks": ""
             }
            },
            "type": "scatterternary"
           }
          ],
          "surface": [
           {
            "colorbar": {
             "outlinewidth": 0,
             "ticks": ""
            },
            "colorscale": [
             [
              0,
              "#0d0887"
             ],
             [
              0.1111111111111111,
              "#46039f"
             ],
             [
              0.2222222222222222,
              "#7201a8"
             ],
             [
              0.3333333333333333,
              "#9c179e"
             ],
             [
              0.4444444444444444,
              "#bd3786"
             ],
             [
              0.5555555555555556,
              "#d8576b"
             ],
             [
              0.6666666666666666,
              "#ed7953"
             ],
             [
              0.7777777777777778,
              "#fb9f3a"
             ],
             [
              0.8888888888888888,
              "#fdca26"
             ],
             [
              1,
              "#f0f921"
             ]
            ],
            "type": "surface"
           }
          ],
          "table": [
           {
            "cells": {
             "fill": {
              "color": "#EBF0F8"
             },
             "line": {
              "color": "white"
             }
            },
            "header": {
             "fill": {
              "color": "#C8D4E3"
             },
             "line": {
              "color": "white"
             }
            },
            "type": "table"
           }
          ]
         },
         "layout": {
          "annotationdefaults": {
           "arrowcolor": "#2a3f5f",
           "arrowhead": 0,
           "arrowwidth": 1
          },
          "autotypenumbers": "strict",
          "coloraxis": {
           "colorbar": {
            "outlinewidth": 0,
            "ticks": ""
           }
          },
          "colorscale": {
           "diverging": [
            [
             0,
             "#8e0152"
            ],
            [
             0.1,
             "#c51b7d"
            ],
            [
             0.2,
             "#de77ae"
            ],
            [
             0.3,
             "#f1b6da"
            ],
            [
             0.4,
             "#fde0ef"
            ],
            [
             0.5,
             "#f7f7f7"
            ],
            [
             0.6,
             "#e6f5d0"
            ],
            [
             0.7,
             "#b8e186"
            ],
            [
             0.8,
             "#7fbc41"
            ],
            [
             0.9,
             "#4d9221"
            ],
            [
             1,
             "#276419"
            ]
           ],
           "sequential": [
            [
             0,
             "#0d0887"
            ],
            [
             0.1111111111111111,
             "#46039f"
            ],
            [
             0.2222222222222222,
             "#7201a8"
            ],
            [
             0.3333333333333333,
             "#9c179e"
            ],
            [
             0.4444444444444444,
             "#bd3786"
            ],
            [
             0.5555555555555556,
             "#d8576b"
            ],
            [
             0.6666666666666666,
             "#ed7953"
            ],
            [
             0.7777777777777778,
             "#fb9f3a"
            ],
            [
             0.8888888888888888,
             "#fdca26"
            ],
            [
             1,
             "#f0f921"
            ]
           ],
           "sequentialminus": [
            [
             0,
             "#0d0887"
            ],
            [
             0.1111111111111111,
             "#46039f"
            ],
            [
             0.2222222222222222,
             "#7201a8"
            ],
            [
             0.3333333333333333,
             "#9c179e"
            ],
            [
             0.4444444444444444,
             "#bd3786"
            ],
            [
             0.5555555555555556,
             "#d8576b"
            ],
            [
             0.6666666666666666,
             "#ed7953"
            ],
            [
             0.7777777777777778,
             "#fb9f3a"
            ],
            [
             0.8888888888888888,
             "#fdca26"
            ],
            [
             1,
             "#f0f921"
            ]
           ]
          },
          "colorway": [
           "#636efa",
           "#EF553B",
           "#00cc96",
           "#ab63fa",
           "#FFA15A",
           "#19d3f3",
           "#FF6692",
           "#B6E880",
           "#FF97FF",
           "#FECB52"
          ],
          "font": {
           "color": "#2a3f5f"
          },
          "geo": {
           "bgcolor": "white",
           "lakecolor": "white",
           "landcolor": "#E5ECF6",
           "showlakes": true,
           "showland": true,
           "subunitcolor": "white"
          },
          "hoverlabel": {
           "align": "left"
          },
          "hovermode": "closest",
          "mapbox": {
           "style": "light"
          },
          "paper_bgcolor": "white",
          "plot_bgcolor": "#E5ECF6",
          "polar": {
           "angularaxis": {
            "gridcolor": "white",
            "linecolor": "white",
            "ticks": ""
           },
           "bgcolor": "#E5ECF6",
           "radialaxis": {
            "gridcolor": "white",
            "linecolor": "white",
            "ticks": ""
           }
          },
          "scene": {
           "xaxis": {
            "backgroundcolor": "#E5ECF6",
            "gridcolor": "white",
            "gridwidth": 2,
            "linecolor": "white",
            "showbackground": true,
            "ticks": "",
            "zerolinecolor": "white"
           },
           "yaxis": {
            "backgroundcolor": "#E5ECF6",
            "gridcolor": "white",
            "gridwidth": 2,
            "linecolor": "white",
            "showbackground": true,
            "ticks": "",
            "zerolinecolor": "white"
           },
           "zaxis": {
            "backgroundcolor": "#E5ECF6",
            "gridcolor": "white",
            "gridwidth": 2,
            "linecolor": "white",
            "showbackground": true,
            "ticks": "",
            "zerolinecolor": "white"
           }
          },
          "shapedefaults": {
           "line": {
            "color": "#2a3f5f"
           }
          },
          "ternary": {
           "aaxis": {
            "gridcolor": "white",
            "linecolor": "white",
            "ticks": ""
           },
           "baxis": {
            "gridcolor": "white",
            "linecolor": "white",
            "ticks": ""
           },
           "bgcolor": "#E5ECF6",
           "caxis": {
            "gridcolor": "white",
            "linecolor": "white",
            "ticks": ""
           }
          },
          "title": {
           "x": 0.05
          },
          "xaxis": {
           "automargin": true,
           "gridcolor": "white",
           "linecolor": "white",
           "ticks": "",
           "title": {
            "standoff": 15
           },
           "zerolinecolor": "white",
           "zerolinewidth": 2
          },
          "yaxis": {
           "automargin": true,
           "gridcolor": "white",
           "linecolor": "white",
           "ticks": "",
           "title": {
            "standoff": 15
           },
           "zerolinecolor": "white",
           "zerolinewidth": 2
          }
         }
        },
        "title": {
         "text": "Attrition by Marital Status"
        },
        "xaxis": {
         "anchor": "y",
         "domain": [
          0,
          1
         ],
         "title": {
          "text": "Marital Status"
         }
        },
        "yaxis": {
         "anchor": "x",
         "domain": [
          0,
          1
         ],
         "title": {
          "text": "frequency"
         }
        }
       }
      }
     },
     "metadata": {},
     "output_type": "display_data"
    }
   ],
   "source": [
    "# Attrition by Marital Status\n",
    "fig_marital = px.bar(\n",
    "    df_cleaned.groupby(\"MaritalStatus\")[\"Attrition\"].value_counts().unstack(),\n",
    "    title=\"Attrition by Marital Status\",\n",
    "    labels={\"value\": \"frequency\", \"MaritalStatus\": \"Marital Status\"},\n",
    "    barmode=\"group\",\n",
    "    color_discrete_sequence=[\"#636EFA\", \"#EF553B\"],\n",
    "    text_auto= True\n",
    ")\n",
    "fig_marital.show()"
   ]
  },
  {
   "cell_type": "code",
   "execution_count": 33,
   "metadata": {},
   "outputs": [
    {
     "data": {
      "application/vnd.plotly.v1+json": {
       "config": {
        "plotlyServerURL": "https://plot.ly"
       },
       "data": [
        {
         "alignmentgroup": "True",
         "hovertemplate": "Attrition=No<br>Overtime=%{x}<br>frequency=%{y}<extra></extra>",
         "legendgroup": "No",
         "marker": {
          "color": "#636EFA",
          "pattern": {
           "shape": ""
          }
         },
         "name": "No",
         "offsetgroup": "No",
         "orientation": "v",
         "showlegend": true,
         "textposition": "auto",
         "texttemplate": "%{y}",
         "type": "bar",
         "x": [
          "No",
          "Yes"
         ],
         "xaxis": "x",
         "y": [
          944,
          289
         ],
         "yaxis": "y"
        },
        {
         "alignmentgroup": "True",
         "hovertemplate": "Attrition=Yes<br>Overtime=%{x}<br>frequency=%{y}<extra></extra>",
         "legendgroup": "Yes",
         "marker": {
          "color": "#EF553B",
          "pattern": {
           "shape": ""
          }
         },
         "name": "Yes",
         "offsetgroup": "Yes",
         "orientation": "v",
         "showlegend": true,
         "textposition": "auto",
         "texttemplate": "%{y}",
         "type": "bar",
         "x": [
          "No",
          "Yes"
         ],
         "xaxis": "x",
         "y": [
          110,
          127
         ],
         "yaxis": "y"
        }
       ],
       "layout": {
        "barmode": "group",
        "legend": {
         "title": {
          "text": "Attrition"
         },
         "tracegroupgap": 0
        },
        "template": {
         "data": {
          "bar": [
           {
            "error_x": {
             "color": "#2a3f5f"
            },
            "error_y": {
             "color": "#2a3f5f"
            },
            "marker": {
             "line": {
              "color": "#E5ECF6",
              "width": 0.5
             },
             "pattern": {
              "fillmode": "overlay",
              "size": 10,
              "solidity": 0.2
             }
            },
            "type": "bar"
           }
          ],
          "barpolar": [
           {
            "marker": {
             "line": {
              "color": "#E5ECF6",
              "width": 0.5
             },
             "pattern": {
              "fillmode": "overlay",
              "size": 10,
              "solidity": 0.2
             }
            },
            "type": "barpolar"
           }
          ],
          "carpet": [
           {
            "aaxis": {
             "endlinecolor": "#2a3f5f",
             "gridcolor": "white",
             "linecolor": "white",
             "minorgridcolor": "white",
             "startlinecolor": "#2a3f5f"
            },
            "baxis": {
             "endlinecolor": "#2a3f5f",
             "gridcolor": "white",
             "linecolor": "white",
             "minorgridcolor": "white",
             "startlinecolor": "#2a3f5f"
            },
            "type": "carpet"
           }
          ],
          "choropleth": [
           {
            "colorbar": {
             "outlinewidth": 0,
             "ticks": ""
            },
            "type": "choropleth"
           }
          ],
          "contour": [
           {
            "colorbar": {
             "outlinewidth": 0,
             "ticks": ""
            },
            "colorscale": [
             [
              0,
              "#0d0887"
             ],
             [
              0.1111111111111111,
              "#46039f"
             ],
             [
              0.2222222222222222,
              "#7201a8"
             ],
             [
              0.3333333333333333,
              "#9c179e"
             ],
             [
              0.4444444444444444,
              "#bd3786"
             ],
             [
              0.5555555555555556,
              "#d8576b"
             ],
             [
              0.6666666666666666,
              "#ed7953"
             ],
             [
              0.7777777777777778,
              "#fb9f3a"
             ],
             [
              0.8888888888888888,
              "#fdca26"
             ],
             [
              1,
              "#f0f921"
             ]
            ],
            "type": "contour"
           }
          ],
          "contourcarpet": [
           {
            "colorbar": {
             "outlinewidth": 0,
             "ticks": ""
            },
            "type": "contourcarpet"
           }
          ],
          "heatmap": [
           {
            "colorbar": {
             "outlinewidth": 0,
             "ticks": ""
            },
            "colorscale": [
             [
              0,
              "#0d0887"
             ],
             [
              0.1111111111111111,
              "#46039f"
             ],
             [
              0.2222222222222222,
              "#7201a8"
             ],
             [
              0.3333333333333333,
              "#9c179e"
             ],
             [
              0.4444444444444444,
              "#bd3786"
             ],
             [
              0.5555555555555556,
              "#d8576b"
             ],
             [
              0.6666666666666666,
              "#ed7953"
             ],
             [
              0.7777777777777778,
              "#fb9f3a"
             ],
             [
              0.8888888888888888,
              "#fdca26"
             ],
             [
              1,
              "#f0f921"
             ]
            ],
            "type": "heatmap"
           }
          ],
          "heatmapgl": [
           {
            "colorbar": {
             "outlinewidth": 0,
             "ticks": ""
            },
            "colorscale": [
             [
              0,
              "#0d0887"
             ],
             [
              0.1111111111111111,
              "#46039f"
             ],
             [
              0.2222222222222222,
              "#7201a8"
             ],
             [
              0.3333333333333333,
              "#9c179e"
             ],
             [
              0.4444444444444444,
              "#bd3786"
             ],
             [
              0.5555555555555556,
              "#d8576b"
             ],
             [
              0.6666666666666666,
              "#ed7953"
             ],
             [
              0.7777777777777778,
              "#fb9f3a"
             ],
             [
              0.8888888888888888,
              "#fdca26"
             ],
             [
              1,
              "#f0f921"
             ]
            ],
            "type": "heatmapgl"
           }
          ],
          "histogram": [
           {
            "marker": {
             "pattern": {
              "fillmode": "overlay",
              "size": 10,
              "solidity": 0.2
             }
            },
            "type": "histogram"
           }
          ],
          "histogram2d": [
           {
            "colorbar": {
             "outlinewidth": 0,
             "ticks": ""
            },
            "colorscale": [
             [
              0,
              "#0d0887"
             ],
             [
              0.1111111111111111,
              "#46039f"
             ],
             [
              0.2222222222222222,
              "#7201a8"
             ],
             [
              0.3333333333333333,
              "#9c179e"
             ],
             [
              0.4444444444444444,
              "#bd3786"
             ],
             [
              0.5555555555555556,
              "#d8576b"
             ],
             [
              0.6666666666666666,
              "#ed7953"
             ],
             [
              0.7777777777777778,
              "#fb9f3a"
             ],
             [
              0.8888888888888888,
              "#fdca26"
             ],
             [
              1,
              "#f0f921"
             ]
            ],
            "type": "histogram2d"
           }
          ],
          "histogram2dcontour": [
           {
            "colorbar": {
             "outlinewidth": 0,
             "ticks": ""
            },
            "colorscale": [
             [
              0,
              "#0d0887"
             ],
             [
              0.1111111111111111,
              "#46039f"
             ],
             [
              0.2222222222222222,
              "#7201a8"
             ],
             [
              0.3333333333333333,
              "#9c179e"
             ],
             [
              0.4444444444444444,
              "#bd3786"
             ],
             [
              0.5555555555555556,
              "#d8576b"
             ],
             [
              0.6666666666666666,
              "#ed7953"
             ],
             [
              0.7777777777777778,
              "#fb9f3a"
             ],
             [
              0.8888888888888888,
              "#fdca26"
             ],
             [
              1,
              "#f0f921"
             ]
            ],
            "type": "histogram2dcontour"
           }
          ],
          "mesh3d": [
           {
            "colorbar": {
             "outlinewidth": 0,
             "ticks": ""
            },
            "type": "mesh3d"
           }
          ],
          "parcoords": [
           {
            "line": {
             "colorbar": {
              "outlinewidth": 0,
              "ticks": ""
             }
            },
            "type": "parcoords"
           }
          ],
          "pie": [
           {
            "automargin": true,
            "type": "pie"
           }
          ],
          "scatter": [
           {
            "fillpattern": {
             "fillmode": "overlay",
             "size": 10,
             "solidity": 0.2
            },
            "type": "scatter"
           }
          ],
          "scatter3d": [
           {
            "line": {
             "colorbar": {
              "outlinewidth": 0,
              "ticks": ""
             }
            },
            "marker": {
             "colorbar": {
              "outlinewidth": 0,
              "ticks": ""
             }
            },
            "type": "scatter3d"
           }
          ],
          "scattercarpet": [
           {
            "marker": {
             "colorbar": {
              "outlinewidth": 0,
              "ticks": ""
             }
            },
            "type": "scattercarpet"
           }
          ],
          "scattergeo": [
           {
            "marker": {
             "colorbar": {
              "outlinewidth": 0,
              "ticks": ""
             }
            },
            "type": "scattergeo"
           }
          ],
          "scattergl": [
           {
            "marker": {
             "colorbar": {
              "outlinewidth": 0,
              "ticks": ""
             }
            },
            "type": "scattergl"
           }
          ],
          "scattermapbox": [
           {
            "marker": {
             "colorbar": {
              "outlinewidth": 0,
              "ticks": ""
             }
            },
            "type": "scattermapbox"
           }
          ],
          "scatterpolar": [
           {
            "marker": {
             "colorbar": {
              "outlinewidth": 0,
              "ticks": ""
             }
            },
            "type": "scatterpolar"
           }
          ],
          "scatterpolargl": [
           {
            "marker": {
             "colorbar": {
              "outlinewidth": 0,
              "ticks": ""
             }
            },
            "type": "scatterpolargl"
           }
          ],
          "scatterternary": [
           {
            "marker": {
             "colorbar": {
              "outlinewidth": 0,
              "ticks": ""
             }
            },
            "type": "scatterternary"
           }
          ],
          "surface": [
           {
            "colorbar": {
             "outlinewidth": 0,
             "ticks": ""
            },
            "colorscale": [
             [
              0,
              "#0d0887"
             ],
             [
              0.1111111111111111,
              "#46039f"
             ],
             [
              0.2222222222222222,
              "#7201a8"
             ],
             [
              0.3333333333333333,
              "#9c179e"
             ],
             [
              0.4444444444444444,
              "#bd3786"
             ],
             [
              0.5555555555555556,
              "#d8576b"
             ],
             [
              0.6666666666666666,
              "#ed7953"
             ],
             [
              0.7777777777777778,
              "#fb9f3a"
             ],
             [
              0.8888888888888888,
              "#fdca26"
             ],
             [
              1,
              "#f0f921"
             ]
            ],
            "type": "surface"
           }
          ],
          "table": [
           {
            "cells": {
             "fill": {
              "color": "#EBF0F8"
             },
             "line": {
              "color": "white"
             }
            },
            "header": {
             "fill": {
              "color": "#C8D4E3"
             },
             "line": {
              "color": "white"
             }
            },
            "type": "table"
           }
          ]
         },
         "layout": {
          "annotationdefaults": {
           "arrowcolor": "#2a3f5f",
           "arrowhead": 0,
           "arrowwidth": 1
          },
          "autotypenumbers": "strict",
          "coloraxis": {
           "colorbar": {
            "outlinewidth": 0,
            "ticks": ""
           }
          },
          "colorscale": {
           "diverging": [
            [
             0,
             "#8e0152"
            ],
            [
             0.1,
             "#c51b7d"
            ],
            [
             0.2,
             "#de77ae"
            ],
            [
             0.3,
             "#f1b6da"
            ],
            [
             0.4,
             "#fde0ef"
            ],
            [
             0.5,
             "#f7f7f7"
            ],
            [
             0.6,
             "#e6f5d0"
            ],
            [
             0.7,
             "#b8e186"
            ],
            [
             0.8,
             "#7fbc41"
            ],
            [
             0.9,
             "#4d9221"
            ],
            [
             1,
             "#276419"
            ]
           ],
           "sequential": [
            [
             0,
             "#0d0887"
            ],
            [
             0.1111111111111111,
             "#46039f"
            ],
            [
             0.2222222222222222,
             "#7201a8"
            ],
            [
             0.3333333333333333,
             "#9c179e"
            ],
            [
             0.4444444444444444,
             "#bd3786"
            ],
            [
             0.5555555555555556,
             "#d8576b"
            ],
            [
             0.6666666666666666,
             "#ed7953"
            ],
            [
             0.7777777777777778,
             "#fb9f3a"
            ],
            [
             0.8888888888888888,
             "#fdca26"
            ],
            [
             1,
             "#f0f921"
            ]
           ],
           "sequentialminus": [
            [
             0,
             "#0d0887"
            ],
            [
             0.1111111111111111,
             "#46039f"
            ],
            [
             0.2222222222222222,
             "#7201a8"
            ],
            [
             0.3333333333333333,
             "#9c179e"
            ],
            [
             0.4444444444444444,
             "#bd3786"
            ],
            [
             0.5555555555555556,
             "#d8576b"
            ],
            [
             0.6666666666666666,
             "#ed7953"
            ],
            [
             0.7777777777777778,
             "#fb9f3a"
            ],
            [
             0.8888888888888888,
             "#fdca26"
            ],
            [
             1,
             "#f0f921"
            ]
           ]
          },
          "colorway": [
           "#636efa",
           "#EF553B",
           "#00cc96",
           "#ab63fa",
           "#FFA15A",
           "#19d3f3",
           "#FF6692",
           "#B6E880",
           "#FF97FF",
           "#FECB52"
          ],
          "font": {
           "color": "#2a3f5f"
          },
          "geo": {
           "bgcolor": "white",
           "lakecolor": "white",
           "landcolor": "#E5ECF6",
           "showlakes": true,
           "showland": true,
           "subunitcolor": "white"
          },
          "hoverlabel": {
           "align": "left"
          },
          "hovermode": "closest",
          "mapbox": {
           "style": "light"
          },
          "paper_bgcolor": "white",
          "plot_bgcolor": "#E5ECF6",
          "polar": {
           "angularaxis": {
            "gridcolor": "white",
            "linecolor": "white",
            "ticks": ""
           },
           "bgcolor": "#E5ECF6",
           "radialaxis": {
            "gridcolor": "white",
            "linecolor": "white",
            "ticks": ""
           }
          },
          "scene": {
           "xaxis": {
            "backgroundcolor": "#E5ECF6",
            "gridcolor": "white",
            "gridwidth": 2,
            "linecolor": "white",
            "showbackground": true,
            "ticks": "",
            "zerolinecolor": "white"
           },
           "yaxis": {
            "backgroundcolor": "#E5ECF6",
            "gridcolor": "white",
            "gridwidth": 2,
            "linecolor": "white",
            "showbackground": true,
            "ticks": "",
            "zerolinecolor": "white"
           },
           "zaxis": {
            "backgroundcolor": "#E5ECF6",
            "gridcolor": "white",
            "gridwidth": 2,
            "linecolor": "white",
            "showbackground": true,
            "ticks": "",
            "zerolinecolor": "white"
           }
          },
          "shapedefaults": {
           "line": {
            "color": "#2a3f5f"
           }
          },
          "ternary": {
           "aaxis": {
            "gridcolor": "white",
            "linecolor": "white",
            "ticks": ""
           },
           "baxis": {
            "gridcolor": "white",
            "linecolor": "white",
            "ticks": ""
           },
           "bgcolor": "#E5ECF6",
           "caxis": {
            "gridcolor": "white",
            "linecolor": "white",
            "ticks": ""
           }
          },
          "title": {
           "x": 0.05
          },
          "xaxis": {
           "automargin": true,
           "gridcolor": "white",
           "linecolor": "white",
           "ticks": "",
           "title": {
            "standoff": 15
           },
           "zerolinecolor": "white",
           "zerolinewidth": 2
          },
          "yaxis": {
           "automargin": true,
           "gridcolor": "white",
           "linecolor": "white",
           "ticks": "",
           "title": {
            "standoff": 15
           },
           "zerolinecolor": "white",
           "zerolinewidth": 2
          }
         }
        },
        "title": {
         "text": "Attrition by Overtime Work"
        },
        "xaxis": {
         "anchor": "y",
         "domain": [
          0,
          1
         ],
         "title": {
          "text": "Overtime"
         }
        },
        "yaxis": {
         "anchor": "x",
         "domain": [
          0,
          1
         ],
         "title": {
          "text": "frequency"
         }
        }
       }
      }
     },
     "metadata": {},
     "output_type": "display_data"
    }
   ],
   "source": [
    "# Attrition by Overtime Work\n",
    "fig_overtime = px.bar(\n",
    "    df_cleaned.groupby(\"OverTime\")[\"Attrition\"].value_counts().unstack(),\n",
    "    title=\"Attrition by Overtime Work\",\n",
    "    labels={\"value\": \"frequency\", \"OverTime\": \"Overtime\"},\n",
    "    barmode=\"group\",\n",
    "    color_discrete_sequence=[\"#636EFA\", \"#EF553B\"],\n",
    "    text_auto= True\n",
    ")\n",
    "fig_overtime.show()\n"
   ]
  },
  {
   "cell_type": "markdown",
   "metadata": {},
   "source": [
    "### Correlation Analysis\n",
    "    1️⃣ Correlation Heatmap Shows relationships between numeric features\n",
    "    2️⃣ Attrition vs. Salary, Job Satisfaction, and Work-Life Balance "
   ]
  },
  {
   "cell_type": "code",
   "execution_count": 34,
   "metadata": {},
   "outputs": [
    {
     "data": {
      "application/vnd.plotly.v1+json": {
       "config": {
        "plotlyServerURL": "https://plot.ly"
       },
       "data": [
        {
         "colorscale": [
          [
           0,
           "rgb(247,251,255)"
          ],
          [
           0.125,
           "rgb(222,235,247)"
          ],
          [
           0.25,
           "rgb(198,219,239)"
          ],
          [
           0.375,
           "rgb(158,202,225)"
          ],
          [
           0.5,
           "rgb(107,174,214)"
          ],
          [
           0.625,
           "rgb(66,146,198)"
          ],
          [
           0.75,
           "rgb(33,113,181)"
          ],
          [
           0.875,
           "rgb(8,81,156)"
          ],
          [
           1,
           "rgb(8,48,107)"
          ]
         ],
         "reversescale": false,
         "showscale": true,
         "type": "heatmap",
         "x": [
          "Age",
          "MonthlyIncome",
          "TotalWorkingYears",
          "YearsAtCompany",
          "JobSatisfaction",
          "WorkLifeBalance"
         ],
         "y": [
          "Age",
          "MonthlyIncome",
          "TotalWorkingYears",
          "YearsAtCompany",
          "JobSatisfaction",
          "WorkLifeBalance"
         ],
         "z": [
          [
           1,
           0.4978545669265801,
           0.6803805357911985,
           0.3113087697450989,
           -0.00489187714868713,
           -0.021490027957098715
          ],
          [
           0.4978545669265801,
           1,
           0.7728932462543574,
           0.5142848257331957,
           -0.007156742355912745,
           0.030683081556940557
          ],
          [
           0.6803805357911985,
           0.7728932462543574,
           1,
           0.6281331552682468,
           -0.020185072685016788,
           0.0010076456218964924
          ],
          [
           0.3113087697450989,
           0.5142848257331957,
           0.6281331552682468,
           1,
           -0.003802627948288028,
           0.012089185354581315
          ],
          [
           -0.00489187714868713,
           -0.007156742355912745,
           -0.020185072685016788,
           -0.003802627948288028,
           1,
           -0.01945871021297396
          ],
          [
           -0.021490027957098715,
           0.030683081556940557,
           0.0010076456218964924,
           0.012089185354581315,
           -0.01945871021297396,
           1
          ]
         ]
        }
       ],
       "layout": {
        "annotations": [
         {
          "font": {
           "color": "#FFFFFF"
          },
          "showarrow": false,
          "text": "1.0",
          "x": "Age",
          "xref": "x",
          "y": "Age",
          "yref": "y"
         },
         {
          "font": {
           "color": "#FFFFFF"
          },
          "showarrow": false,
          "text": "0.5",
          "x": "MonthlyIncome",
          "xref": "x",
          "y": "Age",
          "yref": "y"
         },
         {
          "font": {
           "color": "#FFFFFF"
          },
          "showarrow": false,
          "text": "0.68",
          "x": "TotalWorkingYears",
          "xref": "x",
          "y": "Age",
          "yref": "y"
         },
         {
          "font": {
           "color": "#000000"
          },
          "showarrow": false,
          "text": "0.31",
          "x": "YearsAtCompany",
          "xref": "x",
          "y": "Age",
          "yref": "y"
         },
         {
          "font": {
           "color": "#000000"
          },
          "showarrow": false,
          "text": "-0.0",
          "x": "JobSatisfaction",
          "xref": "x",
          "y": "Age",
          "yref": "y"
         },
         {
          "font": {
           "color": "#000000"
          },
          "showarrow": false,
          "text": "-0.02",
          "x": "WorkLifeBalance",
          "xref": "x",
          "y": "Age",
          "yref": "y"
         },
         {
          "font": {
           "color": "#FFFFFF"
          },
          "showarrow": false,
          "text": "0.5",
          "x": "Age",
          "xref": "x",
          "y": "MonthlyIncome",
          "yref": "y"
         },
         {
          "font": {
           "color": "#FFFFFF"
          },
          "showarrow": false,
          "text": "1.0",
          "x": "MonthlyIncome",
          "xref": "x",
          "y": "MonthlyIncome",
          "yref": "y"
         },
         {
          "font": {
           "color": "#FFFFFF"
          },
          "showarrow": false,
          "text": "0.77",
          "x": "TotalWorkingYears",
          "xref": "x",
          "y": "MonthlyIncome",
          "yref": "y"
         },
         {
          "font": {
           "color": "#FFFFFF"
          },
          "showarrow": false,
          "text": "0.51",
          "x": "YearsAtCompany",
          "xref": "x",
          "y": "MonthlyIncome",
          "yref": "y"
         },
         {
          "font": {
           "color": "#000000"
          },
          "showarrow": false,
          "text": "-0.01",
          "x": "JobSatisfaction",
          "xref": "x",
          "y": "MonthlyIncome",
          "yref": "y"
         },
         {
          "font": {
           "color": "#000000"
          },
          "showarrow": false,
          "text": "0.03",
          "x": "WorkLifeBalance",
          "xref": "x",
          "y": "MonthlyIncome",
          "yref": "y"
         },
         {
          "font": {
           "color": "#FFFFFF"
          },
          "showarrow": false,
          "text": "0.68",
          "x": "Age",
          "xref": "x",
          "y": "TotalWorkingYears",
          "yref": "y"
         },
         {
          "font": {
           "color": "#FFFFFF"
          },
          "showarrow": false,
          "text": "0.77",
          "x": "MonthlyIncome",
          "xref": "x",
          "y": "TotalWorkingYears",
          "yref": "y"
         },
         {
          "font": {
           "color": "#FFFFFF"
          },
          "showarrow": false,
          "text": "1.0",
          "x": "TotalWorkingYears",
          "xref": "x",
          "y": "TotalWorkingYears",
          "yref": "y"
         },
         {
          "font": {
           "color": "#FFFFFF"
          },
          "showarrow": false,
          "text": "0.63",
          "x": "YearsAtCompany",
          "xref": "x",
          "y": "TotalWorkingYears",
          "yref": "y"
         },
         {
          "font": {
           "color": "#000000"
          },
          "showarrow": false,
          "text": "-0.02",
          "x": "JobSatisfaction",
          "xref": "x",
          "y": "TotalWorkingYears",
          "yref": "y"
         },
         {
          "font": {
           "color": "#000000"
          },
          "showarrow": false,
          "text": "0.0",
          "x": "WorkLifeBalance",
          "xref": "x",
          "y": "TotalWorkingYears",
          "yref": "y"
         },
         {
          "font": {
           "color": "#000000"
          },
          "showarrow": false,
          "text": "0.31",
          "x": "Age",
          "xref": "x",
          "y": "YearsAtCompany",
          "yref": "y"
         },
         {
          "font": {
           "color": "#FFFFFF"
          },
          "showarrow": false,
          "text": "0.51",
          "x": "MonthlyIncome",
          "xref": "x",
          "y": "YearsAtCompany",
          "yref": "y"
         },
         {
          "font": {
           "color": "#FFFFFF"
          },
          "showarrow": false,
          "text": "0.63",
          "x": "TotalWorkingYears",
          "xref": "x",
          "y": "YearsAtCompany",
          "yref": "y"
         },
         {
          "font": {
           "color": "#FFFFFF"
          },
          "showarrow": false,
          "text": "1.0",
          "x": "YearsAtCompany",
          "xref": "x",
          "y": "YearsAtCompany",
          "yref": "y"
         },
         {
          "font": {
           "color": "#000000"
          },
          "showarrow": false,
          "text": "-0.0",
          "x": "JobSatisfaction",
          "xref": "x",
          "y": "YearsAtCompany",
          "yref": "y"
         },
         {
          "font": {
           "color": "#000000"
          },
          "showarrow": false,
          "text": "0.01",
          "x": "WorkLifeBalance",
          "xref": "x",
          "y": "YearsAtCompany",
          "yref": "y"
         },
         {
          "font": {
           "color": "#000000"
          },
          "showarrow": false,
          "text": "-0.0",
          "x": "Age",
          "xref": "x",
          "y": "JobSatisfaction",
          "yref": "y"
         },
         {
          "font": {
           "color": "#000000"
          },
          "showarrow": false,
          "text": "-0.01",
          "x": "MonthlyIncome",
          "xref": "x",
          "y": "JobSatisfaction",
          "yref": "y"
         },
         {
          "font": {
           "color": "#000000"
          },
          "showarrow": false,
          "text": "-0.02",
          "x": "TotalWorkingYears",
          "xref": "x",
          "y": "JobSatisfaction",
          "yref": "y"
         },
         {
          "font": {
           "color": "#000000"
          },
          "showarrow": false,
          "text": "-0.0",
          "x": "YearsAtCompany",
          "xref": "x",
          "y": "JobSatisfaction",
          "yref": "y"
         },
         {
          "font": {
           "color": "#FFFFFF"
          },
          "showarrow": false,
          "text": "1.0",
          "x": "JobSatisfaction",
          "xref": "x",
          "y": "JobSatisfaction",
          "yref": "y"
         },
         {
          "font": {
           "color": "#000000"
          },
          "showarrow": false,
          "text": "-0.02",
          "x": "WorkLifeBalance",
          "xref": "x",
          "y": "JobSatisfaction",
          "yref": "y"
         },
         {
          "font": {
           "color": "#000000"
          },
          "showarrow": false,
          "text": "-0.02",
          "x": "Age",
          "xref": "x",
          "y": "WorkLifeBalance",
          "yref": "y"
         },
         {
          "font": {
           "color": "#000000"
          },
          "showarrow": false,
          "text": "0.03",
          "x": "MonthlyIncome",
          "xref": "x",
          "y": "WorkLifeBalance",
          "yref": "y"
         },
         {
          "font": {
           "color": "#000000"
          },
          "showarrow": false,
          "text": "0.0",
          "x": "TotalWorkingYears",
          "xref": "x",
          "y": "WorkLifeBalance",
          "yref": "y"
         },
         {
          "font": {
           "color": "#000000"
          },
          "showarrow": false,
          "text": "0.01",
          "x": "YearsAtCompany",
          "xref": "x",
          "y": "WorkLifeBalance",
          "yref": "y"
         },
         {
          "font": {
           "color": "#000000"
          },
          "showarrow": false,
          "text": "-0.02",
          "x": "JobSatisfaction",
          "xref": "x",
          "y": "WorkLifeBalance",
          "yref": "y"
         },
         {
          "font": {
           "color": "#FFFFFF"
          },
          "showarrow": false,
          "text": "1.0",
          "x": "WorkLifeBalance",
          "xref": "x",
          "y": "WorkLifeBalance",
          "yref": "y"
         }
        ],
        "template": {
         "data": {
          "bar": [
           {
            "error_x": {
             "color": "#2a3f5f"
            },
            "error_y": {
             "color": "#2a3f5f"
            },
            "marker": {
             "line": {
              "color": "#E5ECF6",
              "width": 0.5
             },
             "pattern": {
              "fillmode": "overlay",
              "size": 10,
              "solidity": 0.2
             }
            },
            "type": "bar"
           }
          ],
          "barpolar": [
           {
            "marker": {
             "line": {
              "color": "#E5ECF6",
              "width": 0.5
             },
             "pattern": {
              "fillmode": "overlay",
              "size": 10,
              "solidity": 0.2
             }
            },
            "type": "barpolar"
           }
          ],
          "carpet": [
           {
            "aaxis": {
             "endlinecolor": "#2a3f5f",
             "gridcolor": "white",
             "linecolor": "white",
             "minorgridcolor": "white",
             "startlinecolor": "#2a3f5f"
            },
            "baxis": {
             "endlinecolor": "#2a3f5f",
             "gridcolor": "white",
             "linecolor": "white",
             "minorgridcolor": "white",
             "startlinecolor": "#2a3f5f"
            },
            "type": "carpet"
           }
          ],
          "choropleth": [
           {
            "colorbar": {
             "outlinewidth": 0,
             "ticks": ""
            },
            "type": "choropleth"
           }
          ],
          "contour": [
           {
            "colorbar": {
             "outlinewidth": 0,
             "ticks": ""
            },
            "colorscale": [
             [
              0,
              "#0d0887"
             ],
             [
              0.1111111111111111,
              "#46039f"
             ],
             [
              0.2222222222222222,
              "#7201a8"
             ],
             [
              0.3333333333333333,
              "#9c179e"
             ],
             [
              0.4444444444444444,
              "#bd3786"
             ],
             [
              0.5555555555555556,
              "#d8576b"
             ],
             [
              0.6666666666666666,
              "#ed7953"
             ],
             [
              0.7777777777777778,
              "#fb9f3a"
             ],
             [
              0.8888888888888888,
              "#fdca26"
             ],
             [
              1,
              "#f0f921"
             ]
            ],
            "type": "contour"
           }
          ],
          "contourcarpet": [
           {
            "colorbar": {
             "outlinewidth": 0,
             "ticks": ""
            },
            "type": "contourcarpet"
           }
          ],
          "heatmap": [
           {
            "colorbar": {
             "outlinewidth": 0,
             "ticks": ""
            },
            "colorscale": [
             [
              0,
              "#0d0887"
             ],
             [
              0.1111111111111111,
              "#46039f"
             ],
             [
              0.2222222222222222,
              "#7201a8"
             ],
             [
              0.3333333333333333,
              "#9c179e"
             ],
             [
              0.4444444444444444,
              "#bd3786"
             ],
             [
              0.5555555555555556,
              "#d8576b"
             ],
             [
              0.6666666666666666,
              "#ed7953"
             ],
             [
              0.7777777777777778,
              "#fb9f3a"
             ],
             [
              0.8888888888888888,
              "#fdca26"
             ],
             [
              1,
              "#f0f921"
             ]
            ],
            "type": "heatmap"
           }
          ],
          "heatmapgl": [
           {
            "colorbar": {
             "outlinewidth": 0,
             "ticks": ""
            },
            "colorscale": [
             [
              0,
              "#0d0887"
             ],
             [
              0.1111111111111111,
              "#46039f"
             ],
             [
              0.2222222222222222,
              "#7201a8"
             ],
             [
              0.3333333333333333,
              "#9c179e"
             ],
             [
              0.4444444444444444,
              "#bd3786"
             ],
             [
              0.5555555555555556,
              "#d8576b"
             ],
             [
              0.6666666666666666,
              "#ed7953"
             ],
             [
              0.7777777777777778,
              "#fb9f3a"
             ],
             [
              0.8888888888888888,
              "#fdca26"
             ],
             [
              1,
              "#f0f921"
             ]
            ],
            "type": "heatmapgl"
           }
          ],
          "histogram": [
           {
            "marker": {
             "pattern": {
              "fillmode": "overlay",
              "size": 10,
              "solidity": 0.2
             }
            },
            "type": "histogram"
           }
          ],
          "histogram2d": [
           {
            "colorbar": {
             "outlinewidth": 0,
             "ticks": ""
            },
            "colorscale": [
             [
              0,
              "#0d0887"
             ],
             [
              0.1111111111111111,
              "#46039f"
             ],
             [
              0.2222222222222222,
              "#7201a8"
             ],
             [
              0.3333333333333333,
              "#9c179e"
             ],
             [
              0.4444444444444444,
              "#bd3786"
             ],
             [
              0.5555555555555556,
              "#d8576b"
             ],
             [
              0.6666666666666666,
              "#ed7953"
             ],
             [
              0.7777777777777778,
              "#fb9f3a"
             ],
             [
              0.8888888888888888,
              "#fdca26"
             ],
             [
              1,
              "#f0f921"
             ]
            ],
            "type": "histogram2d"
           }
          ],
          "histogram2dcontour": [
           {
            "colorbar": {
             "outlinewidth": 0,
             "ticks": ""
            },
            "colorscale": [
             [
              0,
              "#0d0887"
             ],
             [
              0.1111111111111111,
              "#46039f"
             ],
             [
              0.2222222222222222,
              "#7201a8"
             ],
             [
              0.3333333333333333,
              "#9c179e"
             ],
             [
              0.4444444444444444,
              "#bd3786"
             ],
             [
              0.5555555555555556,
              "#d8576b"
             ],
             [
              0.6666666666666666,
              "#ed7953"
             ],
             [
              0.7777777777777778,
              "#fb9f3a"
             ],
             [
              0.8888888888888888,
              "#fdca26"
             ],
             [
              1,
              "#f0f921"
             ]
            ],
            "type": "histogram2dcontour"
           }
          ],
          "mesh3d": [
           {
            "colorbar": {
             "outlinewidth": 0,
             "ticks": ""
            },
            "type": "mesh3d"
           }
          ],
          "parcoords": [
           {
            "line": {
             "colorbar": {
              "outlinewidth": 0,
              "ticks": ""
             }
            },
            "type": "parcoords"
           }
          ],
          "pie": [
           {
            "automargin": true,
            "type": "pie"
           }
          ],
          "scatter": [
           {
            "fillpattern": {
             "fillmode": "overlay",
             "size": 10,
             "solidity": 0.2
            },
            "type": "scatter"
           }
          ],
          "scatter3d": [
           {
            "line": {
             "colorbar": {
              "outlinewidth": 0,
              "ticks": ""
             }
            },
            "marker": {
             "colorbar": {
              "outlinewidth": 0,
              "ticks": ""
             }
            },
            "type": "scatter3d"
           }
          ],
          "scattercarpet": [
           {
            "marker": {
             "colorbar": {
              "outlinewidth": 0,
              "ticks": ""
             }
            },
            "type": "scattercarpet"
           }
          ],
          "scattergeo": [
           {
            "marker": {
             "colorbar": {
              "outlinewidth": 0,
              "ticks": ""
             }
            },
            "type": "scattergeo"
           }
          ],
          "scattergl": [
           {
            "marker": {
             "colorbar": {
              "outlinewidth": 0,
              "ticks": ""
             }
            },
            "type": "scattergl"
           }
          ],
          "scattermapbox": [
           {
            "marker": {
             "colorbar": {
              "outlinewidth": 0,
              "ticks": ""
             }
            },
            "type": "scattermapbox"
           }
          ],
          "scatterpolar": [
           {
            "marker": {
             "colorbar": {
              "outlinewidth": 0,
              "ticks": ""
             }
            },
            "type": "scatterpolar"
           }
          ],
          "scatterpolargl": [
           {
            "marker": {
             "colorbar": {
              "outlinewidth": 0,
              "ticks": ""
             }
            },
            "type": "scatterpolargl"
           }
          ],
          "scatterternary": [
           {
            "marker": {
             "colorbar": {
              "outlinewidth": 0,
              "ticks": ""
             }
            },
            "type": "scatterternary"
           }
          ],
          "surface": [
           {
            "colorbar": {
             "outlinewidth": 0,
             "ticks": ""
            },
            "colorscale": [
             [
              0,
              "#0d0887"
             ],
             [
              0.1111111111111111,
              "#46039f"
             ],
             [
              0.2222222222222222,
              "#7201a8"
             ],
             [
              0.3333333333333333,
              "#9c179e"
             ],
             [
              0.4444444444444444,
              "#bd3786"
             ],
             [
              0.5555555555555556,
              "#d8576b"
             ],
             [
              0.6666666666666666,
              "#ed7953"
             ],
             [
              0.7777777777777778,
              "#fb9f3a"
             ],
             [
              0.8888888888888888,
              "#fdca26"
             ],
             [
              1,
              "#f0f921"
             ]
            ],
            "type": "surface"
           }
          ],
          "table": [
           {
            "cells": {
             "fill": {
              "color": "#EBF0F8"
             },
             "line": {
              "color": "white"
             }
            },
            "header": {
             "fill": {
              "color": "#C8D4E3"
             },
             "line": {
              "color": "white"
             }
            },
            "type": "table"
           }
          ]
         },
         "layout": {
          "annotationdefaults": {
           "arrowcolor": "#2a3f5f",
           "arrowhead": 0,
           "arrowwidth": 1
          },
          "autotypenumbers": "strict",
          "coloraxis": {
           "colorbar": {
            "outlinewidth": 0,
            "ticks": ""
           }
          },
          "colorscale": {
           "diverging": [
            [
             0,
             "#8e0152"
            ],
            [
             0.1,
             "#c51b7d"
            ],
            [
             0.2,
             "#de77ae"
            ],
            [
             0.3,
             "#f1b6da"
            ],
            [
             0.4,
             "#fde0ef"
            ],
            [
             0.5,
             "#f7f7f7"
            ],
            [
             0.6,
             "#e6f5d0"
            ],
            [
             0.7,
             "#b8e186"
            ],
            [
             0.8,
             "#7fbc41"
            ],
            [
             0.9,
             "#4d9221"
            ],
            [
             1,
             "#276419"
            ]
           ],
           "sequential": [
            [
             0,
             "#0d0887"
            ],
            [
             0.1111111111111111,
             "#46039f"
            ],
            [
             0.2222222222222222,
             "#7201a8"
            ],
            [
             0.3333333333333333,
             "#9c179e"
            ],
            [
             0.4444444444444444,
             "#bd3786"
            ],
            [
             0.5555555555555556,
             "#d8576b"
            ],
            [
             0.6666666666666666,
             "#ed7953"
            ],
            [
             0.7777777777777778,
             "#fb9f3a"
            ],
            [
             0.8888888888888888,
             "#fdca26"
            ],
            [
             1,
             "#f0f921"
            ]
           ],
           "sequentialminus": [
            [
             0,
             "#0d0887"
            ],
            [
             0.1111111111111111,
             "#46039f"
            ],
            [
             0.2222222222222222,
             "#7201a8"
            ],
            [
             0.3333333333333333,
             "#9c179e"
            ],
            [
             0.4444444444444444,
             "#bd3786"
            ],
            [
             0.5555555555555556,
             "#d8576b"
            ],
            [
             0.6666666666666666,
             "#ed7953"
            ],
            [
             0.7777777777777778,
             "#fb9f3a"
            ],
            [
             0.8888888888888888,
             "#fdca26"
            ],
            [
             1,
             "#f0f921"
            ]
           ]
          },
          "colorway": [
           "#636efa",
           "#EF553B",
           "#00cc96",
           "#ab63fa",
           "#FFA15A",
           "#19d3f3",
           "#FF6692",
           "#B6E880",
           "#FF97FF",
           "#FECB52"
          ],
          "font": {
           "color": "#2a3f5f"
          },
          "geo": {
           "bgcolor": "white",
           "lakecolor": "white",
           "landcolor": "#E5ECF6",
           "showlakes": true,
           "showland": true,
           "subunitcolor": "white"
          },
          "hoverlabel": {
           "align": "left"
          },
          "hovermode": "closest",
          "mapbox": {
           "style": "light"
          },
          "paper_bgcolor": "white",
          "plot_bgcolor": "#E5ECF6",
          "polar": {
           "angularaxis": {
            "gridcolor": "white",
            "linecolor": "white",
            "ticks": ""
           },
           "bgcolor": "#E5ECF6",
           "radialaxis": {
            "gridcolor": "white",
            "linecolor": "white",
            "ticks": ""
           }
          },
          "scene": {
           "xaxis": {
            "backgroundcolor": "#E5ECF6",
            "gridcolor": "white",
            "gridwidth": 2,
            "linecolor": "white",
            "showbackground": true,
            "ticks": "",
            "zerolinecolor": "white"
           },
           "yaxis": {
            "backgroundcolor": "#E5ECF6",
            "gridcolor": "white",
            "gridwidth": 2,
            "linecolor": "white",
            "showbackground": true,
            "ticks": "",
            "zerolinecolor": "white"
           },
           "zaxis": {
            "backgroundcolor": "#E5ECF6",
            "gridcolor": "white",
            "gridwidth": 2,
            "linecolor": "white",
            "showbackground": true,
            "ticks": "",
            "zerolinecolor": "white"
           }
          },
          "shapedefaults": {
           "line": {
            "color": "#2a3f5f"
           }
          },
          "ternary": {
           "aaxis": {
            "gridcolor": "white",
            "linecolor": "white",
            "ticks": ""
           },
           "baxis": {
            "gridcolor": "white",
            "linecolor": "white",
            "ticks": ""
           },
           "bgcolor": "#E5ECF6",
           "caxis": {
            "gridcolor": "white",
            "linecolor": "white",
            "ticks": ""
           }
          },
          "title": {
           "x": 0.05
          },
          "xaxis": {
           "automargin": true,
           "gridcolor": "white",
           "linecolor": "white",
           "ticks": "",
           "title": {
            "standoff": 15
           },
           "zerolinecolor": "white",
           "zerolinewidth": 2
          },
          "yaxis": {
           "automargin": true,
           "gridcolor": "white",
           "linecolor": "white",
           "ticks": "",
           "title": {
            "standoff": 15
           },
           "zerolinecolor": "white",
           "zerolinewidth": 2
          }
         }
        },
        "title": {
         "text": "Correlation Heatmap (Key Features)"
        },
        "xaxis": {
         "dtick": 1,
         "gridcolor": "rgb(0, 0, 0)",
         "side": "top",
         "ticks": ""
        },
        "yaxis": {
         "dtick": 1,
         "ticks": "",
         "ticksuffix": "  "
        }
       }
      }
     },
     "metadata": {},
     "output_type": "display_data"
    }
   ],
   "source": [
    "\n",
    "import plotly.figure_factory as ff\n",
    "import numpy as np\n",
    "\n",
    "# Select only important numeric columns for attrition\n",
    "important_features = [\n",
    "    \"Age\", \"MonthlyIncome\", \"TotalWorkingYears\", \"YearsAtCompany\", \n",
    "    \"JobSatisfaction\", \"WorkLifeBalance\"\n",
    "]\n",
    "\n",
    "df_selected = df_cleaned[important_features]\n",
    "\n",
    "# Compute correlation matrix\n",
    "correlation_matrix = df_selected.corr()\n",
    "\n",
    "# Format numbers to 2 decimal places\n",
    "z_text = np.around(correlation_matrix.values, decimals=2).astype(str)\n",
    "\n",
    "# Create heatmap\n",
    "fig_corr = ff.create_annotated_heatmap(\n",
    "    z=correlation_matrix.values,\n",
    "    x=list(correlation_matrix.columns),\n",
    "    y=list(correlation_matrix.index),\n",
    "    annotation_text=z_text,  # Add formatted text\n",
    "    colorscale=\"Blues\",\n",
    "    showscale=True\n",
    ")\n",
    "\n",
    "# Set title\n",
    "fig_corr.update_layout(title_text=\"Correlation Heatmap (Key Features)\")\n",
    "\n",
    "# Show figure\n",
    "fig_corr.show()\n",
    "\n"
   ]
  },
  {
   "cell_type": "code",
   "execution_count": 35,
   "metadata": {},
   "outputs": [
    {
     "data": {
      "application/vnd.plotly.v1+json": {
       "config": {
        "plotlyServerURL": "https://plot.ly"
       },
       "data": [
        {
         "alignmentgroup": "True",
         "hovertemplate": "Attrition Status=%{x}<br>Monthly Income ($)=%{y}<extra></extra>",
         "legendgroup": "Yes",
         "marker": {
          "color": "#636EFA"
         },
         "name": "Yes",
         "notched": false,
         "offsetgroup": "Yes",
         "orientation": "v",
         "showlegend": true,
         "type": "box",
         "x": [
          "Yes",
          "Yes",
          "Yes",
          "Yes",
          "Yes",
          "Yes",
          "Yes",
          "Yes",
          "Yes",
          "Yes",
          "Yes",
          "Yes",
          "Yes",
          "Yes",
          "Yes",
          "Yes",
          "Yes",
          "Yes",
          "Yes",
          "Yes",
          "Yes",
          "Yes",
          "Yes",
          "Yes",
          "Yes",
          "Yes",
          "Yes",
          "Yes",
          "Yes",
          "Yes",
          "Yes",
          "Yes",
          "Yes",
          "Yes",
          "Yes",
          "Yes",
          "Yes",
          "Yes",
          "Yes",
          "Yes",
          "Yes",
          "Yes",
          "Yes",
          "Yes",
          "Yes",
          "Yes",
          "Yes",
          "Yes",
          "Yes",
          "Yes",
          "Yes",
          "Yes",
          "Yes",
          "Yes",
          "Yes",
          "Yes",
          "Yes",
          "Yes",
          "Yes",
          "Yes",
          "Yes",
          "Yes",
          "Yes",
          "Yes",
          "Yes",
          "Yes",
          "Yes",
          "Yes",
          "Yes",
          "Yes",
          "Yes",
          "Yes",
          "Yes",
          "Yes",
          "Yes",
          "Yes",
          "Yes",
          "Yes",
          "Yes",
          "Yes",
          "Yes",
          "Yes",
          "Yes",
          "Yes",
          "Yes",
          "Yes",
          "Yes",
          "Yes",
          "Yes",
          "Yes",
          "Yes",
          "Yes",
          "Yes",
          "Yes",
          "Yes",
          "Yes",
          "Yes",
          "Yes",
          "Yes",
          "Yes",
          "Yes",
          "Yes",
          "Yes",
          "Yes",
          "Yes",
          "Yes",
          "Yes",
          "Yes",
          "Yes",
          "Yes",
          "Yes",
          "Yes",
          "Yes",
          "Yes",
          "Yes",
          "Yes",
          "Yes",
          "Yes",
          "Yes",
          "Yes",
          "Yes",
          "Yes",
          "Yes",
          "Yes",
          "Yes",
          "Yes",
          "Yes",
          "Yes",
          "Yes",
          "Yes",
          "Yes",
          "Yes",
          "Yes",
          "Yes",
          "Yes",
          "Yes",
          "Yes",
          "Yes",
          "Yes",
          "Yes",
          "Yes",
          "Yes",
          "Yes",
          "Yes",
          "Yes",
          "Yes",
          "Yes",
          "Yes",
          "Yes",
          "Yes",
          "Yes",
          "Yes",
          "Yes",
          "Yes",
          "Yes",
          "Yes",
          "Yes",
          "Yes",
          "Yes",
          "Yes",
          "Yes",
          "Yes",
          "Yes",
          "Yes",
          "Yes",
          "Yes",
          "Yes",
          "Yes",
          "Yes",
          "Yes",
          "Yes",
          "Yes",
          "Yes",
          "Yes",
          "Yes",
          "Yes",
          "Yes",
          "Yes",
          "Yes",
          "Yes",
          "Yes",
          "Yes",
          "Yes",
          "Yes",
          "Yes",
          "Yes",
          "Yes",
          "Yes",
          "Yes",
          "Yes",
          "Yes",
          "Yes",
          "Yes",
          "Yes",
          "Yes",
          "Yes",
          "Yes",
          "Yes",
          "Yes",
          "Yes",
          "Yes",
          "Yes",
          "Yes",
          "Yes",
          "Yes",
          "Yes",
          "Yes",
          "Yes",
          "Yes",
          "Yes",
          "Yes",
          "Yes",
          "Yes",
          "Yes",
          "Yes",
          "Yes",
          "Yes",
          "Yes",
          "Yes",
          "Yes",
          "Yes",
          "Yes",
          "Yes",
          "Yes",
          "Yes",
          "Yes",
          "Yes",
          "Yes",
          "Yes",
          "Yes",
          "Yes",
          "Yes",
          "Yes",
          "Yes",
          "Yes",
          "Yes",
          "Yes"
         ],
         "x0": " ",
         "xaxis": "x",
         "y": [
          5993,
          2090,
          2028,
          3407,
          2960,
          3919,
          2086,
          2293,
          2683,
          2293,
          19545,
          5381,
          3441,
          3388,
          9619,
          2073,
          2926,
          5744,
          6074,
          4963,
          6172,
          10312,
          1675,
          4559,
          10650,
          4200,
          2325,
          1102,
          3140,
          5916,
          6673,
          7639,
          10400,
          2657,
          6696,
          2058,
          2389,
          2436,
          2707,
          3730,
          10048,
          3479,
          3485,
          11849,
          3161,
          2373,
          5828,
          1420,
          4941,
          3464,
          5238,
          2119,
          2174,
          2851,
          9355,
          6380,
          2716,
          5304,
          3102,
          2285,
          4031,
          3202,
          2351,
          2546,
          2564,
          13610,
          3408,
          9824,
          9950,
          3894,
          2741,
          1878,
          2340,
          4707,
          2886,
          2033,
          4233,
          3041,
          4286,
          1009,
          3348,
          4577,
          6796,
          2216,
          2759,
          2686,
          6397,
          19859,
          5326,
          1601,
          2319,
          5324,
          19246,
          4382,
          7654,
          5160,
          2366,
          2022,
          2800,
          2795,
          2380,
          2044,
          2693,
          4171,
          2778,
          2404,
          2413,
          2121,
          2973,
          10325,
          10609,
          2479,
          13194,
          2321,
          2404,
          2132,
          3743,
          2600,
          2422,
          4777,
          4969,
          19845,
          2743,
          4834,
          2042,
          2323,
          1416,
          2461,
          8722,
          10482,
          9582,
          4508,
          3691,
          2377,
          2313,
          2596,
          4728,
          12169,
          1904,
          8224,
          2610,
          7336,
          13758,
          2515,
          5346,
          2936,
          2853,
          2107,
          2210,
          1859,
          1118,
          18824,
          2625,
          7978,
          3339,
          4883,
          3904,
          9094,
          8446,
          2302,
          2362,
          10008,
          13695,
          2785,
          4614,
          6179,
          2394,
          4284,
          7553,
          1359,
          1261,
          4400,
          10096,
          3646,
          7446,
          3722,
          2742,
          2909,
          5765,
          4599,
          3172,
          2561,
          2362,
          2018,
          4084,
          9714,
          2074,
          10169,
          4855,
          2408,
          1569,
          10306,
          5440,
          2166,
          4581,
          3989,
          2655,
          1393,
          2275,
          1555,
          12936,
          6134,
          6735,
          2180,
          2760,
          8564,
          8161,
          2437,
          2679,
          2398,
          2342,
          5813,
          5346,
          4213,
          2148,
          8926,
          2956,
          2335,
          9907,
          2439,
          7314,
          1081,
          2472,
          2307,
          2587,
          1091,
          9854,
          2432,
          2863,
          2367,
          5617,
          10448,
          1790,
          4787,
          2339,
          6728,
          10854
         ],
         "y0": " ",
         "yaxis": "y"
        },
        {
         "alignmentgroup": "True",
         "hovertemplate": "Attrition Status=%{x}<br>Monthly Income ($)=%{y}<extra></extra>",
         "legendgroup": "No",
         "marker": {
          "color": "#EF553B"
         },
         "name": "No",
         "notched": false,
         "offsetgroup": "No",
         "orientation": "v",
         "showlegend": true,
         "type": "box",
         "x": [
          "No",
          "No",
          "No",
          "No",
          "No",
          "No",
          "No",
          "No",
          "No",
          "No",
          "No",
          "No",
          "No",
          "No",
          "No",
          "No",
          "No",
          "No",
          "No",
          "No",
          "No",
          "No",
          "No",
          "No",
          "No",
          "No",
          "No",
          "No",
          "No",
          "No",
          "No",
          "No",
          "No",
          "No",
          "No",
          "No",
          "No",
          "No",
          "No",
          "No",
          "No",
          "No",
          "No",
          "No",
          "No",
          "No",
          "No",
          "No",
          "No",
          "No",
          "No",
          "No",
          "No",
          "No",
          "No",
          "No",
          "No",
          "No",
          "No",
          "No",
          "No",
          "No",
          "No",
          "No",
          "No",
          "No",
          "No",
          "No",
          "No",
          "No",
          "No",
          "No",
          "No",
          "No",
          "No",
          "No",
          "No",
          "No",
          "No",
          "No",
          "No",
          "No",
          "No",
          "No",
          "No",
          "No",
          "No",
          "No",
          "No",
          "No",
          "No",
          "No",
          "No",
          "No",
          "No",
          "No",
          "No",
          "No",
          "No",
          "No",
          "No",
          "No",
          "No",
          "No",
          "No",
          "No",
          "No",
          "No",
          "No",
          "No",
          "No",
          "No",
          "No",
          "No",
          "No",
          "No",
          "No",
          "No",
          "No",
          "No",
          "No",
          "No",
          "No",
          "No",
          "No",
          "No",
          "No",
          "No",
          "No",
          "No",
          "No",
          "No",
          "No",
          "No",
          "No",
          "No",
          "No",
          "No",
          "No",
          "No",
          "No",
          "No",
          "No",
          "No",
          "No",
          "No",
          "No",
          "No",
          "No",
          "No",
          "No",
          "No",
          "No",
          "No",
          "No",
          "No",
          "No",
          "No",
          "No",
          "No",
          "No",
          "No",
          "No",
          "No",
          "No",
          "No",
          "No",
          "No",
          "No",
          "No",
          "No",
          "No",
          "No",
          "No",
          "No",
          "No",
          "No",
          "No",
          "No",
          "No",
          "No",
          "No",
          "No",
          "No",
          "No",
          "No",
          "No",
          "No",
          "No",
          "No",
          "No",
          "No",
          "No",
          "No",
          "No",
          "No",
          "No",
          "No",
          "No",
          "No",
          "No",
          "No",
          "No",
          "No",
          "No",
          "No",
          "No",
          "No",
          "No",
          "No",
          "No",
          "No",
          "No",
          "No",
          "No",
          "No",
          "No",
          "No",
          "No",
          "No",
          "No",
          "No",
          "No",
          "No",
          "No",
          "No",
          "No",
          "No",
          "No",
          "No",
          "No",
          "No",
          "No",
          "No",
          "No",
          "No",
          "No",
          "No",
          "No",
          "No",
          "No",
          "No",
          "No",
          "No",
          "No",
          "No",
          "No",
          "No",
          "No",
          "No",
          "No",
          "No",
          "No",
          "No",
          "No",
          "No",
          "No",
          "No",
          "No",
          "No",
          "No",
          "No",
          "No",
          "No",
          "No",
          "No",
          "No",
          "No",
          "No",
          "No",
          "No",
          "No",
          "No",
          "No",
          "No",
          "No",
          "No",
          "No",
          "No",
          "No",
          "No",
          "No",
          "No",
          "No",
          "No",
          "No",
          "No",
          "No",
          "No",
          "No",
          "No",
          "No",
          "No",
          "No",
          "No",
          "No",
          "No",
          "No",
          "No",
          "No",
          "No",
          "No",
          "No",
          "No",
          "No",
          "No",
          "No",
          "No",
          "No",
          "No",
          "No",
          "No",
          "No",
          "No",
          "No",
          "No",
          "No",
          "No",
          "No",
          "No",
          "No",
          "No",
          "No",
          "No",
          "No",
          "No",
          "No",
          "No",
          "No",
          "No",
          "No",
          "No",
          "No",
          "No",
          "No",
          "No",
          "No",
          "No",
          "No",
          "No",
          "No",
          "No",
          "No",
          "No",
          "No",
          "No",
          "No",
          "No",
          "No",
          "No",
          "No",
          "No",
          "No",
          "No",
          "No",
          "No",
          "No",
          "No",
          "No",
          "No",
          "No",
          "No",
          "No",
          "No",
          "No",
          "No",
          "No",
          "No",
          "No",
          "No",
          "No",
          "No",
          "No",
          "No",
          "No",
          "No",
          "No",
          "No",
          "No",
          "No",
          "No",
          "No",
          "No",
          "No",
          "No",
          "No",
          "No",
          "No",
          "No",
          "No",
          "No",
          "No",
          "No",
          "No",
          "No",
          "No",
          "No",
          "No",
          "No",
          "No",
          "No",
          "No",
          "No",
          "No",
          "No",
          "No",
          "No",
          "No",
          "No",
          "No",
          "No",
          "No",
          "No",
          "No",
          "No",
          "No",
          "No",
          "No",
          "No",
          "No",
          "No",
          "No",
          "No",
          "No",
          "No",
          "No",
          "No",
          "No",
          "No",
          "No",
          "No",
          "No",
          "No",
          "No",
          "No",
          "No",
          "No",
          "No",
          "No",
          "No",
          "No",
          "No",
          "No",
          "No",
          "No",
          "No",
          "No",
          "No",
          "No",
          "No",
          "No",
          "No",
          "No",
          "No",
          "No",
          "No",
          "No",
          "No",
          "No",
          "No",
          "No",
          "No",
          "No",
          "No",
          "No",
          "No",
          "No",
          "No",
          "No",
          "No",
          "No",
          "No",
          "No",
          "No",
          "No",
          "No",
          "No",
          "No",
          "No",
          "No",
          "No",
          "No",
          "No",
          "No",
          "No",
          "No",
          "No",
          "No",
          "No",
          "No",
          "No",
          "No",
          "No",
          "No",
          "No",
          "No",
          "No",
          "No",
          "No",
          "No",
          "No",
          "No",
          "No",
          "No",
          "No",
          "No",
          "No",
          "No",
          "No",
          "No",
          "No",
          "No",
          "No",
          "No",
          "No",
          "No",
          "No",
          "No",
          "No",
          "No",
          "No",
          "No",
          "No",
          "No",
          "No",
          "No",
          "No",
          "No",
          "No",
          "No",
          "No",
          "No",
          "No",
          "No",
          "No",
          "No",
          "No",
          "No",
          "No",
          "No",
          "No",
          "No",
          "No",
          "No",
          "No",
          "No",
          "No",
          "No",
          "No",
          "No",
          "No",
          "No",
          "No",
          "No",
          "No",
          "No",
          "No",
          "No",
          "No",
          "No",
          "No",
          "No",
          "No",
          "No",
          "No",
          "No",
          "No",
          "No",
          "No",
          "No",
          "No",
          "No",
          "No",
          "No",
          "No",
          "No",
          "No",
          "No",
          "No",
          "No",
          "No",
          "No",
          "No",
          "No",
          "No",
          "No",
          "No",
          "No",
          "No",
          "No",
          "No",
          "No",
          "No",
          "No",
          "No",
          "No",
          "No",
          "No",
          "No",
          "No",
          "No",
          "No",
          "No",
          "No",
          "No",
          "No",
          "No",
          "No",
          "No",
          "No",
          "No",
          "No",
          "No",
          "No",
          "No",
          "No",
          "No",
          "No",
          "No",
          "No",
          "No",
          "No",
          "No",
          "No",
          "No",
          "No",
          "No",
          "No",
          "No",
          "No",
          "No",
          "No",
          "No",
          "No",
          "No",
          "No",
          "No",
          "No",
          "No",
          "No",
          "No",
          "No",
          "No",
          "No",
          "No",
          "No",
          "No",
          "No",
          "No",
          "No",
          "No",
          "No",
          "No",
          "No",
          "No",
          "No",
          "No",
          "No",
          "No",
          "No",
          "No",
          "No",
          "No",
          "No",
          "No",
          "No",
          "No",
          "No",
          "No",
          "No",
          "No",
          "No",
          "No",
          "No",
          "No",
          "No",
          "No",
          "No",
          "No",
          "No",
          "No",
          "No",
          "No",
          "No",
          "No",
          "No",
          "No",
          "No",
          "No",
          "No",
          "No",
          "No",
          "No",
          "No",
          "No",
          "No",
          "No",
          "No",
          "No",
          "No",
          "No",
          "No",
          "No",
          "No",
          "No",
          "No",
          "No",
          "No",
          "No",
          "No",
          "No",
          "No",
          "No",
          "No",
          "No",
          "No",
          "No",
          "No",
          "No",
          "No",
          "No",
          "No",
          "No",
          "No",
          "No",
          "No",
          "No",
          "No",
          "No",
          "No",
          "No",
          "No",
          "No",
          "No",
          "No",
          "No",
          "No",
          "No",
          "No",
          "No",
          "No",
          "No",
          "No",
          "No",
          "No",
          "No",
          "No",
          "No",
          "No",
          "No",
          "No",
          "No",
          "No",
          "No",
          "No",
          "No",
          "No",
          "No",
          "No",
          "No",
          "No",
          "No",
          "No",
          "No",
          "No",
          "No",
          "No",
          "No",
          "No",
          "No",
          "No",
          "No",
          "No",
          "No",
          "No",
          "No",
          "No",
          "No",
          "No",
          "No",
          "No",
          "No",
          "No",
          "No",
          "No",
          "No",
          "No",
          "No",
          "No",
          "No",
          "No",
          "No",
          "No",
          "No",
          "No",
          "No",
          "No",
          "No",
          "No",
          "No",
          "No",
          "No",
          "No",
          "No",
          "No",
          "No",
          "No",
          "No",
          "No",
          "No",
          "No",
          "No",
          "No",
          "No",
          "No",
          "No",
          "No",
          "No",
          "No",
          "No",
          "No",
          "No",
          "No",
          "No",
          "No",
          "No",
          "No",
          "No",
          "No",
          "No",
          "No",
          "No",
          "No",
          "No",
          "No",
          "No",
          "No",
          "No",
          "No",
          "No",
          "No",
          "No",
          "No",
          "No",
          "No",
          "No",
          "No",
          "No",
          "No",
          "No",
          "No",
          "No",
          "No",
          "No",
          "No",
          "No",
          "No",
          "No",
          "No",
          "No",
          "No",
          "No",
          "No",
          "No",
          "No",
          "No",
          "No",
          "No",
          "No",
          "No",
          "No",
          "No",
          "No",
          "No",
          "No",
          "No",
          "No",
          "No",
          "No",
          "No",
          "No",
          "No",
          "No",
          "No",
          "No",
          "No",
          "No",
          "No",
          "No",
          "No",
          "No",
          "No",
          "No",
          "No",
          "No",
          "No",
          "No",
          "No",
          "No",
          "No",
          "No",
          "No",
          "No",
          "No",
          "No",
          "No",
          "No",
          "No",
          "No",
          "No",
          "No",
          "No",
          "No",
          "No",
          "No",
          "No",
          "No",
          "No",
          "No",
          "No",
          "No",
          "No",
          "No",
          "No",
          "No",
          "No",
          "No",
          "No",
          "No",
          "No",
          "No",
          "No",
          "No",
          "No",
          "No",
          "No",
          "No",
          "No",
          "No",
          "No",
          "No",
          "No",
          "No",
          "No",
          "No",
          "No",
          "No",
          "No",
          "No",
          "No",
          "No",
          "No",
          "No",
          "No",
          "No",
          "No",
          "No",
          "No",
          "No",
          "No",
          "No",
          "No",
          "No",
          "No",
          "No",
          "No",
          "No",
          "No",
          "No",
          "No",
          "No",
          "No",
          "No",
          "No",
          "No",
          "No",
          "No",
          "No",
          "No",
          "No",
          "No",
          "No",
          "No",
          "No",
          "No",
          "No",
          "No",
          "No",
          "No",
          "No",
          "No",
          "No",
          "No",
          "No",
          "No",
          "No",
          "No",
          "No",
          "No",
          "No",
          "No",
          "No",
          "No",
          "No",
          "No",
          "No",
          "No",
          "No",
          "No",
          "No",
          "No",
          "No",
          "No",
          "No",
          "No",
          "No",
          "No",
          "No",
          "No",
          "No",
          "No",
          "No",
          "No",
          "No",
          "No",
          "No",
          "No",
          "No",
          "No",
          "No",
          "No",
          "No",
          "No",
          "No",
          "No",
          "No",
          "No",
          "No",
          "No",
          "No",
          "No",
          "No",
          "No",
          "No",
          "No",
          "No",
          "No",
          "No",
          "No",
          "No",
          "No",
          "No",
          "No",
          "No",
          "No",
          "No",
          "No",
          "No",
          "No",
          "No",
          "No",
          "No",
          "No",
          "No",
          "No",
          "No",
          "No",
          "No",
          "No",
          "No",
          "No",
          "No",
          "No",
          "No",
          "No",
          "No",
          "No",
          "No",
          "No",
          "No",
          "No",
          "No",
          "No",
          "No",
          "No",
          "No",
          "No",
          "No",
          "No",
          "No",
          "No",
          "No",
          "No",
          "No",
          "No",
          "No",
          "No",
          "No",
          "No",
          "No",
          "No",
          "No",
          "No",
          "No",
          "No",
          "No",
          "No",
          "No",
          "No",
          "No",
          "No",
          "No",
          "No",
          "No",
          "No",
          "No",
          "No",
          "No",
          "No",
          "No",
          "No",
          "No",
          "No",
          "No",
          "No",
          "No",
          "No",
          "No",
          "No",
          "No",
          "No",
          "No",
          "No",
          "No",
          "No",
          "No",
          "No",
          "No",
          "No",
          "No",
          "No",
          "No",
          "No",
          "No",
          "No",
          "No",
          "No",
          "No",
          "No",
          "No",
          "No",
          "No",
          "No",
          "No",
          "No",
          "No",
          "No",
          "No",
          "No",
          "No",
          "No",
          "No",
          "No",
          "No",
          "No",
          "No",
          "No",
          "No",
          "No",
          "No",
          "No",
          "No",
          "No",
          "No",
          "No",
          "No",
          "No",
          "No",
          "No",
          "No",
          "No",
          "No",
          "No",
          "No",
          "No",
          "No",
          "No",
          "No",
          "No",
          "No",
          "No",
          "No",
          "No",
          "No",
          "No",
          "No",
          "No",
          "No",
          "No",
          "No",
          "No",
          "No",
          "No",
          "No",
          "No",
          "No",
          "No",
          "No",
          "No",
          "No",
          "No",
          "No",
          "No",
          "No",
          "No",
          "No",
          "No",
          "No",
          "No",
          "No",
          "No",
          "No",
          "No",
          "No",
          "No",
          "No",
          "No",
          "No",
          "No",
          "No",
          "No",
          "No",
          "No"
         ],
         "x0": " ",
         "xaxis": "x",
         "y": [
          5130,
          2909,
          3468,
          3068,
          2670,
          2693,
          9526,
          5237,
          2426,
          4193,
          2911,
          2661,
          9980,
          3298,
          2935,
          15427,
          3944,
          4011,
          11994,
          1232,
          19094,
          6825,
          10248,
          18947,
          2496,
          6465,
          2206,
          2645,
          2014,
          3419,
          5376,
          1951,
          2341,
          8726,
          4011,
          4568,
          3022,
          5772,
          2269,
          5454,
          9884,
          4157,
          13458,
          9069,
          4014,
          5915,
          5993,
          6162,
          2406,
          18740,
          7637,
          10096,
          14756,
          6499,
          9724,
          2194,
          5473,
          2703,
          2501,
          6220,
          3038,
          4424,
          4312,
          13245,
          13664,
          5021,
          5126,
          2859,
          10239,
          5329,
          4325,
          7260,
          2322,
          2075,
          4152,
          13503,
          5441,
          5209,
          10673,
          5010,
          13549,
          4999,
          4221,
          13872,
          2042,
          2956,
          4809,
          5163,
          18844,
          18172,
          2889,
          2871,
          7484,
          17328,
          2774,
          4505,
          7428,
          11631,
          9738,
          2835,
          16959,
          2613,
          6146,
          19537,
          2368,
          2523,
          6567,
          4739,
          9208,
          8189,
          2942,
          4941,
          5902,
          8639,
          6347,
          3452,
          4317,
          2632,
          4668,
          3204,
          2720,
          17181,
          2238,
          1483,
          5605,
          7295,
          2306,
          2348,
          8998,
          4319,
          6132,
          3346,
          10855,
          2231,
          2323,
          2024,
          2713,
          9439,
          2566,
          19926,
          2451,
          9419,
          8686,
          3038,
          3058,
          2088,
          3072,
          5006,
          4257,
          2500,
          10453,
          2288,
          3929,
          2311,
          3690,
          4450,
          2756,
          19033,
          18722,
          9547,
          13734,
          19999,
          2279,
          2089,
          16792,
          3564,
          4425,
          5265,
          6553,
          6261,
          4298,
          6804,
          3815,
          2741,
          2328,
          2153,
          4876,
          9396,
          8474,
          9981,
          12490,
          13591,
          8865,
          5940,
          5914,
          2622,
          12185,
          10609,
          4345,
          2177,
          2793,
          7918,
          8789,
          3212,
          19232,
          2267,
          19517,
          16064,
          19068,
          3931,
          2232,
          4465,
          3072,
          3319,
          19202,
          13675,
          2911,
          5957,
          3920,
          6434,
          10938,
          2340,
          6545,
          6931,
          4898,
          2593,
          19436,
          2723,
          2794,
          5249,
          2176,
          16872,
          6644,
          5582,
          4000,
          13496,
          3210,
          19045,
          2070,
          6502,
          3230,
          13603,
          11996,
          5605,
          6397,
          19144,
          17584,
          4907,
          4554,
          5415,
          4741,
          2115,
          5745,
          3310,
          18665,
          4485,
          2789,
          2326,
          13525,
          8020,
          3688,
          5482,
          16015,
          1200,
          5661,
          6929,
          9613,
          5674,
          5484,
          12061,
          5660,
          4821,
          6410,
          5210,
          2695,
          11878,
          17068,
          2455,
          13964,
          2478,
          5228,
          4478,
          7547,
          5055,
          5775,
          8943,
          19272,
          4682,
          18300,
          5257,
          6349,
          4869,
          9985,
          3697,
          7457,
          3983,
          6118,
          6214,
          6347,
          11510,
          7143,
          8268,
          8095,
          2904,
          6032,
          2976,
          15992,
          4649,
          2696,
          2370,
          12504,
          5974,
          4736,
          5296,
          6781,
          6653,
          9699,
          6755,
          2213,
          2610,
          3452,
          5258,
          10496,
          2657,
          2201,
          6540,
          3816,
          5253,
          10965,
          4936,
          2543,
          16659,
          4260,
          2476,
          2244,
          7596,
          3034,
          5715,
          2576,
          4197,
          14336,
          3448,
          19406,
          6538,
          4306,
          2258,
          4522,
          4487,
          4449,
          2218,
          19197,
          13212,
          6577,
          8392,
          4558,
          7969,
          2654,
          16555,
          4556,
          6091,
          19566,
          4810,
          4523,
          1702,
          18041,
          2886,
          2097,
          11935,
          8412,
          14118,
          17046,
          2564,
          10266,
          5070,
          17861,
          4230,
          3780,
          2768,
          9071,
          10648,
          2983,
          7632,
          2093,
          9980,
          4051,
          16835,
          6230,
          4717,
          13237,
          3755,
          6582,
          7406,
          4805,
          4262,
          16184,
          11557,
          10932,
          6811,
          4306,
          4859,
          5337,
          7491,
          10527,
          16595,
          8834,
          5577,
          2400,
          9824,
          6447,
          19502,
          2725,
          6272,
          2127,
          18200,
          2096,
          3622,
          3681,
          5460,
          2187,
          9602,
          2836,
          4089,
          16627,
          2619,
          5679,
          15402,
          5985,
          2579,
          3447,
          19513,
          2773,
          7104,
          6322,
          2083,
          8381,
          2691,
          2659,
          9434,
          5561,
          6646,
          7725,
          10725,
          8847,
          2045,
          1281,
          2819,
          4851,
          4028,
          2720,
          8120,
          4647,
          4680,
          3221,
          8621,
          4553,
          5396,
          7625,
          7412,
          11159,
          4960,
          10475,
          14814,
          19141,
          5405,
          8793,
          19189,
          3875,
          11713,
          7861,
          3708,
          13770,
          5304,
          2642,
          6804,
          6142,
          2500,
          6389,
          11103,
          2342,
          6811,
          2297,
          2450,
          5093,
          5309,
          3057,
          5121,
          16856,
          6180,
          6632,
          3505,
          6274,
          7587,
          4258,
          4364,
          4335,
          3280,
          5485,
          4342,
          2782,
          5980,
          4381,
          2572,
          3833,
          4244,
          6500,
          18430,
          2694,
          3149,
          17639,
          11691,
          16752,
          5228,
          2700,
          2506,
          6062,
          2143,
          6162,
          5094,
          6877,
          2274,
          4434,
          6288,
          2553,
          17159,
          12808,
          10221,
          4779,
          3737,
          1706,
          16307,
          5933,
          3424,
          4037,
          2559,
          6201,
          4403,
          3761,
          10934,
          10761,
          5175,
          13826,
          6334,
          4936,
          4775,
          2818,
          2515,
          2342,
          4194,
          10685,
          2314,
          4256,
          3580,
          3162,
          6524,
          2899,
          5231,
          2356,
          11836,
          10903,
          2973,
          14275,
          5562,
          4537,
          7642,
          17924,
          5204,
          2277,
          2532,
          2559,
          4908,
          4765,
          6586,
          3294,
          2377,
          2318,
          2008,
          6244,
          2799,
          10552,
          2329,
          4014,
          7403,
          2259,
          6932,
          4678,
          13582,
          2332,
          9705,
          4294,
          4721,
          2519,
          5855,
          3617,
          6725,
          6949,
          4447,
          2157,
          4601,
          17099,
          14852,
          7264,
          5666,
          7823,
          7880,
          5067,
          5079,
          17444,
          3452,
          2270,
          17399,
          5488,
          19419,
          2811,
          3633,
          4163,
          13973,
          2684,
          10845,
          4377,
          4148,
          1051,
          10739,
          10388,
          11416,
          5472,
          2451,
          4240,
          10999,
          5003,
          12742,
          4227,
          3917,
          18303,
          2380,
          13726,
          6385,
          19973,
          6861,
          13320,
          6347,
          10880,
          2342,
          17650,
          4025,
          9725,
          11904,
          2177,
          7525,
          2220,
          1052,
          2821,
          19237,
          4107,
          8396,
          2007,
          19627,
          10686,
          2942,
          8858,
          16756,
          10798,
          4615,
          3955,
          9957,
          3376,
          8823,
          10322,
          4621,
          10976,
          3660,
          7119,
          2207,
          7756,
          6694,
          17665,
          4302,
          2979,
          16885,
          5593,
          10445,
          8740,
          2514,
          7655,
          17465,
          7351,
          10820,
          19626,
          2070,
          6782,
          7779,
          2791,
          3201,
          4968,
          13120,
          4033,
          3291,
          4272,
          5056,
          2844,
          2703,
          4766,
          5731,
          2539,
          5714,
          4323,
          13499,
          5155,
          2258,
          3597,
          4420,
          6578,
          4422,
          10274,
          5343,
          2376,
          2827,
          19943,
          3131,
          2552,
          4477,
          6474,
          3033,
          18606,
          2168,
          17048,
          2290,
          3600,
          4115,
          4327,
          17856,
          3196,
          19081,
          8966,
          4539,
          2741,
          3491,
          4541,
          2678,
          7379,
          6272,
          5220,
          2743,
          4998,
          10252,
          2781,
          6852,
          4950,
          3579,
          13191,
          10377,
          2235,
          10502,
          2011,
          3760,
          17779,
          6833,
          6812,
          5171,
          19740,
          18711,
          3692,
          2559,
          2517,
          6623,
          18265,
          16124,
          2585,
          18213,
          8380,
          2994,
          1223,
          2875,
          13577,
          18789,
          4538,
          19847,
          10512,
          4444,
          2154,
          19190,
          4490,
          3506,
          2372,
          10231,
          5410,
          3867,
          2838,
          4695,
          2080,
          2096,
          6209,
          18061,
          17123,
          2372,
          4627,
          7094,
          3423,
          6674,
          16880,
          11916,
          4534,
          9852,
          6151,
          17861,
          19187,
          19717,
          3544,
          8500,
          4661,
          4103,
          4249,
          14026,
          6893,
          6125,
          3669,
          2387,
          4639,
          7898,
          2534,
          13142,
          1611,
          5363,
          5071,
          13402,
          2029,
          6377,
          5429,
          2610,
          6687,
          4724,
          6120,
          10596,
          5467,
          2996,
          9998,
          4078,
          10920,
          6232,
          13247,
          4081,
          5769,
          3904,
          16799,
          2950,
          3629,
          9362,
          3229,
          3578,
          7988,
          17328,
          19701,
          14732,
          9278,
          4779,
          16422,
          2996,
          2099,
          5810,
          5647,
          3420,
          3500,
          2066,
          17169,
          4162,
          9204,
          3294,
          2127,
          3975,
          10793,
          10851,
          2109,
          9380,
          5486,
          13757,
          8463,
          3162,
          16598,
          6651,
          2345,
          3420,
          4373,
          4759,
          5301,
          3673,
          4768,
          1274,
          4900,
          10466,
          17007,
          2404,
          2033,
          10209,
          8620,
          2064,
          4035,
          3838,
          4591,
          1563,
          4898,
          4789,
          3180,
          6549,
          6388,
          11244,
          16032,
          16328,
          8376,
          16606,
          8606,
          2272,
          7083,
          14411,
          2308,
          4841,
          4285,
          9715,
          4320,
          2132,
          10124,
          5473,
          5207,
          16437,
          2296,
          4069,
          7441,
          2430,
          5878,
          2644,
          6439,
          2451,
          6392,
          6077,
          2450,
          9250,
          4087,
          2367,
          2972,
          19586,
          5484,
          2061,
          9924,
          4198,
          6815,
          4723,
          6142,
          8237,
          8853,
          19331,
          2073,
          5562,
          19613,
          3407,
          5063,
          4639,
          4876,
          2690,
          17567,
          2814,
          11245,
          3312,
          19049,
          2141,
          5769,
          4385,
          5332,
          4663,
          4724,
          3211,
          5377,
          4066,
          5208,
          4877,
          3117,
          19658,
          3069,
          10435,
          4148,
          5768,
          5042,
          5770,
          7756,
          3936,
          7945,
          5743,
          15202,
          3760,
          3517,
          2580,
          5869,
          8008,
          5206,
          5295,
          16413,
          13269,
          2783,
          5433,
          2013,
          13966,
          4374,
          6842,
          17426,
          17603,
          4735,
          4187,
          5505,
          5470,
          5476,
          2587,
          2440,
          15972,
          15379,
          7082,
          2728,
          5368,
          5347,
          3195,
          3306,
          7005,
          2570,
          3537,
          3986,
          10883,
          2028,
          9525,
          2929,
          7879,
          4930,
          7847,
          4401,
          9241,
          2974,
          4502,
          10748,
          2305,
          16704,
          3433,
          3477,
          6430,
          6516,
          3907,
          5562,
          6883,
          2862,
          4978,
          10368,
          3295,
          5238,
          6472,
          9610,
          19833,
          9756,
          4968,
          2145,
          8346,
          3445,
          6294,
          7140,
          2932,
          5147,
          4507,
          2468,
          2109,
          5294,
          2718,
          5811,
          2766,
          19038,
          3055,
          2289,
          4001,
          12965,
          3539,
          6029,
          3702,
          5468,
          13116,
          4189,
          19328,
          8321,
          4071,
          3143,
          2044,
          13464,
          7991,
          3377,
          5538,
          5762,
          2592,
          4127,
          2438,
          6870,
          10447,
          9667,
          6513,
          6799,
          16291,
          2705,
          10333,
          4448,
          6854,
          9637,
          3591,
          5405,
          4684,
          15787,
          1514,
          5154,
          6962,
          5675,
          2379,
          3812,
          4648,
          2936,
          2105,
          8578,
          2706,
          6384,
          3968,
          13225,
          3540,
          2804,
          19392,
          19665,
          4774,
          3902,
          2662,
          2856,
          5673,
          4197,
          9713,
          2062,
          4284,
          4788,
          5906,
          3886,
          16823,
          2933,
          6500,
          17174,
          5033,
          5507,
          4393,
          13348,
          6583,
          8103,
          3978,
          2544,
          5399,
          5487,
          6834,
          5736,
          2226,
          5747,
          5467,
          5380,
          5151,
          2133,
          17875,
          4771,
          19161,
          5087,
          5561,
          2144,
          3065,
          2810,
          9888,
          8628,
          2867,
          5373,
          6667,
          5003,
          2858,
          5204,
          4105,
          9679,
          2897,
          5968,
          7510,
          2991,
          19636,
          1129,
          13341,
          4332,
          11031,
          4440,
          4617,
          2647,
          6323,
          5677,
          2187,
          3748,
          3977,
          8633,
          2008,
          4440,
          3067,
          5321,
          5410,
          2782,
          11957,
          2660,
          3375,
          5098,
          4878,
          2837,
          2406,
          2269,
          4108,
          13206,
          10422,
          13744,
          4907,
          3482,
          2436,
          2380,
          19431,
          7644,
          5131,
          6306,
          18880,
          13570,
          6712,
          5406,
          8938,
          2439,
          8837,
          5343,
          6652,
          4850,
          2809,
          5689,
          2001,
          2977,
          4025,
          3785,
          12031,
          9936,
          2966,
          2571,
          9991,
          6142,
          5390,
          4404
         ],
         "y0": " ",
         "yaxis": "y"
        }
       ],
       "layout": {
        "boxmode": "overlay",
        "legend": {
         "title": {
          "text": "Attrition Status"
         },
         "tracegroupgap": 0
        },
        "template": {
         "data": {
          "bar": [
           {
            "error_x": {
             "color": "#2a3f5f"
            },
            "error_y": {
             "color": "#2a3f5f"
            },
            "marker": {
             "line": {
              "color": "#E5ECF6",
              "width": 0.5
             },
             "pattern": {
              "fillmode": "overlay",
              "size": 10,
              "solidity": 0.2
             }
            },
            "type": "bar"
           }
          ],
          "barpolar": [
           {
            "marker": {
             "line": {
              "color": "#E5ECF6",
              "width": 0.5
             },
             "pattern": {
              "fillmode": "overlay",
              "size": 10,
              "solidity": 0.2
             }
            },
            "type": "barpolar"
           }
          ],
          "carpet": [
           {
            "aaxis": {
             "endlinecolor": "#2a3f5f",
             "gridcolor": "white",
             "linecolor": "white",
             "minorgridcolor": "white",
             "startlinecolor": "#2a3f5f"
            },
            "baxis": {
             "endlinecolor": "#2a3f5f",
             "gridcolor": "white",
             "linecolor": "white",
             "minorgridcolor": "white",
             "startlinecolor": "#2a3f5f"
            },
            "type": "carpet"
           }
          ],
          "choropleth": [
           {
            "colorbar": {
             "outlinewidth": 0,
             "ticks": ""
            },
            "type": "choropleth"
           }
          ],
          "contour": [
           {
            "colorbar": {
             "outlinewidth": 0,
             "ticks": ""
            },
            "colorscale": [
             [
              0,
              "#0d0887"
             ],
             [
              0.1111111111111111,
              "#46039f"
             ],
             [
              0.2222222222222222,
              "#7201a8"
             ],
             [
              0.3333333333333333,
              "#9c179e"
             ],
             [
              0.4444444444444444,
              "#bd3786"
             ],
             [
              0.5555555555555556,
              "#d8576b"
             ],
             [
              0.6666666666666666,
              "#ed7953"
             ],
             [
              0.7777777777777778,
              "#fb9f3a"
             ],
             [
              0.8888888888888888,
              "#fdca26"
             ],
             [
              1,
              "#f0f921"
             ]
            ],
            "type": "contour"
           }
          ],
          "contourcarpet": [
           {
            "colorbar": {
             "outlinewidth": 0,
             "ticks": ""
            },
            "type": "contourcarpet"
           }
          ],
          "heatmap": [
           {
            "colorbar": {
             "outlinewidth": 0,
             "ticks": ""
            },
            "colorscale": [
             [
              0,
              "#0d0887"
             ],
             [
              0.1111111111111111,
              "#46039f"
             ],
             [
              0.2222222222222222,
              "#7201a8"
             ],
             [
              0.3333333333333333,
              "#9c179e"
             ],
             [
              0.4444444444444444,
              "#bd3786"
             ],
             [
              0.5555555555555556,
              "#d8576b"
             ],
             [
              0.6666666666666666,
              "#ed7953"
             ],
             [
              0.7777777777777778,
              "#fb9f3a"
             ],
             [
              0.8888888888888888,
              "#fdca26"
             ],
             [
              1,
              "#f0f921"
             ]
            ],
            "type": "heatmap"
           }
          ],
          "heatmapgl": [
           {
            "colorbar": {
             "outlinewidth": 0,
             "ticks": ""
            },
            "colorscale": [
             [
              0,
              "#0d0887"
             ],
             [
              0.1111111111111111,
              "#46039f"
             ],
             [
              0.2222222222222222,
              "#7201a8"
             ],
             [
              0.3333333333333333,
              "#9c179e"
             ],
             [
              0.4444444444444444,
              "#bd3786"
             ],
             [
              0.5555555555555556,
              "#d8576b"
             ],
             [
              0.6666666666666666,
              "#ed7953"
             ],
             [
              0.7777777777777778,
              "#fb9f3a"
             ],
             [
              0.8888888888888888,
              "#fdca26"
             ],
             [
              1,
              "#f0f921"
             ]
            ],
            "type": "heatmapgl"
           }
          ],
          "histogram": [
           {
            "marker": {
             "pattern": {
              "fillmode": "overlay",
              "size": 10,
              "solidity": 0.2
             }
            },
            "type": "histogram"
           }
          ],
          "histogram2d": [
           {
            "colorbar": {
             "outlinewidth": 0,
             "ticks": ""
            },
            "colorscale": [
             [
              0,
              "#0d0887"
             ],
             [
              0.1111111111111111,
              "#46039f"
             ],
             [
              0.2222222222222222,
              "#7201a8"
             ],
             [
              0.3333333333333333,
              "#9c179e"
             ],
             [
              0.4444444444444444,
              "#bd3786"
             ],
             [
              0.5555555555555556,
              "#d8576b"
             ],
             [
              0.6666666666666666,
              "#ed7953"
             ],
             [
              0.7777777777777778,
              "#fb9f3a"
             ],
             [
              0.8888888888888888,
              "#fdca26"
             ],
             [
              1,
              "#f0f921"
             ]
            ],
            "type": "histogram2d"
           }
          ],
          "histogram2dcontour": [
           {
            "colorbar": {
             "outlinewidth": 0,
             "ticks": ""
            },
            "colorscale": [
             [
              0,
              "#0d0887"
             ],
             [
              0.1111111111111111,
              "#46039f"
             ],
             [
              0.2222222222222222,
              "#7201a8"
             ],
             [
              0.3333333333333333,
              "#9c179e"
             ],
             [
              0.4444444444444444,
              "#bd3786"
             ],
             [
              0.5555555555555556,
              "#d8576b"
             ],
             [
              0.6666666666666666,
              "#ed7953"
             ],
             [
              0.7777777777777778,
              "#fb9f3a"
             ],
             [
              0.8888888888888888,
              "#fdca26"
             ],
             [
              1,
              "#f0f921"
             ]
            ],
            "type": "histogram2dcontour"
           }
          ],
          "mesh3d": [
           {
            "colorbar": {
             "outlinewidth": 0,
             "ticks": ""
            },
            "type": "mesh3d"
           }
          ],
          "parcoords": [
           {
            "line": {
             "colorbar": {
              "outlinewidth": 0,
              "ticks": ""
             }
            },
            "type": "parcoords"
           }
          ],
          "pie": [
           {
            "automargin": true,
            "type": "pie"
           }
          ],
          "scatter": [
           {
            "fillpattern": {
             "fillmode": "overlay",
             "size": 10,
             "solidity": 0.2
            },
            "type": "scatter"
           }
          ],
          "scatter3d": [
           {
            "line": {
             "colorbar": {
              "outlinewidth": 0,
              "ticks": ""
             }
            },
            "marker": {
             "colorbar": {
              "outlinewidth": 0,
              "ticks": ""
             }
            },
            "type": "scatter3d"
           }
          ],
          "scattercarpet": [
           {
            "marker": {
             "colorbar": {
              "outlinewidth": 0,
              "ticks": ""
             }
            },
            "type": "scattercarpet"
           }
          ],
          "scattergeo": [
           {
            "marker": {
             "colorbar": {
              "outlinewidth": 0,
              "ticks": ""
             }
            },
            "type": "scattergeo"
           }
          ],
          "scattergl": [
           {
            "marker": {
             "colorbar": {
              "outlinewidth": 0,
              "ticks": ""
             }
            },
            "type": "scattergl"
           }
          ],
          "scattermapbox": [
           {
            "marker": {
             "colorbar": {
              "outlinewidth": 0,
              "ticks": ""
             }
            },
            "type": "scattermapbox"
           }
          ],
          "scatterpolar": [
           {
            "marker": {
             "colorbar": {
              "outlinewidth": 0,
              "ticks": ""
             }
            },
            "type": "scatterpolar"
           }
          ],
          "scatterpolargl": [
           {
            "marker": {
             "colorbar": {
              "outlinewidth": 0,
              "ticks": ""
             }
            },
            "type": "scatterpolargl"
           }
          ],
          "scatterternary": [
           {
            "marker": {
             "colorbar": {
              "outlinewidth": 0,
              "ticks": ""
             }
            },
            "type": "scatterternary"
           }
          ],
          "surface": [
           {
            "colorbar": {
             "outlinewidth": 0,
             "ticks": ""
            },
            "colorscale": [
             [
              0,
              "#0d0887"
             ],
             [
              0.1111111111111111,
              "#46039f"
             ],
             [
              0.2222222222222222,
              "#7201a8"
             ],
             [
              0.3333333333333333,
              "#9c179e"
             ],
             [
              0.4444444444444444,
              "#bd3786"
             ],
             [
              0.5555555555555556,
              "#d8576b"
             ],
             [
              0.6666666666666666,
              "#ed7953"
             ],
             [
              0.7777777777777778,
              "#fb9f3a"
             ],
             [
              0.8888888888888888,
              "#fdca26"
             ],
             [
              1,
              "#f0f921"
             ]
            ],
            "type": "surface"
           }
          ],
          "table": [
           {
            "cells": {
             "fill": {
              "color": "#EBF0F8"
             },
             "line": {
              "color": "white"
             }
            },
            "header": {
             "fill": {
              "color": "#C8D4E3"
             },
             "line": {
              "color": "white"
             }
            },
            "type": "table"
           }
          ]
         },
         "layout": {
          "annotationdefaults": {
           "arrowcolor": "#2a3f5f",
           "arrowhead": 0,
           "arrowwidth": 1
          },
          "autotypenumbers": "strict",
          "coloraxis": {
           "colorbar": {
            "outlinewidth": 0,
            "ticks": ""
           }
          },
          "colorscale": {
           "diverging": [
            [
             0,
             "#8e0152"
            ],
            [
             0.1,
             "#c51b7d"
            ],
            [
             0.2,
             "#de77ae"
            ],
            [
             0.3,
             "#f1b6da"
            ],
            [
             0.4,
             "#fde0ef"
            ],
            [
             0.5,
             "#f7f7f7"
            ],
            [
             0.6,
             "#e6f5d0"
            ],
            [
             0.7,
             "#b8e186"
            ],
            [
             0.8,
             "#7fbc41"
            ],
            [
             0.9,
             "#4d9221"
            ],
            [
             1,
             "#276419"
            ]
           ],
           "sequential": [
            [
             0,
             "#0d0887"
            ],
            [
             0.1111111111111111,
             "#46039f"
            ],
            [
             0.2222222222222222,
             "#7201a8"
            ],
            [
             0.3333333333333333,
             "#9c179e"
            ],
            [
             0.4444444444444444,
             "#bd3786"
            ],
            [
             0.5555555555555556,
             "#d8576b"
            ],
            [
             0.6666666666666666,
             "#ed7953"
            ],
            [
             0.7777777777777778,
             "#fb9f3a"
            ],
            [
             0.8888888888888888,
             "#fdca26"
            ],
            [
             1,
             "#f0f921"
            ]
           ],
           "sequentialminus": [
            [
             0,
             "#0d0887"
            ],
            [
             0.1111111111111111,
             "#46039f"
            ],
            [
             0.2222222222222222,
             "#7201a8"
            ],
            [
             0.3333333333333333,
             "#9c179e"
            ],
            [
             0.4444444444444444,
             "#bd3786"
            ],
            [
             0.5555555555555556,
             "#d8576b"
            ],
            [
             0.6666666666666666,
             "#ed7953"
            ],
            [
             0.7777777777777778,
             "#fb9f3a"
            ],
            [
             0.8888888888888888,
             "#fdca26"
            ],
            [
             1,
             "#f0f921"
            ]
           ]
          },
          "colorway": [
           "#636efa",
           "#EF553B",
           "#00cc96",
           "#ab63fa",
           "#FFA15A",
           "#19d3f3",
           "#FF6692",
           "#B6E880",
           "#FF97FF",
           "#FECB52"
          ],
          "font": {
           "color": "#2a3f5f"
          },
          "geo": {
           "bgcolor": "white",
           "lakecolor": "white",
           "landcolor": "#E5ECF6",
           "showlakes": true,
           "showland": true,
           "subunitcolor": "white"
          },
          "hoverlabel": {
           "align": "left"
          },
          "hovermode": "closest",
          "mapbox": {
           "style": "light"
          },
          "paper_bgcolor": "white",
          "plot_bgcolor": "#E5ECF6",
          "polar": {
           "angularaxis": {
            "gridcolor": "white",
            "linecolor": "white",
            "ticks": ""
           },
           "bgcolor": "#E5ECF6",
           "radialaxis": {
            "gridcolor": "white",
            "linecolor": "white",
            "ticks": ""
           }
          },
          "scene": {
           "xaxis": {
            "backgroundcolor": "#E5ECF6",
            "gridcolor": "white",
            "gridwidth": 2,
            "linecolor": "white",
            "showbackground": true,
            "ticks": "",
            "zerolinecolor": "white"
           },
           "yaxis": {
            "backgroundcolor": "#E5ECF6",
            "gridcolor": "white",
            "gridwidth": 2,
            "linecolor": "white",
            "showbackground": true,
            "ticks": "",
            "zerolinecolor": "white"
           },
           "zaxis": {
            "backgroundcolor": "#E5ECF6",
            "gridcolor": "white",
            "gridwidth": 2,
            "linecolor": "white",
            "showbackground": true,
            "ticks": "",
            "zerolinecolor": "white"
           }
          },
          "shapedefaults": {
           "line": {
            "color": "#2a3f5f"
           }
          },
          "ternary": {
           "aaxis": {
            "gridcolor": "white",
            "linecolor": "white",
            "ticks": ""
           },
           "baxis": {
            "gridcolor": "white",
            "linecolor": "white",
            "ticks": ""
           },
           "bgcolor": "#E5ECF6",
           "caxis": {
            "gridcolor": "white",
            "linecolor": "white",
            "ticks": ""
           }
          },
          "title": {
           "x": 0.05
          },
          "xaxis": {
           "automargin": true,
           "gridcolor": "white",
           "linecolor": "white",
           "ticks": "",
           "title": {
            "standoff": 15
           },
           "zerolinecolor": "white",
           "zerolinewidth": 2
          },
          "yaxis": {
           "automargin": true,
           "gridcolor": "white",
           "linecolor": "white",
           "ticks": "",
           "title": {
            "standoff": 15
           },
           "zerolinecolor": "white",
           "zerolinewidth": 2
          }
         }
        },
        "title": {
         "text": "Attrition vs. Monthly Income"
        },
        "xaxis": {
         "anchor": "y",
         "categoryarray": [
          "Yes",
          "No"
         ],
         "categoryorder": "array",
         "domain": [
          0,
          1
         ],
         "title": {
          "text": "Attrition Status"
         }
        },
        "yaxis": {
         "anchor": "x",
         "domain": [
          0,
          1
         ],
         "title": {
          "text": "Monthly Income ($)"
         }
        }
       }
      }
     },
     "metadata": {},
     "output_type": "display_data"
    }
   ],
   "source": [
    "# Attrition vs. Monthly Income\n",
    "fig_income_attrition = px.box(\n",
    "    df_cleaned, x=\"Attrition\", y=\"MonthlyIncome\", \n",
    "    color=\"Attrition\",\n",
    "    title=\"Attrition vs. Monthly Income\",\n",
    "    labels={\"MonthlyIncome\": \"Monthly Income ($)\", \"Attrition\": \"Attrition Status\"},\n",
    "    color_discrete_sequence=[\"#636EFA\", \"#EF553B\"],\n",
    "    \n",
    ")\n",
    "fig_income_attrition.show()"
   ]
  },
  {
   "cell_type": "code",
   "execution_count": 36,
   "metadata": {},
   "outputs": [
    {
     "data": {
      "application/vnd.plotly.v1+json": {
       "config": {
        "plotlyServerURL": "https://plot.ly"
       },
       "data": [
        {
         "alignmentgroup": "True",
         "bingroup": "x",
         "hovertemplate": "Attrition Status=Yes<br>Job Satisfaction Level=%{x}<br>count=%{y}<extra></extra>",
         "legendgroup": "Yes",
         "marker": {
          "color": "#636EFA",
          "pattern": {
           "shape": ""
          }
         },
         "name": "Yes",
         "offsetgroup": "Yes",
         "orientation": "v",
         "showlegend": true,
         "texttemplate": "%{value}",
         "type": "histogram",
         "x": [
          4,
          3,
          3,
          1,
          1,
          1,
          4,
          4,
          3,
          3,
          3,
          3,
          3,
          3,
          4,
          1,
          4,
          3,
          3,
          2,
          3,
          4,
          3,
          3,
          4,
          1,
          1,
          4,
          2,
          3,
          1,
          4,
          4,
          1,
          1,
          3,
          4,
          4,
          1,
          3,
          3,
          2,
          3,
          2,
          3,
          2,
          4,
          3,
          2,
          4,
          3,
          1,
          2,
          3,
          2,
          3,
          2,
          4,
          1,
          4,
          1,
          2,
          3,
          2,
          4,
          3,
          4,
          3,
          1,
          3,
          3,
          2,
          4,
          3,
          3,
          1,
          1,
          1,
          1,
          3,
          1,
          3,
          3,
          2,
          3,
          4,
          3,
          1,
          1,
          1,
          1,
          1,
          2,
          3,
          4,
          4,
          3,
          2,
          3,
          4,
          4,
          3,
          4,
          3,
          4,
          1,
          2,
          2,
          1,
          4,
          3,
          3,
          2,
          1,
          1,
          3,
          2,
          1,
          2,
          2,
          1,
          4,
          1,
          3,
          1,
          4,
          1,
          3,
          1,
          1,
          1,
          3,
          4,
          3,
          2,
          2,
          3,
          4,
          3,
          1,
          3,
          1,
          1,
          4,
          3,
          3,
          4,
          1,
          2,
          2,
          4,
          2,
          3,
          4,
          3,
          3,
          1,
          2,
          2,
          2,
          1,
          1,
          3,
          4,
          3,
          3,
          3,
          1,
          4,
          3,
          2,
          1,
          4,
          1,
          2,
          4,
          3,
          3,
          2,
          2,
          1,
          1,
          1,
          1,
          3,
          1,
          1,
          4,
          2,
          2,
          4,
          1,
          4,
          1,
          4,
          3,
          3,
          2,
          4,
          3,
          3,
          1,
          2,
          4,
          2,
          1,
          3,
          3,
          2,
          1,
          2,
          4,
          1,
          1,
          2,
          2,
          1,
          1,
          2,
          4,
          2,
          4,
          2,
          1,
          4,
          1,
          3,
          3,
          2,
          4,
          4,
          1,
          1,
          4,
          3,
          3,
          1
         ],
         "xaxis": "x",
         "yaxis": "y"
        },
        {
         "alignmentgroup": "True",
         "bingroup": "x",
         "hovertemplate": "Attrition Status=No<br>Job Satisfaction Level=%{x}<br>count=%{y}<extra></extra>",
         "legendgroup": "No",
         "marker": {
          "color": "#EF553B",
          "pattern": {
           "shape": ""
          }
         },
         "name": "No",
         "offsetgroup": "No",
         "orientation": "v",
         "showlegend": true,
         "texttemplate": "%{value}",
         "type": "histogram",
         "x": [
          2,
          3,
          2,
          4,
          1,
          3,
          3,
          3,
          2,
          3,
          3,
          4,
          1,
          2,
          4,
          4,
          4,
          3,
          2,
          4,
          3,
          2,
          4,
          1,
          4,
          4,
          3,
          3,
          4,
          1,
          1,
          4,
          1,
          3,
          4,
          3,
          2,
          4,
          4,
          1,
          1,
          4,
          4,
          1,
          1,
          4,
          3,
          4,
          4,
          3,
          1,
          3,
          3,
          2,
          1,
          1,
          3,
          2,
          2,
          2,
          4,
          4,
          1,
          1,
          3,
          2,
          4,
          3,
          4,
          4,
          2,
          4,
          1,
          4,
          4,
          2,
          4,
          2,
          1,
          3,
          3,
          3,
          3,
          3,
          2,
          1,
          3,
          4,
          4,
          2,
          4,
          4,
          1,
          4,
          3,
          2,
          4,
          1,
          4,
          4,
          4,
          3,
          2,
          3,
          2,
          4,
          1,
          3,
          4,
          3,
          3,
          2,
          3,
          3,
          4,
          4,
          3,
          3,
          4,
          1,
          4,
          1,
          1,
          2,
          2,
          2,
          3,
          2,
          4,
          3,
          3,
          2,
          4,
          3,
          4,
          2,
          4,
          4,
          3,
          2,
          3,
          4,
          4,
          3,
          2,
          2,
          1,
          1,
          1,
          4,
          1,
          4,
          4,
          2,
          3,
          1,
          2,
          3,
          2,
          3,
          2,
          3,
          2,
          4,
          4,
          1,
          2,
          3,
          3,
          4,
          1,
          4,
          3,
          4,
          2,
          4,
          4,
          1,
          3,
          3,
          2,
          4,
          4,
          1,
          2,
          2,
          4,
          3,
          3,
          4,
          4,
          4,
          3,
          4,
          4,
          3,
          4,
          4,
          3,
          2,
          3,
          4,
          1,
          4,
          4,
          3,
          4,
          1,
          1,
          3,
          3,
          4,
          1,
          4,
          3,
          1,
          3,
          4,
          2,
          4,
          1,
          2,
          2,
          4,
          1,
          4,
          4,
          1,
          4,
          4,
          3,
          4,
          2,
          1,
          2,
          2,
          3,
          3,
          4,
          4,
          1,
          4,
          4,
          4,
          1,
          2,
          2,
          4,
          2,
          2,
          4,
          2,
          2,
          3,
          1,
          4,
          4,
          2,
          3,
          2,
          3,
          4,
          1,
          1,
          4,
          2,
          1,
          4,
          3,
          2,
          2,
          3,
          4,
          4,
          4,
          3,
          4,
          4,
          3,
          3,
          2,
          3,
          1,
          4,
          4,
          4,
          3,
          2,
          4,
          4,
          4,
          2,
          2,
          4,
          2,
          3,
          4,
          3,
          3,
          2,
          3,
          1,
          3,
          3,
          4,
          4,
          4,
          3,
          3,
          4,
          1,
          3,
          4,
          2,
          4,
          2,
          2,
          4,
          3,
          4,
          3,
          4,
          3,
          2,
          2,
          3,
          1,
          2,
          1,
          2,
          2,
          3,
          1,
          3,
          1,
          4,
          3,
          4,
          3,
          1,
          3,
          1,
          3,
          1,
          1,
          3,
          4,
          4,
          3,
          4,
          1,
          3,
          4,
          4,
          3,
          4,
          4,
          3,
          1,
          4,
          3,
          4,
          1,
          4,
          3,
          3,
          3,
          3,
          4,
          2,
          2,
          3,
          3,
          4,
          4,
          2,
          4,
          3,
          3,
          3,
          4,
          1,
          2,
          4,
          3,
          4,
          1,
          3,
          3,
          3,
          4,
          4,
          3,
          1,
          2,
          1,
          4,
          3,
          2,
          3,
          4,
          2,
          2,
          2,
          3,
          4,
          4,
          4,
          3,
          3,
          2,
          4,
          4,
          1,
          3,
          1,
          3,
          3,
          3,
          4,
          3,
          3,
          4,
          3,
          1,
          4,
          4,
          3,
          3,
          4,
          4,
          2,
          2,
          4,
          3,
          1,
          2,
          4,
          4,
          2,
          4,
          4,
          3,
          2,
          3,
          4,
          4,
          1,
          4,
          1,
          1,
          3,
          4,
          1,
          1,
          3,
          2,
          1,
          3,
          3,
          3,
          4,
          3,
          4,
          3,
          1,
          2,
          4,
          4,
          1,
          2,
          4,
          1,
          4,
          3,
          1,
          1,
          4,
          3,
          3,
          4,
          1,
          4,
          4,
          3,
          4,
          1,
          4,
          1,
          1,
          1,
          4,
          3,
          2,
          1,
          4,
          2,
          3,
          3,
          3,
          4,
          2,
          3,
          3,
          4,
          2,
          3,
          3,
          4,
          3,
          2,
          1,
          4,
          1,
          4,
          3,
          2,
          4,
          4,
          3,
          2,
          1,
          1,
          1,
          4,
          4,
          4,
          4,
          1,
          3,
          4,
          3,
          4,
          4,
          4,
          4,
          1,
          1,
          3,
          4,
          1,
          1,
          4,
          2,
          2,
          4,
          4,
          4,
          2,
          4,
          4,
          4,
          4,
          2,
          1,
          4,
          2,
          4,
          1,
          4,
          2,
          4,
          4,
          3,
          3,
          2,
          3,
          1,
          2,
          3,
          4,
          2,
          3,
          3,
          4,
          1,
          2,
          2,
          1,
          1,
          3,
          4,
          2,
          1,
          4,
          2,
          4,
          3,
          4,
          3,
          3,
          4,
          4,
          3,
          3,
          4,
          3,
          4,
          4,
          4,
          2,
          3,
          2,
          1,
          4,
          3,
          3,
          3,
          3,
          1,
          4,
          3,
          3,
          1,
          4,
          1,
          3,
          3,
          3,
          4,
          4,
          4,
          3,
          4,
          4,
          2,
          3,
          4,
          4,
          3,
          1,
          4,
          4,
          3,
          4,
          4,
          2,
          2,
          3,
          2,
          3,
          3,
          2,
          1,
          3,
          4,
          3,
          3,
          4,
          1,
          4,
          1,
          1,
          1,
          3,
          3,
          4,
          3,
          2,
          3,
          4,
          3,
          4,
          4,
          1,
          2,
          4,
          4,
          3,
          2,
          3,
          4,
          2,
          3,
          2,
          1,
          3,
          2,
          2,
          4,
          4,
          2,
          4,
          2,
          3,
          2,
          4,
          4,
          3,
          3,
          4,
          4,
          3,
          3,
          3,
          3,
          1,
          3,
          2,
          4,
          3,
          4,
          2,
          1,
          4,
          1,
          1,
          4,
          1,
          3,
          4,
          3,
          3,
          4,
          1,
          3,
          3,
          1,
          2,
          1,
          1,
          2,
          1,
          3,
          3,
          3,
          4,
          4,
          4,
          1,
          4,
          2,
          3,
          1,
          4,
          2,
          4,
          2,
          1,
          4,
          1,
          3,
          4,
          4,
          4,
          1,
          1,
          4,
          4,
          3,
          2,
          2,
          3,
          4,
          4,
          4,
          3,
          2,
          3,
          4,
          3,
          4,
          2,
          2,
          1,
          2,
          4,
          2,
          3,
          1,
          2,
          3,
          2,
          4,
          2,
          4,
          3,
          3,
          1,
          2,
          4,
          2,
          2,
          3,
          4,
          3,
          1,
          4,
          1,
          1,
          3,
          3,
          2,
          3,
          3,
          2,
          3,
          4,
          4,
          1,
          3,
          2,
          1,
          1,
          4,
          2,
          1,
          4,
          4,
          2,
          4,
          4,
          4,
          2,
          3,
          3,
          3,
          3,
          4,
          1,
          4,
          2,
          4,
          3,
          4,
          2,
          3,
          3,
          3,
          3,
          4,
          4,
          1,
          1,
          3,
          4,
          4,
          1,
          1,
          4,
          1,
          4,
          2,
          1,
          2,
          1,
          1,
          4,
          1,
          4,
          3,
          1,
          3,
          3,
          4,
          2,
          3,
          3,
          4,
          1,
          2,
          4,
          1,
          2,
          1,
          3,
          2,
          3,
          3,
          2,
          1,
          1,
          3,
          4,
          3,
          3,
          3,
          2,
          1,
          3,
          2,
          3,
          3,
          3,
          3,
          2,
          3,
          3,
          1,
          1,
          2,
          2,
          3,
          4,
          4,
          1,
          2,
          2,
          2,
          3,
          3,
          4,
          3,
          2,
          4,
          1,
          2,
          4,
          4,
          1,
          3,
          4,
          1,
          4,
          2,
          3,
          2,
          4,
          3,
          3,
          1,
          3,
          1,
          2,
          1,
          1,
          4,
          4,
          4,
          4,
          2,
          2,
          3,
          1,
          3,
          3,
          4,
          3,
          3,
          1,
          4,
          3,
          3,
          1,
          2,
          4,
          1,
          3,
          3,
          4,
          4,
          2,
          1,
          1,
          1,
          3,
          4,
          1,
          1,
          1,
          1,
          1,
          4,
          3,
          3,
          3,
          3,
          3,
          3,
          4,
          3,
          2,
          4,
          4,
          4,
          4,
          3,
          4,
          3,
          1,
          3,
          2,
          2,
          1,
          3,
          2,
          2,
          3,
          3,
          1,
          3,
          3,
          4,
          2,
          4,
          2,
          4,
          1,
          2,
          2,
          3,
          3,
          1,
          4,
          3,
          4,
          3,
          4,
          4,
          2,
          4,
          4,
          2,
          4,
          4,
          4,
          4,
          4,
          3,
          3,
          3,
          4,
          3,
          3,
          2,
          3,
          3,
          2,
          1,
          1,
          2,
          3,
          4,
          2,
          4,
          2,
          4,
          4,
          3,
          2,
          3,
          1,
          4,
          3,
          4,
          3,
          1,
          4,
          2,
          4,
          2,
          1,
          3,
          2,
          4,
          2,
          1,
          2,
          1,
          3,
          3,
          4,
          4,
          3,
          4,
          3,
          2,
          4,
          1,
          2,
          1,
          4,
          3,
          2,
          1,
          1,
          4,
          2,
          4,
          3,
          2,
          3,
          3,
          4,
          3,
          2,
          3,
          2,
          1,
          4,
          1,
          1,
          4,
          4,
          3,
          3,
          3,
          2,
          4,
          4,
          4,
          4,
          3,
          3,
          4,
          4,
          3,
          3,
          1,
          3,
          2,
          3,
          2,
          1,
          4,
          4,
          2,
          3,
          3,
          4,
          1,
          1,
          2,
          4,
          4,
          1,
          3,
          3,
          4,
          1,
          2,
          2,
          1,
          4,
          4,
          3,
          4,
          3,
          3,
          4,
          3,
          2,
          4,
          2,
          1,
          1,
          2,
          4,
          4,
          4,
          4,
          1,
          3,
          1,
          2,
          4,
          3,
          1,
          1,
          4,
          1,
          1,
          4,
          4,
          4,
          3,
          3,
          3,
          2,
          2,
          4,
          1,
          3,
          3,
          1,
          3,
          4,
          3,
          2,
          2,
          2,
          3,
          3,
          3,
          2,
          3,
          3,
          1,
          4,
          2,
          3,
          3,
          3,
          4,
          2,
          4,
          2,
          4,
          3,
          4,
          4,
          3,
          4,
          4,
          1,
          4,
          4,
          2,
          3,
          3,
          2,
          3,
          4,
          2,
          1,
          4,
          4,
          4,
          3,
          3,
          3,
          3,
          4,
          2,
          1,
          4,
          1,
          3,
          4,
          1,
          2,
          2,
          3
         ],
         "xaxis": "x",
         "yaxis": "y"
        }
       ],
       "layout": {
        "barmode": "group",
        "legend": {
         "title": {
          "text": "Attrition Status"
         },
         "tracegroupgap": 0
        },
        "template": {
         "data": {
          "bar": [
           {
            "error_x": {
             "color": "#2a3f5f"
            },
            "error_y": {
             "color": "#2a3f5f"
            },
            "marker": {
             "line": {
              "color": "#E5ECF6",
              "width": 0.5
             },
             "pattern": {
              "fillmode": "overlay",
              "size": 10,
              "solidity": 0.2
             }
            },
            "type": "bar"
           }
          ],
          "barpolar": [
           {
            "marker": {
             "line": {
              "color": "#E5ECF6",
              "width": 0.5
             },
             "pattern": {
              "fillmode": "overlay",
              "size": 10,
              "solidity": 0.2
             }
            },
            "type": "barpolar"
           }
          ],
          "carpet": [
           {
            "aaxis": {
             "endlinecolor": "#2a3f5f",
             "gridcolor": "white",
             "linecolor": "white",
             "minorgridcolor": "white",
             "startlinecolor": "#2a3f5f"
            },
            "baxis": {
             "endlinecolor": "#2a3f5f",
             "gridcolor": "white",
             "linecolor": "white",
             "minorgridcolor": "white",
             "startlinecolor": "#2a3f5f"
            },
            "type": "carpet"
           }
          ],
          "choropleth": [
           {
            "colorbar": {
             "outlinewidth": 0,
             "ticks": ""
            },
            "type": "choropleth"
           }
          ],
          "contour": [
           {
            "colorbar": {
             "outlinewidth": 0,
             "ticks": ""
            },
            "colorscale": [
             [
              0,
              "#0d0887"
             ],
             [
              0.1111111111111111,
              "#46039f"
             ],
             [
              0.2222222222222222,
              "#7201a8"
             ],
             [
              0.3333333333333333,
              "#9c179e"
             ],
             [
              0.4444444444444444,
              "#bd3786"
             ],
             [
              0.5555555555555556,
              "#d8576b"
             ],
             [
              0.6666666666666666,
              "#ed7953"
             ],
             [
              0.7777777777777778,
              "#fb9f3a"
             ],
             [
              0.8888888888888888,
              "#fdca26"
             ],
             [
              1,
              "#f0f921"
             ]
            ],
            "type": "contour"
           }
          ],
          "contourcarpet": [
           {
            "colorbar": {
             "outlinewidth": 0,
             "ticks": ""
            },
            "type": "contourcarpet"
           }
          ],
          "heatmap": [
           {
            "colorbar": {
             "outlinewidth": 0,
             "ticks": ""
            },
            "colorscale": [
             [
              0,
              "#0d0887"
             ],
             [
              0.1111111111111111,
              "#46039f"
             ],
             [
              0.2222222222222222,
              "#7201a8"
             ],
             [
              0.3333333333333333,
              "#9c179e"
             ],
             [
              0.4444444444444444,
              "#bd3786"
             ],
             [
              0.5555555555555556,
              "#d8576b"
             ],
             [
              0.6666666666666666,
              "#ed7953"
             ],
             [
              0.7777777777777778,
              "#fb9f3a"
             ],
             [
              0.8888888888888888,
              "#fdca26"
             ],
             [
              1,
              "#f0f921"
             ]
            ],
            "type": "heatmap"
           }
          ],
          "heatmapgl": [
           {
            "colorbar": {
             "outlinewidth": 0,
             "ticks": ""
            },
            "colorscale": [
             [
              0,
              "#0d0887"
             ],
             [
              0.1111111111111111,
              "#46039f"
             ],
             [
              0.2222222222222222,
              "#7201a8"
             ],
             [
              0.3333333333333333,
              "#9c179e"
             ],
             [
              0.4444444444444444,
              "#bd3786"
             ],
             [
              0.5555555555555556,
              "#d8576b"
             ],
             [
              0.6666666666666666,
              "#ed7953"
             ],
             [
              0.7777777777777778,
              "#fb9f3a"
             ],
             [
              0.8888888888888888,
              "#fdca26"
             ],
             [
              1,
              "#f0f921"
             ]
            ],
            "type": "heatmapgl"
           }
          ],
          "histogram": [
           {
            "marker": {
             "pattern": {
              "fillmode": "overlay",
              "size": 10,
              "solidity": 0.2
             }
            },
            "type": "histogram"
           }
          ],
          "histogram2d": [
           {
            "colorbar": {
             "outlinewidth": 0,
             "ticks": ""
            },
            "colorscale": [
             [
              0,
              "#0d0887"
             ],
             [
              0.1111111111111111,
              "#46039f"
             ],
             [
              0.2222222222222222,
              "#7201a8"
             ],
             [
              0.3333333333333333,
              "#9c179e"
             ],
             [
              0.4444444444444444,
              "#bd3786"
             ],
             [
              0.5555555555555556,
              "#d8576b"
             ],
             [
              0.6666666666666666,
              "#ed7953"
             ],
             [
              0.7777777777777778,
              "#fb9f3a"
             ],
             [
              0.8888888888888888,
              "#fdca26"
             ],
             [
              1,
              "#f0f921"
             ]
            ],
            "type": "histogram2d"
           }
          ],
          "histogram2dcontour": [
           {
            "colorbar": {
             "outlinewidth": 0,
             "ticks": ""
            },
            "colorscale": [
             [
              0,
              "#0d0887"
             ],
             [
              0.1111111111111111,
              "#46039f"
             ],
             [
              0.2222222222222222,
              "#7201a8"
             ],
             [
              0.3333333333333333,
              "#9c179e"
             ],
             [
              0.4444444444444444,
              "#bd3786"
             ],
             [
              0.5555555555555556,
              "#d8576b"
             ],
             [
              0.6666666666666666,
              "#ed7953"
             ],
             [
              0.7777777777777778,
              "#fb9f3a"
             ],
             [
              0.8888888888888888,
              "#fdca26"
             ],
             [
              1,
              "#f0f921"
             ]
            ],
            "type": "histogram2dcontour"
           }
          ],
          "mesh3d": [
           {
            "colorbar": {
             "outlinewidth": 0,
             "ticks": ""
            },
            "type": "mesh3d"
           }
          ],
          "parcoords": [
           {
            "line": {
             "colorbar": {
              "outlinewidth": 0,
              "ticks": ""
             }
            },
            "type": "parcoords"
           }
          ],
          "pie": [
           {
            "automargin": true,
            "type": "pie"
           }
          ],
          "scatter": [
           {
            "fillpattern": {
             "fillmode": "overlay",
             "size": 10,
             "solidity": 0.2
            },
            "type": "scatter"
           }
          ],
          "scatter3d": [
           {
            "line": {
             "colorbar": {
              "outlinewidth": 0,
              "ticks": ""
             }
            },
            "marker": {
             "colorbar": {
              "outlinewidth": 0,
              "ticks": ""
             }
            },
            "type": "scatter3d"
           }
          ],
          "scattercarpet": [
           {
            "marker": {
             "colorbar": {
              "outlinewidth": 0,
              "ticks": ""
             }
            },
            "type": "scattercarpet"
           }
          ],
          "scattergeo": [
           {
            "marker": {
             "colorbar": {
              "outlinewidth": 0,
              "ticks": ""
             }
            },
            "type": "scattergeo"
           }
          ],
          "scattergl": [
           {
            "marker": {
             "colorbar": {
              "outlinewidth": 0,
              "ticks": ""
             }
            },
            "type": "scattergl"
           }
          ],
          "scattermapbox": [
           {
            "marker": {
             "colorbar": {
              "outlinewidth": 0,
              "ticks": ""
             }
            },
            "type": "scattermapbox"
           }
          ],
          "scatterpolar": [
           {
            "marker": {
             "colorbar": {
              "outlinewidth": 0,
              "ticks": ""
             }
            },
            "type": "scatterpolar"
           }
          ],
          "scatterpolargl": [
           {
            "marker": {
             "colorbar": {
              "outlinewidth": 0,
              "ticks": ""
             }
            },
            "type": "scatterpolargl"
           }
          ],
          "scatterternary": [
           {
            "marker": {
             "colorbar": {
              "outlinewidth": 0,
              "ticks": ""
             }
            },
            "type": "scatterternary"
           }
          ],
          "surface": [
           {
            "colorbar": {
             "outlinewidth": 0,
             "ticks": ""
            },
            "colorscale": [
             [
              0,
              "#0d0887"
             ],
             [
              0.1111111111111111,
              "#46039f"
             ],
             [
              0.2222222222222222,
              "#7201a8"
             ],
             [
              0.3333333333333333,
              "#9c179e"
             ],
             [
              0.4444444444444444,
              "#bd3786"
             ],
             [
              0.5555555555555556,
              "#d8576b"
             ],
             [
              0.6666666666666666,
              "#ed7953"
             ],
             [
              0.7777777777777778,
              "#fb9f3a"
             ],
             [
              0.8888888888888888,
              "#fdca26"
             ],
             [
              1,
              "#f0f921"
             ]
            ],
            "type": "surface"
           }
          ],
          "table": [
           {
            "cells": {
             "fill": {
              "color": "#EBF0F8"
             },
             "line": {
              "color": "white"
             }
            },
            "header": {
             "fill": {
              "color": "#C8D4E3"
             },
             "line": {
              "color": "white"
             }
            },
            "type": "table"
           }
          ]
         },
         "layout": {
          "annotationdefaults": {
           "arrowcolor": "#2a3f5f",
           "arrowhead": 0,
           "arrowwidth": 1
          },
          "autotypenumbers": "strict",
          "coloraxis": {
           "colorbar": {
            "outlinewidth": 0,
            "ticks": ""
           }
          },
          "colorscale": {
           "diverging": [
            [
             0,
             "#8e0152"
            ],
            [
             0.1,
             "#c51b7d"
            ],
            [
             0.2,
             "#de77ae"
            ],
            [
             0.3,
             "#f1b6da"
            ],
            [
             0.4,
             "#fde0ef"
            ],
            [
             0.5,
             "#f7f7f7"
            ],
            [
             0.6,
             "#e6f5d0"
            ],
            [
             0.7,
             "#b8e186"
            ],
            [
             0.8,
             "#7fbc41"
            ],
            [
             0.9,
             "#4d9221"
            ],
            [
             1,
             "#276419"
            ]
           ],
           "sequential": [
            [
             0,
             "#0d0887"
            ],
            [
             0.1111111111111111,
             "#46039f"
            ],
            [
             0.2222222222222222,
             "#7201a8"
            ],
            [
             0.3333333333333333,
             "#9c179e"
            ],
            [
             0.4444444444444444,
             "#bd3786"
            ],
            [
             0.5555555555555556,
             "#d8576b"
            ],
            [
             0.6666666666666666,
             "#ed7953"
            ],
            [
             0.7777777777777778,
             "#fb9f3a"
            ],
            [
             0.8888888888888888,
             "#fdca26"
            ],
            [
             1,
             "#f0f921"
            ]
           ],
           "sequentialminus": [
            [
             0,
             "#0d0887"
            ],
            [
             0.1111111111111111,
             "#46039f"
            ],
            [
             0.2222222222222222,
             "#7201a8"
            ],
            [
             0.3333333333333333,
             "#9c179e"
            ],
            [
             0.4444444444444444,
             "#bd3786"
            ],
            [
             0.5555555555555556,
             "#d8576b"
            ],
            [
             0.6666666666666666,
             "#ed7953"
            ],
            [
             0.7777777777777778,
             "#fb9f3a"
            ],
            [
             0.8888888888888888,
             "#fdca26"
            ],
            [
             1,
             "#f0f921"
            ]
           ]
          },
          "colorway": [
           "#636efa",
           "#EF553B",
           "#00cc96",
           "#ab63fa",
           "#FFA15A",
           "#19d3f3",
           "#FF6692",
           "#B6E880",
           "#FF97FF",
           "#FECB52"
          ],
          "font": {
           "color": "#2a3f5f"
          },
          "geo": {
           "bgcolor": "white",
           "lakecolor": "white",
           "landcolor": "#E5ECF6",
           "showlakes": true,
           "showland": true,
           "subunitcolor": "white"
          },
          "hoverlabel": {
           "align": "left"
          },
          "hovermode": "closest",
          "mapbox": {
           "style": "light"
          },
          "paper_bgcolor": "white",
          "plot_bgcolor": "#E5ECF6",
          "polar": {
           "angularaxis": {
            "gridcolor": "white",
            "linecolor": "white",
            "ticks": ""
           },
           "bgcolor": "#E5ECF6",
           "radialaxis": {
            "gridcolor": "white",
            "linecolor": "white",
            "ticks": ""
           }
          },
          "scene": {
           "xaxis": {
            "backgroundcolor": "#E5ECF6",
            "gridcolor": "white",
            "gridwidth": 2,
            "linecolor": "white",
            "showbackground": true,
            "ticks": "",
            "zerolinecolor": "white"
           },
           "yaxis": {
            "backgroundcolor": "#E5ECF6",
            "gridcolor": "white",
            "gridwidth": 2,
            "linecolor": "white",
            "showbackground": true,
            "ticks": "",
            "zerolinecolor": "white"
           },
           "zaxis": {
            "backgroundcolor": "#E5ECF6",
            "gridcolor": "white",
            "gridwidth": 2,
            "linecolor": "white",
            "showbackground": true,
            "ticks": "",
            "zerolinecolor": "white"
           }
          },
          "shapedefaults": {
           "line": {
            "color": "#2a3f5f"
           }
          },
          "ternary": {
           "aaxis": {
            "gridcolor": "white",
            "linecolor": "white",
            "ticks": ""
           },
           "baxis": {
            "gridcolor": "white",
            "linecolor": "white",
            "ticks": ""
           },
           "bgcolor": "#E5ECF6",
           "caxis": {
            "gridcolor": "white",
            "linecolor": "white",
            "ticks": ""
           }
          },
          "title": {
           "x": 0.05
          },
          "xaxis": {
           "automargin": true,
           "gridcolor": "white",
           "linecolor": "white",
           "ticks": "",
           "title": {
            "standoff": 15
           },
           "zerolinecolor": "white",
           "zerolinewidth": 2
          },
          "yaxis": {
           "automargin": true,
           "gridcolor": "white",
           "linecolor": "white",
           "ticks": "",
           "title": {
            "standoff": 15
           },
           "zerolinecolor": "white",
           "zerolinewidth": 2
          }
         }
        },
        "title": {
         "text": "Attrition vs. Job Satisfaction"
        },
        "xaxis": {
         "anchor": "y",
         "domain": [
          0,
          1
         ],
         "title": {
          "text": "Job Satisfaction Level"
         }
        },
        "yaxis": {
         "anchor": "x",
         "domain": [
          0,
          1
         ],
         "title": {
          "text": "count"
         }
        }
       }
      }
     },
     "metadata": {},
     "output_type": "display_data"
    }
   ],
   "source": [
    "# Attrition vs. Job Satisfaction\n",
    "fig_job_satisfaction = px.histogram(\n",
    "    df_cleaned, x=\"JobSatisfaction\", color=\"Attrition\",\n",
    "    title=\"Attrition vs. Job Satisfaction\",\n",
    "    labels={\"JobSatisfaction\": \"Job Satisfaction Level\", \"Attrition\": \"Attrition Status\"},\n",
    "    barmode=\"group\",\n",
    "    color_discrete_sequence=[\"#636EFA\", \"#EF553B\"],\n",
    "    text_auto= True\n",
    ")\n",
    "fig_job_satisfaction.show()"
   ]
  },
  {
   "cell_type": "code",
   "execution_count": 37,
   "metadata": {},
   "outputs": [
    {
     "data": {
      "application/vnd.plotly.v1+json": {
       "config": {
        "plotlyServerURL": "https://plot.ly"
       },
       "data": [
        {
         "alignmentgroup": "True",
         "bingroup": "x",
         "hovertemplate": "Attrition Status=Yes<br>Work-Life Balance Level=%{x}<br>count=%{y}<extra></extra>",
         "legendgroup": "Yes",
         "marker": {
          "color": "#EF553B",
          "pattern": {
           "shape": ""
          }
         },
         "name": "Yes",
         "offsetgroup": "Yes",
         "orientation": "v",
         "showlegend": true,
         "texttemplate": "%{value}",
         "type": "histogram",
         "x": [
          1,
          3,
          3,
          3,
          3,
          3,
          4,
          2,
          3,
          2,
          3,
          3,
          2,
          2,
          3,
          3,
          3,
          3,
          3,
          3,
          2,
          2,
          2,
          3,
          3,
          4,
          4,
          2,
          2,
          3,
          3,
          2,
          2,
          3,
          2,
          2,
          2,
          1,
          4,
          1,
          3,
          4,
          1,
          2,
          1,
          3,
          3,
          3,
          2,
          2,
          2,
          2,
          3,
          3,
          3,
          3,
          3,
          2,
          3,
          3,
          3,
          3,
          2,
          4,
          4,
          4,
          3,
          3,
          3,
          3,
          2,
          3,
          1,
          3,
          3,
          4,
          1,
          3,
          3,
          3,
          3,
          3,
          3,
          3,
          3,
          2,
          3,
          3,
          2,
          3,
          3,
          3,
          3,
          2,
          4,
          2,
          3,
          2,
          3,
          1,
          2,
          2,
          2,
          4,
          2,
          1,
          3,
          4,
          3,
          3,
          1,
          3,
          2,
          3,
          3,
          3,
          1,
          3,
          3,
          1,
          3,
          3,
          3,
          2,
          3,
          3,
          2,
          4,
          2,
          3,
          3,
          3,
          4,
          2,
          3,
          3,
          3,
          3,
          3,
          3,
          2,
          1,
          2,
          2,
          2,
          3,
          3,
          1,
          1,
          4,
          3,
          3,
          1,
          3,
          3,
          3,
          3,
          3,
          2,
          4,
          4,
          2,
          2,
          4,
          2,
          2,
          3,
          3,
          3,
          3,
          4,
          3,
          4,
          4,
          3,
          1,
          3,
          4,
          1,
          4,
          2,
          2,
          1,
          1,
          1,
          3,
          3,
          3,
          3,
          3,
          4,
          3,
          2,
          1,
          4,
          3,
          3,
          3,
          3,
          3,
          1,
          3,
          3,
          2,
          3,
          2,
          3,
          3,
          3,
          3,
          2,
          3,
          2,
          1,
          3,
          4,
          3,
          3,
          2,
          2,
          3,
          2,
          3,
          3,
          3,
          3,
          3,
          3,
          3,
          2,
          3,
          2,
          2,
          4,
          1,
          3,
          3
         ],
         "xaxis": "x",
         "yaxis": "y"
        },
        {
         "alignmentgroup": "True",
         "bingroup": "x",
         "hovertemplate": "Attrition Status=No<br>Work-Life Balance Level=%{x}<br>count=%{y}<extra></extra>",
         "legendgroup": "No",
         "marker": {
          "color": "#636EFA",
          "pattern": {
           "shape": ""
          }
         },
         "name": "No",
         "offsetgroup": "No",
         "orientation": "v",
         "showlegend": true,
         "texttemplate": "%{value}",
         "type": "histogram",
         "x": [
          3,
          3,
          3,
          2,
          2,
          3,
          3,
          2,
          3,
          3,
          2,
          3,
          3,
          2,
          2,
          3,
          3,
          2,
          3,
          3,
          2,
          3,
          3,
          2,
          3,
          4,
          3,
          2,
          3,
          4,
          3,
          3,
          3,
          3,
          3,
          3,
          3,
          3,
          3,
          2,
          3,
          2,
          3,
          2,
          3,
          2,
          4,
          3,
          3,
          2,
          2,
          3,
          3,
          3,
          3,
          2,
          2,
          3,
          3,
          3,
          3,
          3,
          3,
          4,
          4,
          3,
          2,
          3,
          3,
          3,
          3,
          2,
          3,
          3,
          3,
          2,
          1,
          2,
          2,
          3,
          1,
          2,
          4,
          2,
          4,
          3,
          3,
          4,
          3,
          2,
          3,
          3,
          2,
          3,
          3,
          3,
          3,
          3,
          3,
          3,
          4,
          2,
          4,
          3,
          2,
          3,
          2,
          3,
          3,
          3,
          3,
          3,
          4,
          3,
          1,
          2,
          3,
          2,
          4,
          3,
          3,
          2,
          3,
          3,
          3,
          3,
          1,
          1,
          3,
          3,
          3,
          2,
          2,
          3,
          3,
          1,
          1,
          1,
          2,
          3,
          3,
          3,
          4,
          3,
          2,
          2,
          3,
          4,
          3,
          4,
          3,
          3,
          3,
          3,
          2,
          3,
          3,
          3,
          3,
          2,
          3,
          3,
          2,
          4,
          3,
          2,
          3,
          3,
          3,
          1,
          3,
          3,
          4,
          4,
          2,
          3,
          1,
          3,
          3,
          3,
          1,
          3,
          3,
          3,
          4,
          3,
          3,
          2,
          3,
          3,
          3,
          3,
          4,
          2,
          3,
          2,
          2,
          3,
          4,
          3,
          3,
          3,
          2,
          3,
          3,
          3,
          2,
          3,
          2,
          3,
          3,
          3,
          3,
          3,
          3,
          3,
          3,
          2,
          1,
          3,
          3,
          2,
          3,
          3,
          3,
          3,
          3,
          3,
          2,
          4,
          4,
          3,
          2,
          3,
          1,
          2,
          2,
          3,
          2,
          3,
          3,
          3,
          3,
          3,
          3,
          3,
          2,
          2,
          4,
          2,
          3,
          3,
          3,
          3,
          3,
          2,
          2,
          3,
          2,
          3,
          3,
          3,
          3,
          3,
          1,
          3,
          3,
          3,
          3,
          2,
          3,
          3,
          3,
          2,
          3,
          3,
          3,
          2,
          3,
          4,
          3,
          2,
          2,
          3,
          2,
          3,
          3,
          3,
          2,
          3,
          2,
          3,
          3,
          2,
          3,
          3,
          3,
          2,
          3,
          3,
          1,
          3,
          4,
          3,
          3,
          3,
          3,
          3,
          3,
          2,
          3,
          4,
          3,
          3,
          3,
          3,
          3,
          3,
          3,
          2,
          3,
          3,
          4,
          3,
          3,
          3,
          2,
          3,
          3,
          2,
          3,
          3,
          2,
          3,
          1,
          3,
          3,
          3,
          3,
          3,
          3,
          2,
          3,
          3,
          3,
          3,
          2,
          1,
          3,
          3,
          1,
          2,
          4,
          3,
          3,
          1,
          1,
          3,
          3,
          2,
          3,
          2,
          4,
          3,
          1,
          3,
          3,
          3,
          3,
          4,
          3,
          3,
          3,
          2,
          3,
          3,
          3,
          3,
          3,
          3,
          4,
          2,
          4,
          4,
          3,
          2,
          3,
          3,
          3,
          3,
          3,
          4,
          2,
          3,
          3,
          3,
          3,
          3,
          2,
          3,
          3,
          4,
          3,
          3,
          3,
          3,
          3,
          4,
          2,
          2,
          4,
          3,
          2,
          2,
          3,
          1,
          4,
          3,
          3,
          4,
          3,
          3,
          2,
          3,
          4,
          2,
          3,
          3,
          2,
          3,
          1,
          4,
          3,
          3,
          3,
          4,
          3,
          3,
          3,
          3,
          3,
          3,
          3,
          4,
          3,
          2,
          2,
          3,
          3,
          3,
          3,
          3,
          2,
          3,
          2,
          3,
          3,
          3,
          4,
          3,
          2,
          2,
          3,
          3,
          3,
          4,
          1,
          2,
          2,
          1,
          3,
          3,
          4,
          3,
          1,
          3,
          4,
          2,
          3,
          3,
          3,
          3,
          3,
          3,
          2,
          3,
          3,
          3,
          2,
          3,
          3,
          2,
          3,
          3,
          3,
          2,
          3,
          3,
          3,
          4,
          2,
          3,
          3,
          3,
          3,
          3,
          3,
          3,
          2,
          3,
          2,
          2,
          3,
          3,
          3,
          4,
          3,
          1,
          2,
          2,
          2,
          2,
          3,
          2,
          2,
          2,
          2,
          3,
          3,
          2,
          3,
          3,
          3,
          1,
          2,
          3,
          3,
          3,
          3,
          3,
          4,
          3,
          2,
          3,
          3,
          2,
          3,
          3,
          3,
          3,
          3,
          2,
          3,
          3,
          3,
          3,
          4,
          3,
          3,
          3,
          4,
          2,
          2,
          3,
          3,
          3,
          3,
          3,
          3,
          4,
          1,
          2,
          2,
          2,
          3,
          3,
          3,
          2,
          3,
          3,
          3,
          1,
          3,
          4,
          3,
          2,
          3,
          3,
          2,
          4,
          4,
          3,
          3,
          3,
          4,
          3,
          3,
          3,
          3,
          2,
          3,
          4,
          3,
          3,
          3,
          3,
          2,
          3,
          3,
          3,
          3,
          3,
          2,
          2,
          3,
          2,
          3,
          3,
          3,
          3,
          3,
          2,
          4,
          3,
          3,
          3,
          3,
          3,
          3,
          3,
          3,
          2,
          4,
          3,
          2,
          1,
          3,
          3,
          3,
          3,
          3,
          2,
          2,
          2,
          3,
          3,
          3,
          3,
          2,
          4,
          3,
          3,
          3,
          2,
          3,
          2,
          3,
          3,
          3,
          4,
          3,
          2,
          2,
          3,
          3,
          3,
          3,
          2,
          3,
          3,
          3,
          3,
          2,
          3,
          3,
          3,
          4,
          4,
          2,
          3,
          3,
          1,
          3,
          3,
          2,
          2,
          3,
          2,
          4,
          3,
          3,
          3,
          3,
          2,
          1,
          2,
          4,
          3,
          3,
          3,
          3,
          1,
          4,
          3,
          4,
          3,
          3,
          3,
          3,
          2,
          2,
          2,
          3,
          2,
          3,
          3,
          3,
          3,
          3,
          3,
          3,
          3,
          3,
          2,
          3,
          2,
          3,
          3,
          2,
          4,
          3,
          3,
          3,
          3,
          3,
          4,
          3,
          3,
          3,
          2,
          2,
          1,
          3,
          3,
          3,
          2,
          3,
          3,
          3,
          4,
          2,
          2,
          3,
          3,
          4,
          2,
          2,
          3,
          3,
          3,
          3,
          2,
          3,
          3,
          3,
          2,
          2,
          4,
          2,
          2,
          4,
          3,
          3,
          4,
          3,
          3,
          2,
          3,
          2,
          2,
          4,
          3,
          3,
          3,
          3,
          3,
          4,
          3,
          3,
          3,
          3,
          2,
          3,
          2,
          3,
          3,
          3,
          2,
          3,
          3,
          3,
          3,
          3,
          4,
          2,
          3,
          2,
          3,
          3,
          2,
          4,
          3,
          3,
          3,
          3,
          3,
          3,
          3,
          4,
          3,
          4,
          3,
          2,
          3,
          4,
          2,
          3,
          2,
          2,
          1,
          3,
          3,
          3,
          1,
          3,
          3,
          2,
          3,
          2,
          2,
          3,
          4,
          3,
          3,
          4,
          3,
          4,
          2,
          2,
          2,
          1,
          4,
          4,
          3,
          2,
          2,
          2,
          4,
          3,
          3,
          3,
          4,
          3,
          3,
          3,
          3,
          2,
          2,
          4,
          2,
          3,
          3,
          2,
          3,
          2,
          2,
          2,
          3,
          2,
          3,
          3,
          2,
          3,
          4,
          3,
          3,
          2,
          1,
          3,
          3,
          3,
          2,
          3,
          4,
          3,
          4,
          3,
          4,
          1,
          3,
          3,
          3,
          3,
          3,
          3,
          3,
          3,
          3,
          1,
          4,
          3,
          3,
          3,
          3,
          3,
          3,
          3,
          2,
          3,
          2,
          1,
          3,
          3,
          3,
          2,
          2,
          1,
          3,
          2,
          3,
          3,
          4,
          3,
          3,
          3,
          3,
          4,
          3,
          3,
          3,
          3,
          2,
          2,
          3,
          3,
          2,
          1,
          2,
          3,
          3,
          2,
          2,
          3,
          3,
          3,
          3,
          3,
          2,
          3,
          3,
          3,
          2,
          3,
          3,
          3,
          3,
          3,
          2,
          1,
          3,
          4,
          1,
          2,
          3,
          3,
          3,
          3,
          2,
          3,
          3,
          3,
          3,
          3,
          3,
          3,
          3,
          3,
          3,
          3,
          3,
          3,
          3,
          4,
          2,
          3,
          2,
          3,
          2,
          3,
          3,
          3,
          3,
          3,
          3,
          2,
          3,
          2,
          3,
          3,
          3,
          4,
          4,
          3,
          2,
          3,
          3,
          4,
          3,
          3,
          3,
          3,
          2,
          2,
          4,
          3,
          2,
          4,
          3,
          3,
          4,
          3,
          3,
          2,
          1,
          2,
          1,
          2,
          3,
          1,
          2,
          4,
          3,
          3,
          3,
          2,
          4,
          3,
          3,
          2,
          4,
          2,
          3,
          3,
          3,
          3,
          2,
          3,
          2,
          3,
          3,
          2,
          3,
          3,
          3,
          3,
          3,
          3,
          3,
          3,
          2,
          3,
          4,
          3,
          3,
          2,
          2,
          3,
          3,
          3,
          2,
          1,
          4,
          3,
          3,
          3,
          2,
          4,
          3,
          3,
          2,
          3,
          3,
          2,
          3,
          3,
          1,
          4,
          3,
          3,
          2,
          4,
          4,
          2,
          3,
          2,
          3,
          3,
          3,
          3,
          3,
          3,
          3,
          3,
          2,
          3,
          4,
          3,
          3,
          3,
          3,
          3,
          3,
          3,
          2,
          2,
          3,
          2,
          2,
          3,
          3,
          1,
          3,
          4,
          3,
          2,
          2,
          3,
          3,
          2,
          3,
          3,
          2,
          3,
          4,
          3,
          3,
          3,
          2,
          4,
          3,
          3,
          1,
          2,
          4,
          3,
          2,
          2,
          2,
          2,
          3,
          3,
          2,
          3,
          3,
          3,
          2,
          3,
          3,
          3,
          3,
          3,
          3,
          3,
          4,
          3,
          2,
          4,
          4,
          3,
          3,
          2,
          2,
          3,
          2,
          3,
          3,
          3,
          2,
          3,
          1,
          3,
          4,
          3,
          3,
          3,
          2,
          3,
          3,
          3,
          3,
          3,
          2,
          2,
          3,
          3,
          2,
          3,
          3,
          2,
          2,
          3,
          3,
          2,
          3,
          3,
          3,
          3,
          2,
          3,
          3,
          4,
          3,
          3,
          3,
          1,
          2,
          3,
          3,
          3,
          3,
          3,
          2,
          4
         ],
         "xaxis": "x",
         "yaxis": "y"
        }
       ],
       "layout": {
        "barmode": "group",
        "legend": {
         "title": {
          "text": "Attrition Status"
         },
         "tracegroupgap": 0
        },
        "template": {
         "data": {
          "bar": [
           {
            "error_x": {
             "color": "#2a3f5f"
            },
            "error_y": {
             "color": "#2a3f5f"
            },
            "marker": {
             "line": {
              "color": "#E5ECF6",
              "width": 0.5
             },
             "pattern": {
              "fillmode": "overlay",
              "size": 10,
              "solidity": 0.2
             }
            },
            "type": "bar"
           }
          ],
          "barpolar": [
           {
            "marker": {
             "line": {
              "color": "#E5ECF6",
              "width": 0.5
             },
             "pattern": {
              "fillmode": "overlay",
              "size": 10,
              "solidity": 0.2
             }
            },
            "type": "barpolar"
           }
          ],
          "carpet": [
           {
            "aaxis": {
             "endlinecolor": "#2a3f5f",
             "gridcolor": "white",
             "linecolor": "white",
             "minorgridcolor": "white",
             "startlinecolor": "#2a3f5f"
            },
            "baxis": {
             "endlinecolor": "#2a3f5f",
             "gridcolor": "white",
             "linecolor": "white",
             "minorgridcolor": "white",
             "startlinecolor": "#2a3f5f"
            },
            "type": "carpet"
           }
          ],
          "choropleth": [
           {
            "colorbar": {
             "outlinewidth": 0,
             "ticks": ""
            },
            "type": "choropleth"
           }
          ],
          "contour": [
           {
            "colorbar": {
             "outlinewidth": 0,
             "ticks": ""
            },
            "colorscale": [
             [
              0,
              "#0d0887"
             ],
             [
              0.1111111111111111,
              "#46039f"
             ],
             [
              0.2222222222222222,
              "#7201a8"
             ],
             [
              0.3333333333333333,
              "#9c179e"
             ],
             [
              0.4444444444444444,
              "#bd3786"
             ],
             [
              0.5555555555555556,
              "#d8576b"
             ],
             [
              0.6666666666666666,
              "#ed7953"
             ],
             [
              0.7777777777777778,
              "#fb9f3a"
             ],
             [
              0.8888888888888888,
              "#fdca26"
             ],
             [
              1,
              "#f0f921"
             ]
            ],
            "type": "contour"
           }
          ],
          "contourcarpet": [
           {
            "colorbar": {
             "outlinewidth": 0,
             "ticks": ""
            },
            "type": "contourcarpet"
           }
          ],
          "heatmap": [
           {
            "colorbar": {
             "outlinewidth": 0,
             "ticks": ""
            },
            "colorscale": [
             [
              0,
              "#0d0887"
             ],
             [
              0.1111111111111111,
              "#46039f"
             ],
             [
              0.2222222222222222,
              "#7201a8"
             ],
             [
              0.3333333333333333,
              "#9c179e"
             ],
             [
              0.4444444444444444,
              "#bd3786"
             ],
             [
              0.5555555555555556,
              "#d8576b"
             ],
             [
              0.6666666666666666,
              "#ed7953"
             ],
             [
              0.7777777777777778,
              "#fb9f3a"
             ],
             [
              0.8888888888888888,
              "#fdca26"
             ],
             [
              1,
              "#f0f921"
             ]
            ],
            "type": "heatmap"
           }
          ],
          "heatmapgl": [
           {
            "colorbar": {
             "outlinewidth": 0,
             "ticks": ""
            },
            "colorscale": [
             [
              0,
              "#0d0887"
             ],
             [
              0.1111111111111111,
              "#46039f"
             ],
             [
              0.2222222222222222,
              "#7201a8"
             ],
             [
              0.3333333333333333,
              "#9c179e"
             ],
             [
              0.4444444444444444,
              "#bd3786"
             ],
             [
              0.5555555555555556,
              "#d8576b"
             ],
             [
              0.6666666666666666,
              "#ed7953"
             ],
             [
              0.7777777777777778,
              "#fb9f3a"
             ],
             [
              0.8888888888888888,
              "#fdca26"
             ],
             [
              1,
              "#f0f921"
             ]
            ],
            "type": "heatmapgl"
           }
          ],
          "histogram": [
           {
            "marker": {
             "pattern": {
              "fillmode": "overlay",
              "size": 10,
              "solidity": 0.2
             }
            },
            "type": "histogram"
           }
          ],
          "histogram2d": [
           {
            "colorbar": {
             "outlinewidth": 0,
             "ticks": ""
            },
            "colorscale": [
             [
              0,
              "#0d0887"
             ],
             [
              0.1111111111111111,
              "#46039f"
             ],
             [
              0.2222222222222222,
              "#7201a8"
             ],
             [
              0.3333333333333333,
              "#9c179e"
             ],
             [
              0.4444444444444444,
              "#bd3786"
             ],
             [
              0.5555555555555556,
              "#d8576b"
             ],
             [
              0.6666666666666666,
              "#ed7953"
             ],
             [
              0.7777777777777778,
              "#fb9f3a"
             ],
             [
              0.8888888888888888,
              "#fdca26"
             ],
             [
              1,
              "#f0f921"
             ]
            ],
            "type": "histogram2d"
           }
          ],
          "histogram2dcontour": [
           {
            "colorbar": {
             "outlinewidth": 0,
             "ticks": ""
            },
            "colorscale": [
             [
              0,
              "#0d0887"
             ],
             [
              0.1111111111111111,
              "#46039f"
             ],
             [
              0.2222222222222222,
              "#7201a8"
             ],
             [
              0.3333333333333333,
              "#9c179e"
             ],
             [
              0.4444444444444444,
              "#bd3786"
             ],
             [
              0.5555555555555556,
              "#d8576b"
             ],
             [
              0.6666666666666666,
              "#ed7953"
             ],
             [
              0.7777777777777778,
              "#fb9f3a"
             ],
             [
              0.8888888888888888,
              "#fdca26"
             ],
             [
              1,
              "#f0f921"
             ]
            ],
            "type": "histogram2dcontour"
           }
          ],
          "mesh3d": [
           {
            "colorbar": {
             "outlinewidth": 0,
             "ticks": ""
            },
            "type": "mesh3d"
           }
          ],
          "parcoords": [
           {
            "line": {
             "colorbar": {
              "outlinewidth": 0,
              "ticks": ""
             }
            },
            "type": "parcoords"
           }
          ],
          "pie": [
           {
            "automargin": true,
            "type": "pie"
           }
          ],
          "scatter": [
           {
            "fillpattern": {
             "fillmode": "overlay",
             "size": 10,
             "solidity": 0.2
            },
            "type": "scatter"
           }
          ],
          "scatter3d": [
           {
            "line": {
             "colorbar": {
              "outlinewidth": 0,
              "ticks": ""
             }
            },
            "marker": {
             "colorbar": {
              "outlinewidth": 0,
              "ticks": ""
             }
            },
            "type": "scatter3d"
           }
          ],
          "scattercarpet": [
           {
            "marker": {
             "colorbar": {
              "outlinewidth": 0,
              "ticks": ""
             }
            },
            "type": "scattercarpet"
           }
          ],
          "scattergeo": [
           {
            "marker": {
             "colorbar": {
              "outlinewidth": 0,
              "ticks": ""
             }
            },
            "type": "scattergeo"
           }
          ],
          "scattergl": [
           {
            "marker": {
             "colorbar": {
              "outlinewidth": 0,
              "ticks": ""
             }
            },
            "type": "scattergl"
           }
          ],
          "scattermapbox": [
           {
            "marker": {
             "colorbar": {
              "outlinewidth": 0,
              "ticks": ""
             }
            },
            "type": "scattermapbox"
           }
          ],
          "scatterpolar": [
           {
            "marker": {
             "colorbar": {
              "outlinewidth": 0,
              "ticks": ""
             }
            },
            "type": "scatterpolar"
           }
          ],
          "scatterpolargl": [
           {
            "marker": {
             "colorbar": {
              "outlinewidth": 0,
              "ticks": ""
             }
            },
            "type": "scatterpolargl"
           }
          ],
          "scatterternary": [
           {
            "marker": {
             "colorbar": {
              "outlinewidth": 0,
              "ticks": ""
             }
            },
            "type": "scatterternary"
           }
          ],
          "surface": [
           {
            "colorbar": {
             "outlinewidth": 0,
             "ticks": ""
            },
            "colorscale": [
             [
              0,
              "#0d0887"
             ],
             [
              0.1111111111111111,
              "#46039f"
             ],
             [
              0.2222222222222222,
              "#7201a8"
             ],
             [
              0.3333333333333333,
              "#9c179e"
             ],
             [
              0.4444444444444444,
              "#bd3786"
             ],
             [
              0.5555555555555556,
              "#d8576b"
             ],
             [
              0.6666666666666666,
              "#ed7953"
             ],
             [
              0.7777777777777778,
              "#fb9f3a"
             ],
             [
              0.8888888888888888,
              "#fdca26"
             ],
             [
              1,
              "#f0f921"
             ]
            ],
            "type": "surface"
           }
          ],
          "table": [
           {
            "cells": {
             "fill": {
              "color": "#EBF0F8"
             },
             "line": {
              "color": "white"
             }
            },
            "header": {
             "fill": {
              "color": "#C8D4E3"
             },
             "line": {
              "color": "white"
             }
            },
            "type": "table"
           }
          ]
         },
         "layout": {
          "annotationdefaults": {
           "arrowcolor": "#2a3f5f",
           "arrowhead": 0,
           "arrowwidth": 1
          },
          "autotypenumbers": "strict",
          "coloraxis": {
           "colorbar": {
            "outlinewidth": 0,
            "ticks": ""
           }
          },
          "colorscale": {
           "diverging": [
            [
             0,
             "#8e0152"
            ],
            [
             0.1,
             "#c51b7d"
            ],
            [
             0.2,
             "#de77ae"
            ],
            [
             0.3,
             "#f1b6da"
            ],
            [
             0.4,
             "#fde0ef"
            ],
            [
             0.5,
             "#f7f7f7"
            ],
            [
             0.6,
             "#e6f5d0"
            ],
            [
             0.7,
             "#b8e186"
            ],
            [
             0.8,
             "#7fbc41"
            ],
            [
             0.9,
             "#4d9221"
            ],
            [
             1,
             "#276419"
            ]
           ],
           "sequential": [
            [
             0,
             "#0d0887"
            ],
            [
             0.1111111111111111,
             "#46039f"
            ],
            [
             0.2222222222222222,
             "#7201a8"
            ],
            [
             0.3333333333333333,
             "#9c179e"
            ],
            [
             0.4444444444444444,
             "#bd3786"
            ],
            [
             0.5555555555555556,
             "#d8576b"
            ],
            [
             0.6666666666666666,
             "#ed7953"
            ],
            [
             0.7777777777777778,
             "#fb9f3a"
            ],
            [
             0.8888888888888888,
             "#fdca26"
            ],
            [
             1,
             "#f0f921"
            ]
           ],
           "sequentialminus": [
            [
             0,
             "#0d0887"
            ],
            [
             0.1111111111111111,
             "#46039f"
            ],
            [
             0.2222222222222222,
             "#7201a8"
            ],
            [
             0.3333333333333333,
             "#9c179e"
            ],
            [
             0.4444444444444444,
             "#bd3786"
            ],
            [
             0.5555555555555556,
             "#d8576b"
            ],
            [
             0.6666666666666666,
             "#ed7953"
            ],
            [
             0.7777777777777778,
             "#fb9f3a"
            ],
            [
             0.8888888888888888,
             "#fdca26"
            ],
            [
             1,
             "#f0f921"
            ]
           ]
          },
          "colorway": [
           "#636efa",
           "#EF553B",
           "#00cc96",
           "#ab63fa",
           "#FFA15A",
           "#19d3f3",
           "#FF6692",
           "#B6E880",
           "#FF97FF",
           "#FECB52"
          ],
          "font": {
           "color": "#2a3f5f"
          },
          "geo": {
           "bgcolor": "white",
           "lakecolor": "white",
           "landcolor": "#E5ECF6",
           "showlakes": true,
           "showland": true,
           "subunitcolor": "white"
          },
          "hoverlabel": {
           "align": "left"
          },
          "hovermode": "closest",
          "mapbox": {
           "style": "light"
          },
          "paper_bgcolor": "white",
          "plot_bgcolor": "#E5ECF6",
          "polar": {
           "angularaxis": {
            "gridcolor": "white",
            "linecolor": "white",
            "ticks": ""
           },
           "bgcolor": "#E5ECF6",
           "radialaxis": {
            "gridcolor": "white",
            "linecolor": "white",
            "ticks": ""
           }
          },
          "scene": {
           "xaxis": {
            "backgroundcolor": "#E5ECF6",
            "gridcolor": "white",
            "gridwidth": 2,
            "linecolor": "white",
            "showbackground": true,
            "ticks": "",
            "zerolinecolor": "white"
           },
           "yaxis": {
            "backgroundcolor": "#E5ECF6",
            "gridcolor": "white",
            "gridwidth": 2,
            "linecolor": "white",
            "showbackground": true,
            "ticks": "",
            "zerolinecolor": "white"
           },
           "zaxis": {
            "backgroundcolor": "#E5ECF6",
            "gridcolor": "white",
            "gridwidth": 2,
            "linecolor": "white",
            "showbackground": true,
            "ticks": "",
            "zerolinecolor": "white"
           }
          },
          "shapedefaults": {
           "line": {
            "color": "#2a3f5f"
           }
          },
          "ternary": {
           "aaxis": {
            "gridcolor": "white",
            "linecolor": "white",
            "ticks": ""
           },
           "baxis": {
            "gridcolor": "white",
            "linecolor": "white",
            "ticks": ""
           },
           "bgcolor": "#E5ECF6",
           "caxis": {
            "gridcolor": "white",
            "linecolor": "white",
            "ticks": ""
           }
          },
          "title": {
           "x": 0.05
          },
          "xaxis": {
           "automargin": true,
           "gridcolor": "white",
           "linecolor": "white",
           "ticks": "",
           "title": {
            "standoff": 15
           },
           "zerolinecolor": "white",
           "zerolinewidth": 2
          },
          "yaxis": {
           "automargin": true,
           "gridcolor": "white",
           "linecolor": "white",
           "ticks": "",
           "title": {
            "standoff": 15
           },
           "zerolinecolor": "white",
           "zerolinewidth": 2
          }
         }
        },
        "title": {
         "text": "Attrition vs. Work-Life Balance"
        },
        "xaxis": {
         "anchor": "y",
         "domain": [
          0,
          1
         ],
         "title": {
          "text": "Work-Life Balance Level"
         }
        },
        "yaxis": {
         "anchor": "x",
         "domain": [
          0,
          1
         ],
         "title": {
          "text": "count"
         }
        }
       }
      }
     },
     "metadata": {},
     "output_type": "display_data"
    }
   ],
   "source": [
    "# Attrition vs. Work-Life Balance\n",
    "fig_work_life = px.histogram(\n",
    "    df_cleaned, x=\"WorkLifeBalance\", color=\"Attrition\",\n",
    "    title=\"Attrition vs. Work-Life Balance\",\n",
    "    labels={\"WorkLifeBalance\": \"Work-Life Balance Level\", \"Attrition\": \"Attrition Status\"},\n",
    "    barmode=\"group\",\n",
    "    color_discrete_sequence=[\"#EF553B\", \"#636EFA\"],\n",
    "        text_auto= True\n",
    ")\n",
    "fig_work_life.show()\n"
   ]
  },
  {
   "cell_type": "markdown",
   "metadata": {},
   "source": [
    "### Predictive Model for Employee Attrition"
   ]
  },
  {
   "cell_type": "code",
   "execution_count": 38,
   "metadata": {},
   "outputs": [],
   "source": [
    "# Encode categorical variables\n",
    "df_encoded = df_cleaned.copy()\n",
    "label_encoders = {}\n",
    "\n",
    "for col in df_encoded.select_dtypes(include=[\"object\"]).columns:\n",
    "    le = LabelEncoder()\n",
    "    df_encoded[col] = le.fit_transform(df_encoded[col])\n",
    "    label_encoders[col] = le"
   ]
  },
  {
   "cell_type": "code",
   "execution_count": 39,
   "metadata": {},
   "outputs": [],
   "source": [
    "# Define features and target variable\n",
    "X = df_encoded.drop(columns=[\"Attrition\"])  # Features\n",
    "y = df_encoded[\"Attrition\"]  # Target variable"
   ]
  },
  {
   "cell_type": "code",
   "execution_count": 40,
   "metadata": {},
   "outputs": [],
   "source": [
    "# Split data into training and test sets (80% train, 20% test)\n",
    "X_train, X_test, y_train, y_test = train_test_split(X, y, test_size=0.2, random_state=42)"
   ]
  },
  {
   "cell_type": "code",
   "execution_count": 41,
   "metadata": {},
   "outputs": [],
   "source": [
    "# Scale the features\n",
    "scaler = StandardScaler()\n",
    "X_train_scaled = scaler.fit_transform(X_train)\n",
    "X_test_scaled = scaler.transform(X_test)"
   ]
  },
  {
   "cell_type": "code",
   "execution_count": 42,
   "metadata": {},
   "outputs": [
    {
     "data": {
      "text/html": [
       "<style>#sk-container-id-2 {\n",
       "  /* Definition of color scheme common for light and dark mode */\n",
       "  --sklearn-color-text: black;\n",
       "  --sklearn-color-line: gray;\n",
       "  /* Definition of color scheme for unfitted estimators */\n",
       "  --sklearn-color-unfitted-level-0: #fff5e6;\n",
       "  --sklearn-color-unfitted-level-1: #f6e4d2;\n",
       "  --sklearn-color-unfitted-level-2: #ffe0b3;\n",
       "  --sklearn-color-unfitted-level-3: chocolate;\n",
       "  /* Definition of color scheme for fitted estimators */\n",
       "  --sklearn-color-fitted-level-0: #f0f8ff;\n",
       "  --sklearn-color-fitted-level-1: #d4ebff;\n",
       "  --sklearn-color-fitted-level-2: #b3dbfd;\n",
       "  --sklearn-color-fitted-level-3: cornflowerblue;\n",
       "\n",
       "  /* Specific color for light theme */\n",
       "  --sklearn-color-text-on-default-background: var(--sg-text-color, var(--theme-code-foreground, var(--jp-content-font-color1, black)));\n",
       "  --sklearn-color-background: var(--sg-background-color, var(--theme-background, var(--jp-layout-color0, white)));\n",
       "  --sklearn-color-border-box: var(--sg-text-color, var(--theme-code-foreground, var(--jp-content-font-color1, black)));\n",
       "  --sklearn-color-icon: #696969;\n",
       "\n",
       "  @media (prefers-color-scheme: dark) {\n",
       "    /* Redefinition of color scheme for dark theme */\n",
       "    --sklearn-color-text-on-default-background: var(--sg-text-color, var(--theme-code-foreground, var(--jp-content-font-color1, white)));\n",
       "    --sklearn-color-background: var(--sg-background-color, var(--theme-background, var(--jp-layout-color0, #111)));\n",
       "    --sklearn-color-border-box: var(--sg-text-color, var(--theme-code-foreground, var(--jp-content-font-color1, white)));\n",
       "    --sklearn-color-icon: #878787;\n",
       "  }\n",
       "}\n",
       "\n",
       "#sk-container-id-2 {\n",
       "  color: var(--sklearn-color-text);\n",
       "}\n",
       "\n",
       "#sk-container-id-2 pre {\n",
       "  padding: 0;\n",
       "}\n",
       "\n",
       "#sk-container-id-2 input.sk-hidden--visually {\n",
       "  border: 0;\n",
       "  clip: rect(1px 1px 1px 1px);\n",
       "  clip: rect(1px, 1px, 1px, 1px);\n",
       "  height: 1px;\n",
       "  margin: -1px;\n",
       "  overflow: hidden;\n",
       "  padding: 0;\n",
       "  position: absolute;\n",
       "  width: 1px;\n",
       "}\n",
       "\n",
       "#sk-container-id-2 div.sk-dashed-wrapped {\n",
       "  border: 1px dashed var(--sklearn-color-line);\n",
       "  margin: 0 0.4em 0.5em 0.4em;\n",
       "  box-sizing: border-box;\n",
       "  padding-bottom: 0.4em;\n",
       "  background-color: var(--sklearn-color-background);\n",
       "}\n",
       "\n",
       "#sk-container-id-2 div.sk-container {\n",
       "  /* jupyter's `normalize.less` sets `[hidden] { display: none; }`\n",
       "     but bootstrap.min.css set `[hidden] { display: none !important; }`\n",
       "     so we also need the `!important` here to be able to override the\n",
       "     default hidden behavior on the sphinx rendered scikit-learn.org.\n",
       "     See: https://github.com/scikit-learn/scikit-learn/issues/21755 */\n",
       "  display: inline-block !important;\n",
       "  position: relative;\n",
       "}\n",
       "\n",
       "#sk-container-id-2 div.sk-text-repr-fallback {\n",
       "  display: none;\n",
       "}\n",
       "\n",
       "div.sk-parallel-item,\n",
       "div.sk-serial,\n",
       "div.sk-item {\n",
       "  /* draw centered vertical line to link estimators */\n",
       "  background-image: linear-gradient(var(--sklearn-color-text-on-default-background), var(--sklearn-color-text-on-default-background));\n",
       "  background-size: 2px 100%;\n",
       "  background-repeat: no-repeat;\n",
       "  background-position: center center;\n",
       "}\n",
       "\n",
       "/* Parallel-specific style estimator block */\n",
       "\n",
       "#sk-container-id-2 div.sk-parallel-item::after {\n",
       "  content: \"\";\n",
       "  width: 100%;\n",
       "  border-bottom: 2px solid var(--sklearn-color-text-on-default-background);\n",
       "  flex-grow: 1;\n",
       "}\n",
       "\n",
       "#sk-container-id-2 div.sk-parallel {\n",
       "  display: flex;\n",
       "  align-items: stretch;\n",
       "  justify-content: center;\n",
       "  background-color: var(--sklearn-color-background);\n",
       "  position: relative;\n",
       "}\n",
       "\n",
       "#sk-container-id-2 div.sk-parallel-item {\n",
       "  display: flex;\n",
       "  flex-direction: column;\n",
       "}\n",
       "\n",
       "#sk-container-id-2 div.sk-parallel-item:first-child::after {\n",
       "  align-self: flex-end;\n",
       "  width: 50%;\n",
       "}\n",
       "\n",
       "#sk-container-id-2 div.sk-parallel-item:last-child::after {\n",
       "  align-self: flex-start;\n",
       "  width: 50%;\n",
       "}\n",
       "\n",
       "#sk-container-id-2 div.sk-parallel-item:only-child::after {\n",
       "  width: 0;\n",
       "}\n",
       "\n",
       "/* Serial-specific style estimator block */\n",
       "\n",
       "#sk-container-id-2 div.sk-serial {\n",
       "  display: flex;\n",
       "  flex-direction: column;\n",
       "  align-items: center;\n",
       "  background-color: var(--sklearn-color-background);\n",
       "  padding-right: 1em;\n",
       "  padding-left: 1em;\n",
       "}\n",
       "\n",
       "\n",
       "/* Toggleable style: style used for estimator/Pipeline/ColumnTransformer box that is\n",
       "clickable and can be expanded/collapsed.\n",
       "- Pipeline and ColumnTransformer use this feature and define the default style\n",
       "- Estimators will overwrite some part of the style using the `sk-estimator` class\n",
       "*/\n",
       "\n",
       "/* Pipeline and ColumnTransformer style (default) */\n",
       "\n",
       "#sk-container-id-2 div.sk-toggleable {\n",
       "  /* Default theme specific background. It is overwritten whether we have a\n",
       "  specific estimator or a Pipeline/ColumnTransformer */\n",
       "  background-color: var(--sklearn-color-background);\n",
       "}\n",
       "\n",
       "/* Toggleable label */\n",
       "#sk-container-id-2 label.sk-toggleable__label {\n",
       "  cursor: pointer;\n",
       "  display: block;\n",
       "  width: 100%;\n",
       "  margin-bottom: 0;\n",
       "  padding: 0.5em;\n",
       "  box-sizing: border-box;\n",
       "  text-align: center;\n",
       "}\n",
       "\n",
       "#sk-container-id-2 label.sk-toggleable__label-arrow:before {\n",
       "  /* Arrow on the left of the label */\n",
       "  content: \"▸\";\n",
       "  float: left;\n",
       "  margin-right: 0.25em;\n",
       "  color: var(--sklearn-color-icon);\n",
       "}\n",
       "\n",
       "#sk-container-id-2 label.sk-toggleable__label-arrow:hover:before {\n",
       "  color: var(--sklearn-color-text);\n",
       "}\n",
       "\n",
       "/* Toggleable content - dropdown */\n",
       "\n",
       "#sk-container-id-2 div.sk-toggleable__content {\n",
       "  max-height: 0;\n",
       "  max-width: 0;\n",
       "  overflow: hidden;\n",
       "  text-align: left;\n",
       "  /* unfitted */\n",
       "  background-color: var(--sklearn-color-unfitted-level-0);\n",
       "}\n",
       "\n",
       "#sk-container-id-2 div.sk-toggleable__content.fitted {\n",
       "  /* fitted */\n",
       "  background-color: var(--sklearn-color-fitted-level-0);\n",
       "}\n",
       "\n",
       "#sk-container-id-2 div.sk-toggleable__content pre {\n",
       "  margin: 0.2em;\n",
       "  border-radius: 0.25em;\n",
       "  color: var(--sklearn-color-text);\n",
       "  /* unfitted */\n",
       "  background-color: var(--sklearn-color-unfitted-level-0);\n",
       "}\n",
       "\n",
       "#sk-container-id-2 div.sk-toggleable__content.fitted pre {\n",
       "  /* unfitted */\n",
       "  background-color: var(--sklearn-color-fitted-level-0);\n",
       "}\n",
       "\n",
       "#sk-container-id-2 input.sk-toggleable__control:checked~div.sk-toggleable__content {\n",
       "  /* Expand drop-down */\n",
       "  max-height: 200px;\n",
       "  max-width: 100%;\n",
       "  overflow: auto;\n",
       "}\n",
       "\n",
       "#sk-container-id-2 input.sk-toggleable__control:checked~label.sk-toggleable__label-arrow:before {\n",
       "  content: \"▾\";\n",
       "}\n",
       "\n",
       "/* Pipeline/ColumnTransformer-specific style */\n",
       "\n",
       "#sk-container-id-2 div.sk-label input.sk-toggleable__control:checked~label.sk-toggleable__label {\n",
       "  color: var(--sklearn-color-text);\n",
       "  background-color: var(--sklearn-color-unfitted-level-2);\n",
       "}\n",
       "\n",
       "#sk-container-id-2 div.sk-label.fitted input.sk-toggleable__control:checked~label.sk-toggleable__label {\n",
       "  background-color: var(--sklearn-color-fitted-level-2);\n",
       "}\n",
       "\n",
       "/* Estimator-specific style */\n",
       "\n",
       "/* Colorize estimator box */\n",
       "#sk-container-id-2 div.sk-estimator input.sk-toggleable__control:checked~label.sk-toggleable__label {\n",
       "  /* unfitted */\n",
       "  background-color: var(--sklearn-color-unfitted-level-2);\n",
       "}\n",
       "\n",
       "#sk-container-id-2 div.sk-estimator.fitted input.sk-toggleable__control:checked~label.sk-toggleable__label {\n",
       "  /* fitted */\n",
       "  background-color: var(--sklearn-color-fitted-level-2);\n",
       "}\n",
       "\n",
       "#sk-container-id-2 div.sk-label label.sk-toggleable__label,\n",
       "#sk-container-id-2 div.sk-label label {\n",
       "  /* The background is the default theme color */\n",
       "  color: var(--sklearn-color-text-on-default-background);\n",
       "}\n",
       "\n",
       "/* On hover, darken the color of the background */\n",
       "#sk-container-id-2 div.sk-label:hover label.sk-toggleable__label {\n",
       "  color: var(--sklearn-color-text);\n",
       "  background-color: var(--sklearn-color-unfitted-level-2);\n",
       "}\n",
       "\n",
       "/* Label box, darken color on hover, fitted */\n",
       "#sk-container-id-2 div.sk-label.fitted:hover label.sk-toggleable__label.fitted {\n",
       "  color: var(--sklearn-color-text);\n",
       "  background-color: var(--sklearn-color-fitted-level-2);\n",
       "}\n",
       "\n",
       "/* Estimator label */\n",
       "\n",
       "#sk-container-id-2 div.sk-label label {\n",
       "  font-family: monospace;\n",
       "  font-weight: bold;\n",
       "  display: inline-block;\n",
       "  line-height: 1.2em;\n",
       "}\n",
       "\n",
       "#sk-container-id-2 div.sk-label-container {\n",
       "  text-align: center;\n",
       "}\n",
       "\n",
       "/* Estimator-specific */\n",
       "#sk-container-id-2 div.sk-estimator {\n",
       "  font-family: monospace;\n",
       "  border: 1px dotted var(--sklearn-color-border-box);\n",
       "  border-radius: 0.25em;\n",
       "  box-sizing: border-box;\n",
       "  margin-bottom: 0.5em;\n",
       "  /* unfitted */\n",
       "  background-color: var(--sklearn-color-unfitted-level-0);\n",
       "}\n",
       "\n",
       "#sk-container-id-2 div.sk-estimator.fitted {\n",
       "  /* fitted */\n",
       "  background-color: var(--sklearn-color-fitted-level-0);\n",
       "}\n",
       "\n",
       "/* on hover */\n",
       "#sk-container-id-2 div.sk-estimator:hover {\n",
       "  /* unfitted */\n",
       "  background-color: var(--sklearn-color-unfitted-level-2);\n",
       "}\n",
       "\n",
       "#sk-container-id-2 div.sk-estimator.fitted:hover {\n",
       "  /* fitted */\n",
       "  background-color: var(--sklearn-color-fitted-level-2);\n",
       "}\n",
       "\n",
       "/* Specification for estimator info (e.g. \"i\" and \"?\") */\n",
       "\n",
       "/* Common style for \"i\" and \"?\" */\n",
       "\n",
       ".sk-estimator-doc-link,\n",
       "a:link.sk-estimator-doc-link,\n",
       "a:visited.sk-estimator-doc-link {\n",
       "  float: right;\n",
       "  font-size: smaller;\n",
       "  line-height: 1em;\n",
       "  font-family: monospace;\n",
       "  background-color: var(--sklearn-color-background);\n",
       "  border-radius: 1em;\n",
       "  height: 1em;\n",
       "  width: 1em;\n",
       "  text-decoration: none !important;\n",
       "  margin-left: 1ex;\n",
       "  /* unfitted */\n",
       "  border: var(--sklearn-color-unfitted-level-1) 1pt solid;\n",
       "  color: var(--sklearn-color-unfitted-level-1);\n",
       "}\n",
       "\n",
       ".sk-estimator-doc-link.fitted,\n",
       "a:link.sk-estimator-doc-link.fitted,\n",
       "a:visited.sk-estimator-doc-link.fitted {\n",
       "  /* fitted */\n",
       "  border: var(--sklearn-color-fitted-level-1) 1pt solid;\n",
       "  color: var(--sklearn-color-fitted-level-1);\n",
       "}\n",
       "\n",
       "/* On hover */\n",
       "div.sk-estimator:hover .sk-estimator-doc-link:hover,\n",
       ".sk-estimator-doc-link:hover,\n",
       "div.sk-label-container:hover .sk-estimator-doc-link:hover,\n",
       ".sk-estimator-doc-link:hover {\n",
       "  /* unfitted */\n",
       "  background-color: var(--sklearn-color-unfitted-level-3);\n",
       "  color: var(--sklearn-color-background);\n",
       "  text-decoration: none;\n",
       "}\n",
       "\n",
       "div.sk-estimator.fitted:hover .sk-estimator-doc-link.fitted:hover,\n",
       ".sk-estimator-doc-link.fitted:hover,\n",
       "div.sk-label-container:hover .sk-estimator-doc-link.fitted:hover,\n",
       ".sk-estimator-doc-link.fitted:hover {\n",
       "  /* fitted */\n",
       "  background-color: var(--sklearn-color-fitted-level-3);\n",
       "  color: var(--sklearn-color-background);\n",
       "  text-decoration: none;\n",
       "}\n",
       "\n",
       "/* Span, style for the box shown on hovering the info icon */\n",
       ".sk-estimator-doc-link span {\n",
       "  display: none;\n",
       "  z-index: 9999;\n",
       "  position: relative;\n",
       "  font-weight: normal;\n",
       "  right: .2ex;\n",
       "  padding: .5ex;\n",
       "  margin: .5ex;\n",
       "  width: min-content;\n",
       "  min-width: 20ex;\n",
       "  max-width: 50ex;\n",
       "  color: var(--sklearn-color-text);\n",
       "  box-shadow: 2pt 2pt 4pt #999;\n",
       "  /* unfitted */\n",
       "  background: var(--sklearn-color-unfitted-level-0);\n",
       "  border: .5pt solid var(--sklearn-color-unfitted-level-3);\n",
       "}\n",
       "\n",
       ".sk-estimator-doc-link.fitted span {\n",
       "  /* fitted */\n",
       "  background: var(--sklearn-color-fitted-level-0);\n",
       "  border: var(--sklearn-color-fitted-level-3);\n",
       "}\n",
       "\n",
       ".sk-estimator-doc-link:hover span {\n",
       "  display: block;\n",
       "}\n",
       "\n",
       "/* \"?\"-specific style due to the `<a>` HTML tag */\n",
       "\n",
       "#sk-container-id-2 a.estimator_doc_link {\n",
       "  float: right;\n",
       "  font-size: 1rem;\n",
       "  line-height: 1em;\n",
       "  font-family: monospace;\n",
       "  background-color: var(--sklearn-color-background);\n",
       "  border-radius: 1rem;\n",
       "  height: 1rem;\n",
       "  width: 1rem;\n",
       "  text-decoration: none;\n",
       "  /* unfitted */\n",
       "  color: var(--sklearn-color-unfitted-level-1);\n",
       "  border: var(--sklearn-color-unfitted-level-1) 1pt solid;\n",
       "}\n",
       "\n",
       "#sk-container-id-2 a.estimator_doc_link.fitted {\n",
       "  /* fitted */\n",
       "  border: var(--sklearn-color-fitted-level-1) 1pt solid;\n",
       "  color: var(--sklearn-color-fitted-level-1);\n",
       "}\n",
       "\n",
       "/* On hover */\n",
       "#sk-container-id-2 a.estimator_doc_link:hover {\n",
       "  /* unfitted */\n",
       "  background-color: var(--sklearn-color-unfitted-level-3);\n",
       "  color: var(--sklearn-color-background);\n",
       "  text-decoration: none;\n",
       "}\n",
       "\n",
       "#sk-container-id-2 a.estimator_doc_link.fitted:hover {\n",
       "  /* fitted */\n",
       "  background-color: var(--sklearn-color-fitted-level-3);\n",
       "}\n",
       "</style><div id=\"sk-container-id-2\" class=\"sk-top-container\"><div class=\"sk-text-repr-fallback\"><pre>LogisticRegression()</pre><b>In a Jupyter environment, please rerun this cell to show the HTML representation or trust the notebook. <br />On GitHub, the HTML representation is unable to render, please try loading this page with nbviewer.org.</b></div><div class=\"sk-container\" hidden><div class=\"sk-item\"><div class=\"sk-estimator fitted sk-toggleable\"><input class=\"sk-toggleable__control sk-hidden--visually\" id=\"sk-estimator-id-2\" type=\"checkbox\" checked><label for=\"sk-estimator-id-2\" class=\"sk-toggleable__label fitted sk-toggleable__label-arrow fitted\">&nbsp;&nbsp;LogisticRegression<a class=\"sk-estimator-doc-link fitted\" rel=\"noreferrer\" target=\"_blank\" href=\"https://scikit-learn.org/1.5/modules/generated/sklearn.linear_model.LogisticRegression.html\">?<span>Documentation for LogisticRegression</span></a><span class=\"sk-estimator-doc-link fitted\">i<span>Fitted</span></span></label><div class=\"sk-toggleable__content fitted\"><pre>LogisticRegression()</pre></div> </div></div></div></div>"
      ],
      "text/plain": [
       "LogisticRegression()"
      ]
     },
     "execution_count": 42,
     "metadata": {},
     "output_type": "execute_result"
    }
   ],
   "source": [
    "# Train a logistic regression model\n",
    "model = LogisticRegression()\n",
    "model.fit(X_train_scaled, y_train)"
   ]
  },
  {
   "cell_type": "code",
   "execution_count": 43,
   "metadata": {},
   "outputs": [],
   "source": [
    "# Make predictions\n",
    "y_pred = model.predict(X_test_scaled)"
   ]
  },
  {
   "cell_type": "code",
   "execution_count": null,
   "metadata": {},
   "outputs": [
    {
     "data": {
      "text/plain": [
       "(0.8945578231292517,\n",
       " '              precision    recall  f1-score   support\\n\\n           0       0.91      0.98      0.94       255\\n           1       0.70      0.36      0.47        39\\n\\n    accuracy                           0.89       294\\n   macro avg       0.80      0.67      0.71       294\\nweighted avg       0.88      0.89      0.88       294\\n')"
      ]
     },
     "execution_count": 44,
     "metadata": {},
     "output_type": "execute_result"
    }
   ],
   "source": [
    "# Evaluate the model\n",
    "accuracy = accuracy_score(y_test, y_pred)\n",
    "print(f\"Model Accuracy: {accuracy:.2f}\")\n",
    "print(classification_report(y_test, y_pred))\n"
   ]
  },
  {
   "cell_type": "markdown",
   "metadata": {},
   "source": [
    "### ✅ Model Results\n",
    "    Accuracy: 89.5%\n",
    "    Precision & Recall:\n",
    "    Employees Staying (0): 91% precision, 98% recall\n",
    "    Employees Leaving (1): 70% precision, 36% recall\n",
    "    🔹 Interpretation: The model predicts employees staying well but struggles with employees leaving (attrition cases are fewer)."
   ]
  }
 ],
 "metadata": {
  "kernelspec": {
   "display_name": "base",
   "language": "python",
   "name": "python3"
  },
  "language_info": {
   "codemirror_mode": {
    "name": "ipython",
    "version": 3
   },
   "file_extension": ".py",
   "mimetype": "text/x-python",
   "name": "python",
   "nbconvert_exporter": "python",
   "pygments_lexer": "ipython3",
   "version": "3.12.7"
  }
 },
 "nbformat": 4,
 "nbformat_minor": 2
}
